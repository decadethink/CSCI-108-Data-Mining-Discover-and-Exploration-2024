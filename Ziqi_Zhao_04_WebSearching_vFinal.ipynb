{
 "cells": [
  {
   "cell_type": "markdown",
   "id": "967b4d75",
   "metadata": {},
   "source": [
    "# Assignment 04\n",
    "## Web Search\n",
    "## CSCI E-108   \n",
    "\n",
    "> **Instructions:** For this assignment you will complete the exercises shown. Most exercises involve creating and executing some Python code. Additionally, most exercises have questions for you to answer. You can answer questions by creating a Markdown cell and writing your answer. If you are not familiar with Markdown, you can find a brief tutorial [here](https://www.markdownguide.org/cheat-sheet/).     \n",
    "\n",
    "In this assignment you will gain some experience and insight into how web search algorithms work. Specifically, you will implement versions of three algorithms, simple PageRank, damped PageRank, and the HITS algorithm. All three of these algorithms use a **directed graph model** of the web.   \n",
    "\n",
    "The small data examples and coding methods used here are not directly scalable to web sized problems. Rather, the point is for you to understand the basic characteristics of these web search algorithms. Web scale searching requires massive resources not readily available to most people. "
   ]
  },
  {
   "cell_type": "markdown",
   "id": "c4218530",
   "metadata": {},
   "source": [
    "## Simple PageRank Example\n",
    "\n",
    "To get a feeling for the basics of the PageRank algorithm you will create and test simple code. \n",
    "\n",
    "As a first step, execute the code in the cell below to import the packages you will need for the exercises. "
   ]
  },
  {
   "cell_type": "code",
   "execution_count": 169,
   "id": "60a1d748",
   "metadata": {},
   "outputs": [],
   "source": [
    "import numpy as np"
   ]
  },
  {
   "cell_type": "markdown",
   "id": "320e8bbe",
   "metadata": {},
   "source": [
    "### Directed Graph of Web Pages\n",
    "\n",
    "We will start with a simple example. Figure 1 shows a set of web pages and their hyperlinks. This is a **directed graph** with the **pages as nodes** and the **hyperlinks as the directed edges**. This graph is **complete**. Every page is accessible from any other page, possibly with visits to intermediate nodes required.  \n",
    "\n",
    "<img src=\"../Web1.png\" alt=\"Drawing\" style=\"width:500px; height:400px\"/>\n",
    "<center>Figure 1: A small set of web pages</center>\n",
    "\n",
    "The directed edges of the graph define the association between the nodes. For the **association matrix**, a directed edge, or hyperlink, runs from a node's column to the terminal node's row. The association is binary. The directed edge either exists or it does not. "
   ]
  },
  {
   "cell_type": "markdown",
   "id": "af1a3f1b",
   "metadata": {},
   "source": [
    "> **Exercise 04-1:** In the cell below you will create the association matrix and the initial page probability vector. Do the following:  \n",
    "> 1. Create the association matrix, $A$, using [numpy.array](https://numpy.org/doc/stable/reference/generated/numpy.array.html). This matrix is constructed with a 1 where a page in a column has a directed edge linking to another page in a row, and 0 elsewhere. In matrix notation, the element $a_{i,j}$ indicates the presence or absence of a directed edge from node $n_j$ to node $n_i$.   \n",
    "> 2. Print the shape of your association matrix as a check.\n",
    "> 3. Print the in degree and out degree of each node in your association matrix, using [numpy.sum](https://numpy.org/doc/stable/reference/generated/numpy.sum.html). Set the argument `axis` to 1 to sum across rows and 0 to sum down columns. "
   ]
  },
  {
   "cell_type": "code",
   "execution_count": 170,
   "id": "78bcdbf0",
   "metadata": {},
   "outputs": [
    {
     "name": "stdout",
     "output_type": "stream",
     "text": [
      "Shape of association matrix: (5, 5)\n",
      "In-degree of each node: [2 1 1 4 3]\n",
      "Out-degree of each node: [3 3 2 2 1]\n"
     ]
    }
   ],
   "source": [
    "# Create the association matrix\n",
    "A = np.array([\n",
    "    [0, 1, 1, 1, 0],  \n",
    "    [1, 0, 0, 1, 1],   \n",
    "    [0, 0, 0, 1, 1],   \n",
    "    [1, 0, 0, 0, 1],\n",
    "    [0, 0, 0, 1, 0]\n",
    "])\n",
    "\n",
    "print(\"Shape of association matrix:\", A.shape)\n",
    "\n",
    "# Calculate the in degree and out degree of each node\n",
    "in_degree = np.sum(A, axis=0)  \n",
    "out_degree = np.sum(A, axis=1) \n",
    "\n",
    "# Print results\n",
    "print(\"In-degree of each node:\", in_degree)\n",
    "print(\"Out-degree of each node:\", out_degree)"
   ]
  },
  {
   "cell_type": "markdown",
   "id": "4723ad6b",
   "metadata": {},
   "source": [
    "> Are the out degree and in degree you computed from the association matrix consistent with the graph in Figure 1?    \n",
    "> **End of exercise.**"
   ]
  },
  {
   "cell_type": "markdown",
   "id": "edb63780",
   "metadata": {},
   "source": [
    "> **Answer:**   Yes, they look to be consistent.     "
   ]
  },
  {
   "cell_type": "markdown",
   "id": "e1fc5fd8",
   "metadata": {},
   "source": [
    "### Apply Simple Page Rank\n",
    "\n",
    "The normalized transition probability matrix, $M$, is then computed from the association matrix, $A$: \n",
    "\n",
    "$$M = A D^{-1}$$\n",
    "\n",
    "Where, $D^{-1}$ is the inverse of a matrix with the out degree values on the diagonal and zeros elsewhere.  \n",
    "\n",
    "You can see from the foregoing that $M$ distributes the influence of the page by the in|verse of the out degree. In other words, the influence is inversely weighted by the number of pages each page links to. "
   ]
  },
  {
   "cell_type": "markdown",
   "id": "2cd99dfa",
   "metadata": {},
   "source": [
    "> **Exercise 04-2:** You will now compute the normalized transition matrix, $M$. To do so create a function called `norm_association` with the association matrix as the argument. Do the following: \n",
    "> 1. Create your function `norm_association` which will do the following:  \n",
    ">    - Compute the sum of the columns of the association matrix using `numpy.sum` with the `axis=0` argument to sum along columns. \n",
    ">   - Compute the inverse of the column sums as a vector. Be sure to avoid zero divides, which will occur in subsequent exercises. Use the `where` argument of [numpy.divide](https://numpy.org/doc/stable/reference/generated/numpy.divide.html) to do so. If the column sum is 0 the inverse is set to 0.0.   \n",
    ">   - Create a square diagonal matrix from the inverse column sums using [numpy.diag](https://numpy.org/doc/stable/reference/generated/numpy.diag.html) to form the inverse out degree diagonal matrix.\n",
    ">  - Finally, return the matrix product of the association matrix and the (diagonal) inverse out degree matrix using [numpy.matmul](https://numpy.org/doc/stable/reference/generated/numpy.matmul.html).  \n",
    "> 2. Save and print the normalized transition matrix.  \n",
    "> 3. Compute and print the column sums of the normalized transition matrix to ensure they all add to 1.0. \n",
    "> Execute the code you have created and examine the results. "
   ]
  },
  {
   "cell_type": "code",
   "execution_count": 171,
   "id": "5f24b853",
   "metadata": {},
   "outputs": [
    {
     "name": "stdout",
     "output_type": "stream",
     "text": [
      "[3 3 2 2 1]\n",
      "[[0.         0.33333333 0.         0.5        0.        ]\n",
      " [0.33333333 0.         0.         0.         0.        ]\n",
      " [0.33333333 0.         0.         0.         0.        ]\n",
      " [0.33333333 0.33333333 0.5        0.         1.        ]\n",
      " [0.         0.33333333 0.5        0.5        0.        ]]\n",
      "The column sums = [1. 1. 1. 1. 1.]\n"
     ]
    }
   ],
   "source": [
    "def norm_association(A):\n",
    "    '''Function to normalize the association matrix by out degree.\n",
    "    The function accounts for cases where the column sum is 0'''\n",
    "    # Compute the sum of the columns of the association matrix and invert\n",
    "    column_sums = np.sum(A, axis=1)\n",
    "    print(column_sums)\n",
    "    inverse_column_sums = np.divide(1, column_sums, where=column_sums!=0)\n",
    "    \n",
    "    # Create a square diagonal matrix from the inverse column sums\n",
    "    D_inv = np.diag(inverse_column_sums)\n",
    "    transposed_A = np.transpose(A)\n",
    "    \n",
    "    # Return the product of the association matrix and the diagonal inverse column sum matrix\n",
    "    M = np.matmul(transposed_A, D_inv)\n",
    "\n",
    "    return M\n",
    "\n",
    "## Execute the function and check the column sums\n",
    "M = norm_association(A)\n",
    "print(M) \n",
    "print(f\"The column sums = {np.sum(M, axis=0)}\")"
   ]
  },
  {
   "cell_type": "markdown",
   "id": "226c5d12",
   "metadata": {},
   "source": [
    "> Provide short answers to the following questions:     \n",
    "> 1. Do the number of non-zero values in each column match the out degree for the corresponding node?     \n",
    "> 2. Are all the column sums 1.0, and why is this required for a transition probability matrix.    \n",
    "> **End of exercise.**"
   ]
  },
  {
   "cell_type": "markdown",
   "id": "7f3fb131",
   "metadata": {},
   "source": [
    "> **Answers:**  \n",
    "> 1. Yes, the number of non-zero values in each column matches the out degree for the corresponding node. Each non-zero value in a column represents an outgoing edge from that node, thus matching its out degree.\n",
    "  \n",
    "> 2. Yes, all the column sums are 1.0. This is required for a transition probability matrix because each column represents the probabilities of transitioning from one page (node) to another. Therefore, the sum of probabilities for transitions from a particular page (node) to all other pages (nodes) should be 1.0, ensuring that the system doesn't lose or gain probability mass during transitions.                "
   ]
  },
  {
   "cell_type": "markdown",
   "id": "c15a3d18",
   "metadata": {},
   "source": [
    "### Computing the Simple Page Rank\n",
    "\n",
    "With the transition probability matrix, $M$ computed it is time to investigate the convergence of the PageRank algorithm. You can think of the PageRank algorithm as a series of transitions of a Markov Chain. Given the transition probability matrix, $M$, the update, or single Markov transition, of the page probabilities, $p_i$, is computed: \n",
    "\n",
    "$$p_i = M p_{i-1}$$\n",
    "\n",
    "The Markov chain can be executed for a great many transitions. The result of $n$ transitions, starting from an initial set of page probabilities, $p_0$, can be written:  \n",
    "\n",
    "$$p_n = M^n p_{0}$$\n",
    "\n",
    "At convergence the page probabilities, $p_n$, approach a constant or **steady state** value. This steady state probability vector values are the PageRank of the web pages.  "
   ]
  },
  {
   "cell_type": "markdown",
   "id": "7da47d2b",
   "metadata": {},
   "source": [
    "> **Exercise 04-3:** You will now create and execute code with the goal of getting a feel for how the page probabilities change for a single transition of a Markov process. The accomplish this task you will create a function called `transition` with arguments of the the normalized transition probability matrix and the vector of page probabilities. Specifically you will:   \n",
    "> 1. Complete the function `transition` which uses [numpy.dot](https://numpy.org/doc/stable/reference/generated/numpy.dot.html) to compute the product of the transition matrix and the page probability vector.  \n",
    "> 2. Define a state vector p, with uniform initial probabiltes. Print this initial statevector.\n",
    "> 3. Execute the `transition` function on the normalized transition probability matrix and vector of initial page probabilities you have created, saving the result to a new variable name. Print the result. \n",
    "> 4. Print the Euclidean (L2) norm of the difference between the initial page probabilities and the updated page probabilities. \n",
    "> 5. Print the sum of the page probabilities computed with `transition`."
   ]
  },
  {
   "cell_type": "code",
   "execution_count": 172,
   "id": "83e71abd",
   "metadata": {},
   "outputs": [
    {
     "name": "stdout",
     "output_type": "stream",
     "text": [
      "Initial state vector:\n",
      "[0.2 0.2 0.2 0.2 0.2]\n",
      "\n",
      "Probabilities after the first state transition:\n",
      "[0.16666667 0.06666667 0.06666667 0.43333333 0.26666667]\n",
      "\n",
      "The norm of the difference =  0.309\n",
      "\n",
      "The sum of the PageRanks =  1.0\n"
     ]
    }
   ],
   "source": [
    "def transition(transition_probs, probs):\n",
    "    '''Function to compute the probabilities resulting from a \n",
    "    single transition of a Markov process'''\n",
    "    # Compute the product of the transition matrix and the page probability vector\n",
    "    updated_probs = np.dot(transition_probs, probs)\n",
    "    return updated_probs\n",
    "\n",
    "# Define a state vector p with uniform initial probabilities\n",
    "p_initial = np.ones(len(A)) / len(A)\n",
    "print(\"Initial state vector:\")\n",
    "print(p_initial)\n",
    "\n",
    "# Compute probabilities after the first state transition\n",
    "p_updated = transition(M, p_initial)\n",
    "print(\"\\nProbabilities after the first state transition:\")\n",
    "print(p_updated)\n",
    "\n",
    "# Print the norm of the difference between the initial and updated page probabilities\n",
    "norm_difference = np.linalg.norm(p_initial - p_updated)\n",
    "print(\"\\nThe norm of the difference = \", f\"{norm_difference:.3f}\")\n",
    "\n",
    "# Print the sum of the updated page probabilities\n",
    "sum_updated_probs = np.sum(p_updated)\n",
    "print(\"\\nThe sum of the PageRanks = \", sum_updated_probs)"
   ]
  },
  {
   "cell_type": "markdown",
   "id": "63564579",
   "metadata": {},
   "source": [
    "> Provide short answers to the following questions:   \n",
    "> 1. Is the sum of the page probabilities equal to 1.0 as it should be?       \n",
    "> 2. Considering in degree of the pages, are the relative changes in the page probabilities what you would expect and why?    \n",
    "> **End of exercise.**"
   ]
  },
  {
   "cell_type": "markdown",
   "id": "8594649a",
   "metadata": {},
   "source": [
    "> **Answers:**    \n",
    "> 1. Yes. Shown above. \n",
    "> 2. Yes, the relative changes in the page probabilities are what we would expect based on the in degrees of the pages [2,1,1,4,3] from earlier. Pages  higher in degrees tend to have higher probabilities after the transition, as they receive more influence from other pages linking to them and vice versa. This aligns with the idea that pages with more incoming links are generally considered more important in the PageRank algorithm.    "
   ]
  },
  {
   "cell_type": "markdown",
   "id": "3434f366",
   "metadata": {},
   "source": [
    "> **Exercise 04-4:** You will continue with computing transitions of the Markov chain. Use the `transition` function with the normalized transition probability matrix and the page probability vector computed from the first transition as arguments. Your code must do the following:  \n",
    "> 1. Compute and print the resulting page probabilities of the second transition.\n",
    "> 2. Compute and print the Euclidean (L2) norm of the difference between the page probabilities before and after the transition. \n",
    "> 3. Compute and print the sum of the page probabilities. \n",
    "> 4. Display the page probabilities. "
   ]
  },
  {
   "cell_type": "code",
   "execution_count": 173,
   "id": "ed8d76cb",
   "metadata": {},
   "outputs": [
    {
     "name": "stdout",
     "output_type": "stream",
     "text": [
      "\n",
      "Probabilities after the second state transition:\n",
      "[0.23888889 0.05555556 0.05555556 0.37777778 0.27222222]\n",
      "\n",
      " norm of the difference: 0.093\n",
      "\n",
      "Sum of the updated page probabilities after the second transition: 1.0\n",
      "\n",
      "Page probabilities after the second transition:\n",
      "Page A: 0.2388888888888889\n",
      "Page B: 0.05555555555555556\n",
      "Page C: 0.05555555555555556\n",
      "Page D: 0.3777777777777778\n",
      "Page E: 0.27222222222222225\n"
     ]
    }
   ],
   "source": [
    "# Compute probabilities after the second state transition\n",
    "p_updated_second = transition(M, p_updated)\n",
    "print(\"\\nProbabilities after the second state transition:\")\n",
    "print(p_updated_second)\n",
    "\n",
    "# Compute the norm of the difference between the page probabilities before and after the transition\n",
    "norm_difference_second = np.linalg.norm(p_updated - p_updated_second)\n",
    "print(\"\\n norm of the difference:\", f\"{norm_difference_second:.3f}\")\n",
    "\n",
    "# Compute the sum of the page probabilities\n",
    "sum_updated_probs_second = np.sum(p_updated_second)\n",
    "print(\"\\nSum of the updated page probabilities after the second transition:\", sum_updated_probs_second)\n",
    "\n",
    "# Print results\n",
    "print(\"\\nPage probabilities after the second transition:\")\n",
    "for i, prob in enumerate(p_updated_second):\n",
    "    print(f\"Page {chr(65+i)}: {prob}\")\n"
   ]
  },
  {
   "cell_type": "markdown",
   "id": "b94bda45",
   "metadata": {},
   "source": [
    "> Note the difference between the Euclidean norms of the differences for the first and second transition calculations. Does the change in this difference from one step to the next indicate the algorithm is converging to the steady state probabilities?  \n",
    "> **End of exercise.**"
   ]
  },
  {
   "cell_type": "markdown",
   "id": "52960810",
   "metadata": {},
   "source": [
    "> **Answer:**  Yes, in the case of the PageRank algorithm, as the algorithm iterates, the differences between successive probabilities typically decrease, indicating that the algorithm is converging towards a steady-state solution. If the change in the Euclidean norm of the differences from one step to the next becomes smaller with each iteration, it suggests that the algorithm is converging. Once the change becomes sufficiently small, it can be considered that the algorithm has reached convergence, and the page probabilities have stabilized to their steady-state values.\n",
    "\n",
    ">Therefore, observing a decrease in the difference between successive transition calculations, as indicated by the change in the Euclidean norm, can be a sign that the algorithm is converging to the steady-state probabilities.   "
   ]
  },
  {
   "cell_type": "markdown",
   "id": "6cfc9527",
   "metadata": {},
   "source": [
    "> **Exercise 04-5:** The question now is how does this simplified version of page rank converge with more iterations? To find out, do the following:   \n",
    "> 1. Create a function `pagerank1` having the following arguments, `the normalized transition matrix`, the `initial page probabilities` and a `convergence threshold value of 0.01`, which does the following:  \n",
    ">    - Initialize a euclidean distance norm variable to 1.0 and the resulting page probabilities to a vector of 0.0 values of length equal to the dimension of the transition matrix.   \n",
    ">    - Set a loop counter to 1.  \n",
    ">    - Use a 'while' loop with termination conditions the euclidean distance norm greater than the threshold value AND the loop counter less than 50.  Inside this loop do the following:  \n",
    ">      1. Update the page probabilities using the `transition` function you created. \n",
    ">      2. Compute the Euclidean norm of the difference between the previous and the updated page probabilities following the transition.   \n",
    ">      3. Print the value of the loop counter and the Euclidean norm of the difference. \n",
    ">      4. Copy the updated page probability vector into the input page probability vector.  \n",
    ">      5. Increment the loop counter by 1. \n",
    ">    - Return the page probabilities at convergence.  \n",
    "> 2. Execute your `pagerank1` function using the transition matrix and initial page probability vector. "
   ]
  },
  {
   "cell_type": "code",
   "execution_count": 174,
   "id": "b64228ab",
   "metadata": {},
   "outputs": [
    {
     "name": "stdout",
     "output_type": "stream",
     "text": [
      "Iteration 1: Euclidean distance norm = 0.3091206165165235\n",
      "Iteration 2: Euclidean distance norm = 0.09262962222518367\n",
      "Iteration 3: Euclidean distance norm = 0.0627447198003608\n",
      "Iteration 4: Euclidean distance norm = 0.04713034716117627\n",
      "Iteration 5: Euclidean distance norm = 0.040449830664990756\n",
      "Iteration 6: Euclidean distance norm = 0.03475146950237423\n",
      "Iteration 7: Euclidean distance norm = 0.02965169022900905\n",
      "Iteration 8: Euclidean distance norm = 0.025297173726972603\n",
      "Iteration 9: Euclidean distance norm = 0.02160299244562213\n",
      "Iteration 10: Euclidean distance norm = 0.018452365792341104\n",
      "Iteration 11: Euclidean distance norm = 0.015759786178754207\n",
      "Iteration 12: Euclidean distance norm = 0.013459509556315244\n",
      "Iteration 13: Euclidean distance norm = 0.011495031885715202\n",
      "Iteration 14: Euclidean distance norm = 0.009817345265918275\n",
      "Final state probabilities: [0.21890828 0.07149265 0.07149265 0.38258726 0.25551917]\n"
     ]
    }
   ],
   "source": [
    "# Compute probabilities after a number of state transitions \n",
    "def pagerank1(M, in_probs,  threshold = 0.01):  \n",
    "    euclidean_dist = 1.0 \n",
    "    page_probabilities = np.array([0.0]*len(M))\n",
    "    i = 1   \n",
    "    \n",
    "    while euclidean_dist > threshold and i < 50:\n",
    "        updated_probs = transition(M, in_probs)\n",
    "        euclidean_dist = np.linalg.norm(in_probs - updated_probs)\n",
    "        print(f\"Iteration {i}: Euclidean distance norm = {euclidean_dist}\")\n",
    "        in_probs = updated_probs\n",
    "        i += 1\n",
    "        \n",
    "    return updated_probs\n",
    "\n",
    "# Execute and print results\n",
    "print('Final state probabilities: ' + str(pagerank1(M, p_initial)))"
   ]
  },
  {
   "cell_type": "markdown",
   "id": "0caeedfd",
   "metadata": {},
   "source": [
    "> Provide short answers for the following questions:  \n",
    "> 1. Judged from the rate of decline of the Euclidean distances, does the algorithm appear to converge rapidly and why? \n",
    "> 2.  Does the rank order of the computed page probabilities make sense given the relative degree of the pages of the directed graph? \n",
    "> **End of exercise.**"
   ]
  },
  {
   "cell_type": "markdown",
   "id": "0e95b5c5",
   "metadata": {},
   "source": [
    "> **Answers:**   \n",
    "> 1. The algorithm appears to converge quite rapidly, this is because the Euclidean distances between successive page probability vectors decrease quickly with each iteration, indicating that the algorithm is approaching convergence to the steady-state probabilities.         \n",
    "> 2. Yes, the rank order of the computed page probabilities makes sense given the relative degree of the pages of the directed graph. Pages with higher in degrees tend to have higher probabilities, reflecting their importance in the network. Conversely, pages with lower in degrees tend to have lower probabilities. This aligns with the intuition that pages with more incoming links are considered more important in the PageRank algorithm.   "
   ]
  },
  {
   "cell_type": "markdown",
   "id": "aee2af4a",
   "metadata": {},
   "source": [
    "### Page Rank by Eigendecomposition\n",
    "\n",
    "Consider the relationship:     \n",
    "\n",
    "$$p_i = M p_{i-1}$$      \n",
    "\n",
    "At convergence $p_i = p_{i-1}$ which suggest an eigenvalue-eigenvector problem for some eigenvalue, $\\lambda$:    \n",
    "\n",
    "$$\\lambda p^* = M p^*$$  \n",
    "\n",
    "For the transition probability matrix with normalized columns, the largest eigenvalue has a magnitude 1.0. The eigenvector associated with this eigenvalue is the PageRank vector. To demonstrate this point, the code in the cell below does the following:     \n",
    "1. Compute the eigendecomposition using [numpy.linalg.eig](https://numpy.org/doc/stable/reference/generated/numpy.linalg.eig.html).     \n",
    "2. Print the magnitude of the eigenvalues.  \n",
    "3. Get the eigenvector associated with the first, largest, eigenvalue.     \n",
    "4. Normalize the eigenvector so the values sum to 1.0 and display the results.    "
   ]
  },
  {
   "cell_type": "code",
   "execution_count": 175,
   "id": "2ed1809f",
   "metadata": {},
   "outputs": [
    {
     "name": "stdout",
     "output_type": "stream",
     "text": [
      "[[-4.17252857e-01+0.j         -4.51280150e-01+0.j\n",
      "  -6.44849022e-03+0.41375155j -6.44849022e-03-0.41375155j\n",
      "   1.77796963e-18+0.j        ]\n",
      " [-1.39084286e-01+0.j          1.76133214e-01+0.j\n",
      "   4.30910643e-01-0.09645575j  4.30910643e-01+0.09645575j\n",
      "  -8.01783726e-01+0.j        ]\n",
      " [-1.39084286e-01+0.j          1.76133214e-01+0.j\n",
      "   4.30910643e-01-0.09645575j  4.30910643e-01+0.09645575j\n",
      "  -5.03549833e-16+0.j        ]\n",
      " [-7.41782856e-01+0.j          6.53410226e-01+0.j\n",
      "  -5.37666048e-01+0.j         -5.37666048e-01-0.j\n",
      "   5.34522484e-01+0.j        ]\n",
      " [-4.86794999e-01+0.j         -5.54396504e-01+0.j\n",
      "  -3.17706747e-01-0.22084005j -3.17706747e-01+0.22084005j\n",
      "   2.67261242e-01+0.j        ]]\n",
      "Magnitude of eigenvalues:\n",
      "[1.00000000e+00 8.54050825e-01 3.12368706e-01 3.12368706e-01\n",
      " 1.25975070e-16]\n",
      "[-0.41725286+0.j -0.13908429+0.j -0.13908429+0.j -0.74178286+0.j\n",
      " -0.486795  +0.j]\n",
      "\n",
      "Final state probabilities:\n",
      "[0.21686747-0.j 0.07228916-0.j 0.07228916-0.j 0.38554217-0.j\n",
      " 0.25301205-0.j]\n"
     ]
    }
   ],
   "source": [
    "# Compute the eigendecomposition\n",
    "eigenvalues, eigenvectors = np.linalg.eig(M)\n",
    "print(eigenvectors)\n",
    "\n",
    "# Print the magnitude of the eigenvalues\n",
    "print(\"Magnitude of eigenvalues:\")\n",
    "print(np.abs(eigenvalues))\n",
    "\n",
    "# Get the eigenvector associated with the first, largest eigenvalue\n",
    "largest_eigenvalue_index = np.argmax(np.abs(eigenvalues))\n",
    "pagerank_vector = eigenvectors[:, largest_eigenvalue_index]\n",
    "print(pagerank_vector)\n",
    "\n",
    "# Normalize the eigenvector so the values sum to 1.0\n",
    "pagerank_vector_normalized = pagerank_vector / np.sum(pagerank_vector)\n",
    "\n",
    "# Print results\n",
    "print(\"\\nFinal state probabilities:\")\n",
    "print(pagerank_vector_normalized)\n"
   ]
  },
  {
   "cell_type": "markdown",
   "id": "752fb6f7",
   "metadata": {},
   "source": [
    "> **Exercise 04-06:** Do the PageRanks computed by the two methods agree to the precision expected with the iterative method?    \n",
    "> **End of exercise.**"
   ]
  },
  {
   "cell_type": "markdown",
   "id": "cce9b1eb",
   "metadata": {},
   "source": [
    "> **Answer:**   The PageRanks computed by the two methods do agree somewhat to the precision expected with the iterative method. Both methods yield similar PageRank vectors with slight rounding error.           "
   ]
  },
  {
   "cell_type": "markdown",
   "id": "a1959889",
   "metadata": {},
   "source": [
    "## A More Complicated Example   \n",
    "\n",
    "You will now work with a more complicated example The graph of 6 web pages, shown in Figure 2, is no longer complete. The out degree of page 6 is 0. A random surfer transitioning to page 6 will have no escape, a **spider trap**! \n",
    "\n",
    "<img src=\"../Web2.png\" alt=\"Drawing\" style=\"width:500px; height:500px\"/>\n",
    "<center>Figure 3: A small set of web pages with a dead end</center>"
   ]
  },
  {
   "cell_type": "markdown",
   "id": "d4a4270c",
   "metadata": {},
   "source": [
    "> **Exercise 04-7:** You will now create both the normalized transition matrix and the initial page probability vector for the graph of Figure 3. In this exercise you will . Do the following:  \n",
    "> 1. Create the association matrix and save it to a named variable, `A_deadend`. You will need this association marrix for later \n",
    "> 2. Normalize the association matrix using your `norm_association` function. Name your transition matrix `M_deadend`. Print the result. \n",
    "> 3. Create a vector containing the uniformly distributed initial probability values. Save and print the result.   "
   ]
  },
  {
   "cell_type": "code",
   "execution_count": 176,
   "id": "82db4316",
   "metadata": {},
   "outputs": [
    {
     "name": "stdout",
     "output_type": "stream",
     "text": [
      "[4 3 3 2 1 0]\n",
      "Normalized transition matrix M_deadend:\n",
      "[[0.         0.33333333 0.         0.5        0.         0.        ]\n",
      " [0.25       0.         0.         0.         0.         0.        ]\n",
      " [0.25       0.         0.         0.         0.         0.        ]\n",
      " [0.25       0.33333333 0.33333333 0.         1.         0.        ]\n",
      " [0.         0.33333333 0.33333333 0.5        0.         0.        ]\n",
      " [0.25       0.         0.33333333 0.         0.         0.        ]]\n",
      "\n",
      "starting values:\n",
      "[0.16666667 0.16666667 0.16666667 0.16666667 0.16666667 0.16666667]\n"
     ]
    }
   ],
   "source": [
    "import numpy as np\n",
    "\n",
    "A_deadend = np.array([\n",
    "    [0, 1, 1, 1, 0, 1],  \n",
    "    [1, 0, 0, 1, 1, 0],   \n",
    "    [0, 0, 0, 1, 1, 1],   \n",
    "    [1, 0, 0, 0, 1, 0],\n",
    "    [0, 0, 0, 1, 0, 0],\n",
    "    [0, 0, 0, 0, 0, 0]\n",
    "])\n",
    "\n",
    "# Normalize the association matrix\n",
    "M_deadend = norm_association(A_deadend)\n",
    "print(\"Normalized transition matrix M_deadend:\")\n",
    "print(M_deadend)\n",
    "\n",
    "# Create the equal probability starting values\n",
    "p_initial_deadend = np.ones(len(A_deadend)) / len(A_deadend)\n",
    "print(\"\\nstarting values:\")\n",
    "print(p_initial_deadend)\n"
   ]
  },
  {
   "cell_type": "markdown",
   "id": "210965cd",
   "metadata": {},
   "source": [
    "> Examine your results. Are the 0 values for the transition probabilities of page 6 consistent with the graph of these pages? and why?      \n",
    "> **End of exercise.**     "
   ]
  },
  {
   "cell_type": "markdown",
   "id": "05e70927",
   "metadata": {},
   "source": [
    "> **Answers:** Yes, the 0 values for the transition probabilities of page 6 are consistent with the graph of these pages.\n",
    "Page 6 has no outgoing edges in the graph, meaning there are no links from page 6 to any other page. This lack of outgoing edges results in 0 transition probabilities for page 6 in the transition matrix."
   ]
  },
  {
   "cell_type": "markdown",
   "id": "3fab8ae8",
   "metadata": {},
   "source": [
    "### Apply Simple PageRank Algorithm\n",
    "\n",
    "> **Exercises 04-8:** What happens if you apply the simplified PageRank algorithm to the pages on a graph that is not complete, like the one shown in Figure 2? To find out, execute your `pagerank1` function with arguments `M_deadend`, `p_deadend` and `threshold=0.00001`. The smaller threshold value is to ensure convergence. "
   ]
  },
  {
   "cell_type": "code",
   "execution_count": 177,
   "id": "dc2a2658",
   "metadata": {},
   "outputs": [
    {
     "name": "stdout",
     "output_type": "stream",
     "text": [
      "Iteration 1: Euclidean distance norm = 0.24689428936987748\n",
      "Iteration 2: Euclidean distance norm = 0.08729031312483704\n",
      "Iteration 3: Euclidean distance norm = 0.05112283061425413\n",
      "Iteration 4: Euclidean distance norm = 0.0409021129345033\n",
      "Iteration 5: Euclidean distance norm = 0.03330965740599666\n",
      "Iteration 6: Euclidean distance norm = 0.0315625664858363\n",
      "Iteration 7: Euclidean distance norm = 0.02559781956037353\n",
      "Iteration 8: Euclidean distance norm = 0.024309802780145634\n",
      "Iteration 9: Euclidean distance norm = 0.020108336170986056\n",
      "Iteration 10: Euclidean distance norm = 0.019211686938674834\n",
      "Iteration 11: Euclidean distance norm = 0.016185076011934054\n",
      "Iteration 12: Euclidean distance norm = 0.01548001937133012\n",
      "Iteration 13: Euclidean distance norm = 0.01326780749245992\n",
      "Iteration 14: Euclidean distance norm = 0.012663894730572466\n",
      "Iteration 15: Euclidean distance norm = 0.011017095534036438\n",
      "Iteration 16: Euclidean distance norm = 0.010475991182690667\n",
      "Iteration 17: Euclidean distance norm = 0.009226369237005632\n",
      "Iteration 18: Euclidean distance norm = 0.008734354786517056\n",
      "Iteration 19: Euclidean distance norm = 0.007768416344424035\n",
      "Iteration 20: Euclidean distance norm = 0.007321654124695348\n",
      "Iteration 21: Euclidean distance norm = 0.006562380307895494\n",
      "Iteration 22: Euclidean distance norm = 0.006159913350301156\n",
      "Iteration 23: Euclidean distance norm = 0.005554361613129159\n",
      "Iteration 24: Euclidean distance norm = 0.005195271679900304\n",
      "Iteration 25: Euclidean distance norm = 0.0047064012956031746\n",
      "Iteration 26: Euclidean distance norm = 0.004388951992987612\n",
      "Iteration 27: Euclidean distance norm = 0.003990313849469378\n",
      "Iteration 28: Euclidean distance norm = 0.0037119257442386573\n",
      "Iteration 29: Euclidean distance norm = 0.003384225395864782\n",
      "Iteration 30: Euclidean distance norm = 0.0031417283759350378\n",
      "Iteration 31: Euclidean distance norm = 0.002870591211833523\n",
      "Iteration 32: Euclidean distance norm = 0.0026605144569068176\n",
      "Iteration 33: Euclidean distance norm = 0.0024350172099153696\n",
      "Iteration 34: Euclidean distance norm = 0.0022538294080823498\n",
      "Iteration 35: Euclidean distance norm = 0.002065521135782675\n",
      "Iteration 36: Euclidean distance norm = 0.0019098010349052176\n",
      "Iteration 37: Euclidean distance norm = 0.0017520391506812042\n",
      "Iteration 38: Euclidean distance norm = 0.0016185828686854043\n",
      "Iteration 39: Euclidean distance norm = 0.0014860743190327336\n",
      "Iteration 40: Euclidean distance norm = 0.001371953587505902\n",
      "Iteration 41: Euclidean distance norm = 0.0012604315181295623\n",
      "Iteration 42: Euclidean distance norm = 0.001163017148402362\n",
      "Iteration 43: Euclidean distance norm = 0.0010690084872142743\n",
      "Iteration 44: Euclidean distance norm = 0.000985970857169299\n",
      "Iteration 45: Euclidean distance norm = 0.0009066259528656297\n",
      "Iteration 46: Euclidean distance norm = 0.0008359213632452468\n",
      "Iteration 47: Euclidean distance norm = 0.0007688867389891304\n",
      "Iteration 48: Euclidean distance norm = 0.0007087358855864261\n",
      "Iteration 49: Euclidean distance norm = 0.0006520574976252098\n",
      "PageRank probabilities for the non-complete graph:\n",
      "[0.00331205 0.00089962 0.00089962 0.00550268 0.00363752 0.00122509]\n"
     ]
    }
   ],
   "source": [
    "# Execute pagerank1 function with given inputs\n",
    "p_deadend = pagerank1(M_deadend, p_initial_deadend, threshold=0.00001)\n",
    "print(\"PageRank probabilities for the non-complete graph:\")\n",
    "print(p_deadend)"
   ]
  },
  {
   "cell_type": "markdown",
   "id": "6380ffe4",
   "metadata": {},
   "source": [
    "> Now, create and execute code to compute and display the eigenvalues and eigenvectors of the `M_deadend`. Then display the magnitudes of the eigenvalues, and the normalized values of the first eigenvalue (column 0).    "
   ]
  },
  {
   "cell_type": "code",
   "execution_count": 178,
   "id": "878b096e",
   "metadata": {},
   "outputs": [
    {
     "name": "stdout",
     "output_type": "stream",
     "text": [
      "Magnitudes of the eigenvalues:\n",
      "[0.00000000e+00 9.20850965e-01 8.17762738e-01 6.65104005e-17\n",
      " 2.35226392e-01 2.35226392e-01]\n",
      "\n",
      "Normalized values of the first eigenvalue (column 0):\n",
      "[0.+0.j 0.+0.j 0.+0.j 0.+0.j 0.+0.j 1.+0.j]\n",
      "\n",
      "Page probabilities sum:\n",
      "0.015476571326304048\n"
     ]
    }
   ],
   "source": [
    "# Compute the eigendecomposition of M_deadend\n",
    "eigenvalues_deadend, eigenvectors_deadend = np.linalg.eig(M_deadend)\n",
    "\n",
    "# Display magnitudes of the eigenvalues\n",
    "print(\"Magnitudes of the eigenvalues:\")\n",
    "print(np.abs(eigenvalues_deadend))\n",
    "\n",
    "# Normalize the first eigenvector\n",
    "first_eigenvector_normalized = eigenvectors_deadend[:, 0] / np.sum(eigenvectors_deadend[:, 0])\n",
    "\n",
    "# Print results\n",
    "print(\"\\nNormalized values of the first eigenvalue (column 0):\")\n",
    "print(first_eigenvector_normalized)\n",
    "\n",
    "print(\"\\nPage probabilities sum:\")\n",
    "print(np.sum(p_deadend))\n"
   ]
  },
  {
   "cell_type": "markdown",
   "id": "e59ad36a",
   "metadata": {},
   "source": [
    "> Answer the following questions:  \n",
    "> 1. Examine the page probabilities computed with the iterative methods. Do these PageRank values sum to 1.0 and why is this outcome a problem?       \n",
    "> 2. Examine the eigenvalues of the `M_deadend` matrix. What problem can you see with these eigenvalues? \n",
    "> 3. Notice the PageRank values have only 0 values. What does this tell you about the convergence of a random surfer on this graph?             \n",
    "> **End of exercise.**"
   ]
  },
  {
   "cell_type": "markdown",
   "id": "87a35139",
   "metadata": {},
   "source": [
    "> **Answers:**   \n",
    "> 1.  These values sum to ~0.015 and not to 1. This is problematic because PageRank values should represent probabilities, which means they must sum to 1.0 to indicate a valid probability distribution. The deviation from 1.0 indicates a problem in the iterative process, likely caused by the dead-end \"spider trap\" in the new graph.\n",
    "> 2.  The presence of an eigenvalue of 0 (the first eigenvalue) indicates that there is at least one absorbing state or dead-end in the graph. This means that once a random surfer reaches this state, there is no way to leave, leading to improper distribution of the probabilities.\n",
    ">   \n",
    ">     The other eigenvalues being significantly less than 1 suggest that the system may not properly distribute probabilities across states.\n",
    "> \n",
    "> 3.  We see that all the PageRank values except for one are zero, which means the random surfer will eventually end up in a specific state and stay there indefinitely. This confirms the presence of a dead-end or \"absorbing state\" in the graph, which traps the random surfer."
   ]
  },
  {
   "cell_type": "markdown",
   "id": "b2a48973",
   "metadata": {},
   "source": [
    "### Damped PageRank Algorithm\n",
    "\n",
    "It is clear from the results of the foregoing exercise that the simple PageRank algorithm does not converge to a usable set of page probabilities when faced with graph that is not complete.Fortunately, there is a simple fix, add a damping term. You can think of the damping term as allowing a random surfer to make an arbitrary transition or jump with some small probability. These random jumps help the random surfer to better explore the graph and to escape from spider traps. The jump probabilities from states, $p_i$, are a function of the damping factor $d$: \n",
    "\n",
    "$$Jump\\ Probability = \\frac{(1-d)}{n}$$\n",
    "\n",
    "Where $n$ is the dimension of the transition probability matrix. \n",
    "\n",
    "The updated page probabilities, $p_i$, are then computed with the damped PageRank algorithm as:   \n",
    "\n",
    "$$p_{i} = d * M p_{i-1} + \\frac{(1-d)}{n}$$\n",
    "\n",
    "Where $M$ is the transition probability matrix and p are the initial page probability values.   "
   ]
  },
  {
   "cell_type": "markdown",
   "id": "f4cf21d2",
   "metadata": {},
   "source": [
    "> **Exercise 04-9:** To implement the PageRank algorithm with a damping factor do the following:  \n",
    "> 1. Create a `transition_damped` function with arguments, the transition probability matrix, the initial page probabilities, and the damping factor, $d=0.85$, which does the following:  \n",
    ">   - Compute the updated page probabili|ties by computing the inner (dot) product of the transition probability matrix with the page probabilities and then multiplying by the damping factor, `d`.    \n",
    ">   - Compute the jump probabilities vector of length the dimension of the transition matrix. Note: the jump probabilities are constant, so you can create code that only computes them once if you so choose.      \n",
    ">   - Return the sum of the damped page probabilities and the jump probabilities.  \n",
    "> 2. Create a `pagerank_damped` function. This function is identical to the `pagerank1` function you already created except that it uses the `transiton_damped` function in place of the `transition` function.  \n",
    "> 3. Call your `pagerank_damped` function using arguments of `M_deadend`, `p_deadend` and `threshold=0.0001` and display the final PageRank vector.\n",
    "> . Compute and display the sum of the values in the PageRank vector."
   ]
  },
  {
   "cell_type": "code",
   "execution_count": 193,
   "id": "ca90f6a8",
   "metadata": {},
   "outputs": [
    {
     "name": "stdout",
     "output_type": "stream",
     "text": [
      "Iteration 1: Euclidean distance = 0.059871357485657486\n",
      "Iteration 2: Euclidean distance = 0.05161018427509011\n",
      "Iteration 3: Euclidean distance = 0.03897245486729463\n",
      "Iteration 4: Euclidean distance = 0.030304127611173258\n",
      "Iteration 5: Euclidean distance = 0.023606004792419994\n",
      "Iteration 6: Euclidean distance = 0.018605290878110112\n",
      "Iteration 7: Euclidean distance = 0.014472392398026931\n",
      "Iteration 8: Euclidean distance = 0.011384898876317596\n",
      "Iteration 9: Euclidean distance = 0.008869675608674892\n",
      "Iteration 10: Euclidean distance = 0.006970261239540003\n",
      "Iteration 11: Euclidean distance = 0.0054357234010308985\n",
      "Iteration 12: Euclidean distance = 0.004268145263039698\n",
      "Iteration 13: Euclidean distance = 0.0033311212489827075\n",
      "Iteration 14: Euclidean distance = 0.0026138807030726447\n",
      "Iteration 15: Euclidean distance = 0.0020412936114440174\n",
      "Iteration 16: Euclidean distance = 0.0016009340048835888\n",
      "Iteration 17: Euclidean distance = 0.0012508459935303823\n",
      "Iteration 18: Euclidean distance = 0.0009805992629056274\n",
      "Iteration 19: Euclidean distance = 0.0007664564535122203\n",
      "Iteration 20: Euclidean distance = 0.000600665247443458\n",
      "Iteration 21: Euclidean distance = 0.00046963293385603915\n",
      "Iteration 22: Euclidean distance = 0.00036795158652636273\n",
      "Iteration 23: Euclidean distance = 0.0002877524802663039\n",
      "Iteration 24: Euclidean distance = 0.00022540418252038123\n",
      "Iteration 25: Euclidean distance = 0.00017630755671876736\n",
      "Iteration 26: Euclidean distance = 0.00013808398470190218\n",
      "Iteration 27: Euclidean distance = 0.00010802286706585304\n",
      "Iteration 28: Euclidean distance = 8.459260409147134e-05\n",
      "Sum of the PageRank values = 0.6267293038929387\n",
      "Final state probabilities: [0.12336274 0.05120676 0.05120676 0.19737208 0.13786847 0.06571249]\n"
     ]
    }
   ],
   "source": [
    "## Add a damping factor to the transiton \n",
    "def transition_damped(transition_probs, probs, d=0.85):\n",
    "    '''Function to compute the probabilities resulting from a \n",
    "    single transition of a Markov process including a damping\n",
    "    factor to deal with dead ends'''\n",
    "    # Compute the updated page probabilities\n",
    "    updated_probs = d * np.dot(transition_probs, probs)\n",
    "    \n",
    "    # Compute the jump probabilities vector\n",
    "    jump_probs = (1 - d) * np.ones(len(probs)) / len(probs)\n",
    "    \n",
    "    # Return sum of damped page probabilities and jump probabilities\n",
    "    return updated_probs + jump_probs\n",
    "\n",
    "def pagerank_damped(M, in_probs, d=0.85, threshold=0.01):  \n",
    "    \n",
    "    num_iterations = 0\n",
    "    diff = 1\n",
    "    page_probabilities = in_probs\n",
    "    \n",
    "    # Iterate until convergence\n",
    "    while diff > threshold:\n",
    "        next_probs = transition_damped(M, page_probabilities, d)\n",
    "        diff = np.linalg.norm(next_probs - page_probabilities)\n",
    "        page_probabilities = next_probs  # Update page_probabilities\n",
    "        num_iterations += 1\n",
    "        \n",
    "        # Print Euclidean distance for each iteration\n",
    "        print(f\"Iteration {num_iterations}: Euclidean distance = {diff}\")\n",
    "    \n",
    "    return page_probabilities\n",
    "\n",
    "# Execute the pagerank_damped function\n",
    "damped_rank = pagerank_damped(M_deadend, p_deadend, d=0.85, threshold=0.0001)\n",
    "print(f\"Sum of the PageRank values = {sum(damped_rank)}\")\n",
    "print('Final state probabilities: ' + str(damped_rank))\n"
   ]
  },
  {
   "cell_type": "markdown",
   "id": "b4abd795",
   "metadata": {},
   "source": [
    "> Provide short answers to the following questions:   \n",
    "> 1. Examine the final page probabilities. Does the rank of these page probabilities make sense given the in degree of the pages of this graph?   \n",
    "> 2. Why is it reasonable that the sum of the PageRanks is $< 1.0$? "
   ]
  },
  {
   "cell_type": "markdown",
   "id": "c7927665",
   "metadata": {},
   "source": [
    "> **Answers:**     \n",
    "> 1.  Yes, the final page probabilities make sense given the in degree of the pages of this graph. Pages with higher in-degree tend to have higher PageRank probabilities (e.g. page 4 has the highest), reflecting their importance or popularity within the graph.\n",
    "\n",
    "> 2. It is reasonable that the sum of the PageRanks (approx ~0.627) is less than 1.0 because of the damping factor (d=0.85) introduced in the damped PageRank algorithm. The damping factor redistributes the PageRank probabilities by allowing random jumps, which reduces the overall influence of the links between pages. As a result, some PageRank probabilities are transferred to the jump probabilities, leading to a sum of PageRanks that is less than 1.0. Additionally, some probability mass may also be lost when jumping to dead-end nodes during transitions, \"absorbing\" the probability mass without redistributing it."
   ]
  },
  {
   "cell_type": "markdown",
   "id": "e3d6222f",
   "metadata": {},
   "source": [
    "> Next you will examine the some properties of the damped matrix, $M$. You will do so by the following steps:    \n",
    "> 4. Create a Numpy array of $M$ including the damping, with a damping factor, $d = 0.85$. Display this matrix.  \n",
    "> 5. Compute and display the column sums of the damped matrix.  "
   ]
  },
  {
   "cell_type": "code",
   "execution_count": 180,
   "id": "871f9530",
   "metadata": {},
   "outputs": [
    {
     "name": "stdout",
     "output_type": "stream",
     "text": [
      "Damped transition matrix M_damped:\n",
      "[[0.025      0.30833333 0.025      0.45       0.025      0.025     ]\n",
      " [0.2375     0.025      0.025      0.025      0.025      0.025     ]\n",
      " [0.2375     0.025      0.025      0.025      0.025      0.025     ]\n",
      " [0.2375     0.30833333 0.30833333 0.025      0.875      0.025     ]\n",
      " [0.025      0.30833333 0.30833333 0.45       0.025      0.025     ]\n",
      " [0.2375     0.025      0.30833333 0.025      0.025      0.025     ]]\n",
      "\n",
      "Column sums of the damped matrix:\n",
      "[1.   1.   1.   1.   1.   0.15]\n"
     ]
    }
   ],
   "source": [
    "# Initialization\n",
    "d = 0.85\n",
    "M_damped = d * M_deadend + (1 - d) / len(M_deadend)\n",
    "\n",
    "# Display the damped transition matrix\n",
    "print(\"Damped transition matrix M_damped:\")\n",
    "print(M_damped)\n",
    "\n",
    "# Compute and display column sums of the damped matrix\n",
    "column_sums_damped = np.sum(M_damped, axis=0)\n",
    "print(\"\\nColumn sums of the damped matrix:\")\n",
    "print(column_sums_damped)\n"
   ]
  },
  {
   "cell_type": "markdown",
   "id": "3ca1e229",
   "metadata": {},
   "source": [
    "> Examine your results and asnwer these questions:   \n",
    "> 3. How does this array allow the random surfer to 'teleport' (or transition) from any page to any other page even when there is no directed edge?   \n",
    "> 4. Why are the column sums reasonable dispite the obvious devision from aximonatic probability theory?      \n",
    "> **End of exervise.**"
   ]
  },
  {
   "cell_type": "markdown",
   "id": "8ed866eb",
   "metadata": {},
   "source": [
    "> **Answers:**    \n",
    "\n",
    "> 3. The damped transition matrix allows the random surfer to 'teleport' from any page to any other page with a small probability even when there is no directed edge by incorporating a damping factor. The damping factor introduces a small probability of jumping to any page in the graph, regardless of the presence of directed edges. This ensures that the random surfer can escape dead ends or spider traps and explore the entire graph more effectively.\n",
    "\n",
    "> 4. The sums of the first five columns are 1.0, which is reasonable as it ensures that the probability distribution remains normalized. The last column sum of 0.15 indicates that there is a significant amount of probability mass being absorbed by the dead-end node, and makes sense as it happens to be (1-d), d being the damping factor of 0.85. In a perfect graph with no dead ends, all column sums should be 1.0 as per axiomatic probability theory."
   ]
  },
  {
   "cell_type": "markdown",
   "id": "a070f23d",
   "metadata": {},
   "source": [
    "## Hubs, Authorities, and the HITS Algorithm  \n",
    "\n",
    "The hubs and authorities model is an alternative to PageRank. Rather than using a single metric to rank the importance of web pages, the **HITS** algorithm iteratively updates the **hub score** and **authority score** for each of the pages. \n",
    "\n",
    "The HITS algorithm updates the authority and hub scores iteratively. The authority score is sum of the hubs linked to it. This is computed by the matrix product of the association matrix and hubness vector: \n",
    "$$𝑎= \\beta 𝐴 ℎ$$\n",
    "\n",
    "Hub score is sum of the authorities it links to. The hub score (hubness) is compute by the matrix produce of the authority scores and the transpose of the association matrix: \n",
    "$$ℎ= \\alpha 𝐴^𝑇 a$$\n",
    "\n",
    "The algorithm iterates between updates to $𝑎$ and $ℎ$ until convergence. To ensure convergence, must normalize $𝑎$ and $ℎ$ to have unit Euclidean norm at each iteration. Therefore, the choice of $\\alpha$ and $\\beta$ are can therefore be set to a value of 1.0, and effectively ignored.       "
   ]
  },
  {
   "cell_type": "markdown",
   "id": "57d9ff8d",
   "metadata": {},
   "source": [
    "> **Exercise 04-10:** To understand the HITS algorithm you will now create and test code for this algorithm. Follow these steps:  \n",
    "> 1. Create a function called `HITS` with arguments of the association matrix, initial hub vector, initial authority vector, and the number of iterations of the algorithm to run. This function does the following inside a loop over the number of iterations:  \n",
    ">    1. Updates the authority vector using the association matrix and the hub vector as argument to the `transition` function. \n",
    ">    2. Normalizes the authority vector by using `numpy.divide` with arguments of the updated authority vector and its L2 norm, computed with [numpy.linalg.norm](https://numpy.org/doc/stable/reference/generated/numpy.linalg.norm.html).  \n",
    ">    3. Updates the hub vector using the transpose of the association matrix and the authority vector as argument to the `transition` function. \n",
    ">    4. Normalizes the hub vector by using `numpy.divide` with arguments of the updated hub vector and its L2 norm, computed with `numpy.linalg.norm`.  \n",
    "> 2. The function returns both the hub and authority vectors\n",
    "> 3. Initialize an initial hub and authority vector of length the dimension of the association matrix with uniformly distributed values of $\\frac{1.0}{dimension(association\\ matrix)}$.  \n",
    "> 4. Display the resulting hub and authority vectors.  \n",
    "> 5. Execute your function using the association matrix for the 6-page network and the initial hub and authority vectors as arguments. "
   ]
  },
  {
   "cell_type": "code",
   "execution_count": 192,
   "id": "b5426080",
   "metadata": {},
   "outputs": [
    {
     "name": "stdout",
     "output_type": "stream",
     "text": [
      "The hub ranks = [0.51721531 0.5267355  0.56154289 0.28553154 0.24120396 0.        ]\n",
      "The authority ranks = [0.29355748 0.18692427 0.18692427 0.66740602 0.49650196 0.38986875]\n"
     ]
    }
   ],
   "source": [
    "def HITS(association, hub, authority, iters=100):\n",
    "    for _ in range(iters):\n",
    "        # Update authority vector\n",
    "        authority = np.dot(association.T, hub)\n",
    "        # Normalize authority vector\n",
    "        authority = np.divide(authority, np.linalg.norm(authority))\n",
    "        \n",
    "        # Update hub vector\n",
    "        hub = np.dot(association, authority)\n",
    "        # Normalize hub vector\n",
    "        hub = np.divide(hub, np.linalg.norm(hub))\n",
    "    return hub, authority\n",
    "\n",
    "dimension = A_deadend.shape[0]\n",
    "hub_start = np.ones(dimension) / dimension\n",
    "initial_start = np.ones(dimension) / dimension\n",
    "\n",
    "## Execute function\n",
    "hubness, authority = HITS(A_deadend, hub_start, auth_start)\n",
    "print(f\"The hub ranks = {hubness}\")\n",
    "print(f\"The authority ranks = {authority}\")"
   ]
  },
  {
   "cell_type": "markdown",
   "id": "95066c88",
   "metadata": {},
   "source": [
    "> Examine your results and answer the following questions:\n",
    "> 1. Which three of the pages have the highest hub scores? Considering the graph of the pages, is this ordering consistent?  \n",
    "> 2. Notice the last value of the hub scores. Is this value expected given the graph of the pages? \n",
    "> 3. Which three of the pages have the highest authority. Given the in degree of the pages is this ranking consistent?  \n",
    "> 4. Compare the ranking of the pages based on authority that found with damped PageRank. Are these results consistent? \n",
    "> **End of exercise.**"
   ]
  },
  {
   "cell_type": "markdown",
   "id": "08eb85c2",
   "metadata": {},
   "source": [
    "> **Answers:**     \n",
    "> 1. The three pages with the highest hub scores are pages 3,2,1 with 0.561, 0.526, 0.517 hub ranks respectivelu. This ordering is consistent with the graph of the pages, as these pages have the most outgoing links (3 each) and contribute most to the connectivity of the graph.\n",
    "\n",
    "> 2. The last hub score is 0. This is expected because the corresponding page (Page 6) has no outgoing links, meaning it does not act as a hub and thus its hub score is zero.\n",
    "> \n",
    "> 3. The three pages with the highest authority are those that are pointed to by other important pages in the graph, indicating their importance as authorities. Pages 4,5,6 have the highest authority scores at approx. 0.667, 0.496, 0.389 respsectively. This ranking is consistent with the graph, as these pages have the most links (2-3 each) coming from other important pages.\n",
    "\n",
    "> 4. The authority rankings and PageRank rankings can be consistent but might differ due to the nature of the algorithms. PageRank considers the importance of incoming links and can distribute rank more evenly due to damping. In contrast, HITS distinctly separates hub and authority roles. Pages with high in-degree (receiving many links) will rank high in both HITS authority and PageRank, though specific values and rankings might slightly differ.\n"
   ]
  },
  {
   "cell_type": "markdown",
   "id": "f99ee12d",
   "metadata": {},
   "source": [
    "#### Copyright 2021, 2022, 2023, 2024 Stephen F Elston. All rights reserved."
   ]
  },
  {
   "cell_type": "code",
   "execution_count": null,
   "id": "40de75c8",
   "metadata": {},
   "outputs": [],
   "source": []
  }
 ],
 "metadata": {
  "kernelspec": {
   "display_name": "Python 3 (ipykernel)",
   "language": "python",
   "name": "python3"
  },
  "language_info": {
   "codemirror_mode": {
    "name": "ipython",
    "version": 3
   },
   "file_extension": ".py",
   "mimetype": "text/x-python",
   "name": "python",
   "nbconvert_exporter": "python",
   "pygments_lexer": "ipython3",
   "version": "3.10.13"
  }
 },
 "nbformat": 4,
 "nbformat_minor": 5
}
