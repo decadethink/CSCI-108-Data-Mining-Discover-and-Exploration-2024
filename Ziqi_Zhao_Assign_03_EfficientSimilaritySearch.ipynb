{
 "cells": [
  {
   "cell_type": "markdown",
   "metadata": {},
   "source": [
    "# Efficient Similarity Search    \n",
    "\n",
    "## CSCI E-108      \n",
    "\n",
    "### Steve Elston"
   ]
  },
  {
   "cell_type": "markdown",
   "metadata": {},
   "source": [
    "In these exercises you will gain some experience with methods for efficient similarity search. A naive similarity search requires a brute-force computation of all pairwise distances, in the chosen metrics. The brute-force approach is not scalable with computational complexity for $n$ observations is $O(n^2)$. For massive dataset we need much more efficient methods. Here, we will explore two possibilities:        \n",
    "1. [**KD trees**](https://en.wikipedia.org/wiki/K-d_tree) are constructed from recurrsive binary splits. For a dataset with $n$ observatrions and dimensionality, $d$, the computational complexity is $O\\big(d\\ n \\log(n) \\big)$. While not ideal linear scaling, $O(n)$,the KD tree is a significant improvement over brute-force methods. Generally, KD-trees are considered to be efficient for large datasets with $d \\le 20$. For higher dimensional data, R-trees and ball trees can be extended to higher dimensional data. We will apply ball trees for clustering and dimensionality reduction with the spectral clustering and UMAP algorithms.     \n",
    "2. [**Mini-hashing**](https://en.wikipedia.org/wiki/MinHash) and [**locally sensitive hashing (LSH)**](https://en.wikipedia.org/wiki/Locality-sensitive_hashing#:~:text=In%20computer%20science%2C%20locality%2Dsensitive,universe%20of%20possible%20input%20items.)) can be applied to massive very high dimensional dataset. The mini-hash algorithm creates sketches of the observations that approximate the Jacard similarity between two varaibles. Multiple bands of sketches are combined to create locally sensive hashes with lower false positive and false negative rates.     \n",
    "\n",
    "Before proceeding to the exercises, execute the code in the cell below to import the required packages.  "
   ]
  },
  {
   "cell_type": "code",
   "execution_count": 1,
   "metadata": {},
   "outputs": [],
   "source": [
    "import os\n",
    "import time\n",
    "import itertools\n",
    "import collections\n",
    "import numpy as np\n",
    "import pandas as pd\n",
    "import matplotlib.pyplot as plt\n",
    "from sklearn import datasets\n",
    "from sklearn.neighbors import KDTree\n",
    "from sklearn.model_selection import train_test_split\n",
    "import math"
   ]
  },
  {
   "cell_type": "markdown",
   "metadata": {},
   "source": [
    "## Similarity Search with KD Trees     \n",
    "\n",
    "We will now explore a basic example of using a KD tree to find nearest neighbors. We will use a small (toy) dataset of characteristics and metabolic measurements taken from 442 diabetes patients. The KD tree algorithm will be used to find the nearest neightbors of the patients, based on the Euclidean distrance between the observation vectors.    \n",
    "\n",
    "### Load the dataset\n",
    "\n",
    "The diabetes dataset is in the [Scikit Learn Datasets package](https://scikit-learn.org/stable/api/sklearn.datasets.html).This dataset has already been clearned, missing values dealt with, and standardized (zero mean, unite variance). Therefore, we will skip the usual exploration and preparation steps.     \n",
    "\n",
    "Execute the code in the cell below to load the dataset and split it into two data frames, one for training and one for test.  "
   ]
  },
  {
   "cell_type": "code",
   "execution_count": 2,
   "metadata": {},
   "outputs": [
    {
     "name": "stdout",
     "output_type": "stream",
     "text": [
      "Dimensions of training data frame = (422, 10)\n",
      "    age_years       sex       BMI  Average_BP  serum_cholesterol       LDL  \\\n",
      "0   -0.034575  0.050680 -0.025607   -0.017135           0.001183 -0.002880   \n",
      "1    0.009016  0.050680 -0.005128   -0.064199           0.069981  0.083863   \n",
      "2   -0.060003  0.050680  0.015350   -0.019442           0.036958  0.048164   \n",
      "3   -0.001882 -0.044642 -0.038540    0.021872          -0.108893 -0.115613   \n",
      "4   -0.052738  0.050680  0.098342    0.087287           0.060349  0.048790   \n",
      "5    0.016281  0.050680  0.072474    0.076958          -0.008449  0.005575   \n",
      "6    0.063504  0.050680  0.088642    0.070072           0.020446  0.037517   \n",
      "7    0.045341 -0.044642 -0.006206    0.011544           0.063101  0.016222   \n",
      "8   -0.052738 -0.044642  0.030440   -0.074527          -0.023584 -0.011335   \n",
      "9    0.041708 -0.044642 -0.045007    0.034508           0.043837 -0.015719   \n",
      "10   0.074401 -0.044642  0.018584    0.063187           0.061725  0.042840   \n",
      "11  -0.092695  0.050680 -0.090275   -0.057313          -0.024960 -0.030437   \n",
      "12  -0.070900 -0.044642 -0.057941   -0.081413          -0.045599 -0.028871   \n",
      "13  -0.049105  0.050680 -0.005128   -0.046985          -0.020832 -0.020416   \n",
      "14  -0.005515 -0.044642  0.042296    0.049415           0.024574 -0.023861   \n",
      "15   0.045341 -0.044642  0.039062    0.045972           0.006687 -0.024174   \n",
      "16  -0.074533 -0.044642 -0.023451   -0.005670          -0.020832 -0.014153   \n",
      "17  -0.052738  0.050680  0.039062   -0.040099          -0.005697 -0.012900   \n",
      "18   0.038076  0.050680 -0.029918   -0.074527          -0.012577 -0.012587   \n",
      "19   0.005383 -0.044642  0.059541   -0.056177           0.024574  0.052861   \n",
      "\n",
      "         HDL  total_chol_over_HDL  log_serum_triglycerides  Glucose_level  \n",
      "0   0.008142            -0.015508                 0.014821       0.040343  \n",
      "1  -0.039719             0.071210                 0.039542       0.019633  \n",
      "2   0.019187            -0.002592                -0.030748      -0.001078  \n",
      "3   0.022869            -0.076395                -0.046883       0.023775  \n",
      "4  -0.058127             0.108111                 0.084492       0.040343  \n",
      "5  -0.006584            -0.002592                -0.023647       0.061054  \n",
      "6  -0.050764             0.071210                 0.029297       0.073480  \n",
      "7   0.096501            -0.039493                 0.042897      -0.038357  \n",
      "8  -0.002903            -0.002592                -0.030748      -0.001078  \n",
      "9   0.037595            -0.014401                 0.089897       0.007207  \n",
      "10  0.008142            -0.002592                 0.058038      -0.059067  \n",
      "11 -0.006584            -0.002592                 0.024055       0.003064  \n",
      "12 -0.043401            -0.002592                 0.001148      -0.005220  \n",
      "13 -0.069172             0.071210                 0.061238      -0.038357  \n",
      "14  0.074412            -0.039493                 0.052277       0.027917  \n",
      "15  0.008142            -0.012556                 0.064328       0.056912  \n",
      "16  0.015505            -0.039493                -0.038460      -0.030072  \n",
      "17  0.011824            -0.039493                 0.016307       0.003064  \n",
      "18  0.004460            -0.002592                 0.003709      -0.030072  \n",
      "19 -0.043401             0.050914                -0.004222      -0.030072  \n"
     ]
    }
   ],
   "source": [
    "train_size = 20\n",
    "column_names = ['age_years',\n",
    "                'sex',\n",
    "                'BMI',\n",
    "                'Average_BP',\n",
    "                'serum_cholesterol',\n",
    "                'LDL',\n",
    "                'HDL',\n",
    "                'total_chol_over_HDL',\n",
    "                'log_serum_triglycerides',\n",
    "                'Glucose_level']\n",
    "\n",
    "diabetes_test, diabetes_train = train_test_split(datasets.load_diabetes()['data'], train_size=train_size)\n",
    "\n",
    "diabetes_train = pd.DataFrame(diabetes_train, columns=column_names)\n",
    "diabetes_test = pd.DataFrame(diabetes_test, columns=column_names)\n",
    "print('Dimensions of training data frame = ' + str(diabetes_train.shape))\n",
    "print(diabetes_test)"
   ]
  },
  {
   "cell_type": "markdown",
   "metadata": {},
   "source": [
    "Notice that each of the observations is a numeric vector with 10 variables. These variables have all be standardized.    "
   ]
  },
  {
   "cell_type": "markdown",
   "metadata": {},
   "source": [
    "### Constructing and querying the KD-Tree   \n",
    "\n",
    "The code in the cell below constructs the KD-tree as a KD-tree object with the required arguments. Execute the code. "
   ]
  },
  {
   "cell_type": "code",
   "execution_count": 3,
   "metadata": {},
   "outputs": [
    {
     "name": "stdout",
     "output_type": "stream",
     "text": [
      "CPU times: user 479 μs, sys: 104 μs, total: 583 μs\n",
      "Wall time: 508 μs\n"
     ]
    }
   ],
   "source": [
    "%time KD_tree = KDTree(diabetes_train, leaf_size=10, metric='euclidean') "
   ]
  },
  {
   "cell_type": "markdown",
   "metadata": {},
   "source": [
    "Notice how quickly the tree was constructed. This should not be surprising given the small data set and low dimensionality of the data.   \n",
    "\n",
    "With the tree constructed we can now query the tree with the test data. The number of near neighbors is specified as 1 so that the query returns the single nearest neighbors.    \n",
    "\n",
    "> **Note:** In this case we are interested in similarity with each of the observations used to construct the KD-tree, so we use $k=1$ nearest neighbors. For other purposes, such as constructing a nearest neighbor graph, a larger value of $k$ is used. We will encounter a number algorithms using nearest neighbor graphs in subsequent lessons.   "
   ]
  },
  {
   "cell_type": "code",
   "execution_count": 4,
   "metadata": {},
   "outputs": [
    {
     "name": "stdout",
     "output_type": "stream",
     "text": [
      "CPU times: user 485 μs, sys: 91 μs, total: 576 μs\n",
      "Wall time: 464 μs\n"
     ]
    },
    {
     "data": {
      "text/html": [
       "<div>\n",
       "<style scoped>\n",
       "    .dataframe tbody tr th:only-of-type {\n",
       "        vertical-align: middle;\n",
       "    }\n",
       "\n",
       "    .dataframe tbody tr th {\n",
       "        vertical-align: top;\n",
       "    }\n",
       "\n",
       "    .dataframe thead th {\n",
       "        text-align: right;\n",
       "    }\n",
       "</style>\n",
       "<table border=\"1\" class=\"dataframe\">\n",
       "  <thead>\n",
       "    <tr style=\"text-align: right;\">\n",
       "      <th></th>\n",
       "      <th>Nearest Neighbor</th>\n",
       "      <th>Distance</th>\n",
       "    </tr>\n",
       "  </thead>\n",
       "  <tbody>\n",
       "    <tr>\n",
       "      <th>16</th>\n",
       "      <td>353</td>\n",
       "      <td>0.046392</td>\n",
       "    </tr>\n",
       "    <tr>\n",
       "      <th>0</th>\n",
       "      <td>288</td>\n",
       "      <td>0.046689</td>\n",
       "    </tr>\n",
       "    <tr>\n",
       "      <th>8</th>\n",
       "      <td>5</td>\n",
       "      <td>0.050318</td>\n",
       "    </tr>\n",
       "    <tr>\n",
       "      <th>14</th>\n",
       "      <td>191</td>\n",
       "      <td>0.057438</td>\n",
       "    </tr>\n",
       "    <tr>\n",
       "      <th>18</th>\n",
       "      <td>39</td>\n",
       "      <td>0.057763</td>\n",
       "    </tr>\n",
       "    <tr>\n",
       "      <th>10</th>\n",
       "      <td>354</td>\n",
       "      <td>0.060016</td>\n",
       "    </tr>\n",
       "    <tr>\n",
       "      <th>15</th>\n",
       "      <td>191</td>\n",
       "      <td>0.060160</td>\n",
       "    </tr>\n",
       "    <tr>\n",
       "      <th>7</th>\n",
       "      <td>404</td>\n",
       "      <td>0.060841</td>\n",
       "    </tr>\n",
       "    <tr>\n",
       "      <th>13</th>\n",
       "      <td>154</td>\n",
       "      <td>0.064873</td>\n",
       "    </tr>\n",
       "    <tr>\n",
       "      <th>5</th>\n",
       "      <td>58</td>\n",
       "      <td>0.066482</td>\n",
       "    </tr>\n",
       "    <tr>\n",
       "      <th>6</th>\n",
       "      <td>45</td>\n",
       "      <td>0.066992</td>\n",
       "    </tr>\n",
       "    <tr>\n",
       "      <th>19</th>\n",
       "      <td>89</td>\n",
       "      <td>0.068002</td>\n",
       "    </tr>\n",
       "    <tr>\n",
       "      <th>1</th>\n",
       "      <td>415</td>\n",
       "      <td>0.071245</td>\n",
       "    </tr>\n",
       "    <tr>\n",
       "      <th>2</th>\n",
       "      <td>124</td>\n",
       "      <td>0.072543</td>\n",
       "    </tr>\n",
       "    <tr>\n",
       "      <th>12</th>\n",
       "      <td>173</td>\n",
       "      <td>0.077657</td>\n",
       "    </tr>\n",
       "    <tr>\n",
       "      <th>11</th>\n",
       "      <td>180</td>\n",
       "      <td>0.080671</td>\n",
       "    </tr>\n",
       "    <tr>\n",
       "      <th>17</th>\n",
       "      <td>160</td>\n",
       "      <td>0.080927</td>\n",
       "    </tr>\n",
       "    <tr>\n",
       "      <th>3</th>\n",
       "      <td>215</td>\n",
       "      <td>0.089026</td>\n",
       "    </tr>\n",
       "    <tr>\n",
       "      <th>4</th>\n",
       "      <td>282</td>\n",
       "      <td>0.089706</td>\n",
       "    </tr>\n",
       "    <tr>\n",
       "      <th>9</th>\n",
       "      <td>366</td>\n",
       "      <td>0.101004</td>\n",
       "    </tr>\n",
       "  </tbody>\n",
       "</table>\n",
       "</div>"
      ],
      "text/plain": [
       "    Nearest Neighbor  Distance\n",
       "16               353  0.046392\n",
       "0                288  0.046689\n",
       "8                  5  0.050318\n",
       "14               191  0.057438\n",
       "18                39  0.057763\n",
       "10               354  0.060016\n",
       "15               191  0.060160\n",
       "7                404  0.060841\n",
       "13               154  0.064873\n",
       "5                 58  0.066482\n",
       "6                 45  0.066992\n",
       "19                89  0.068002\n",
       "1                415  0.071245\n",
       "2                124  0.072543\n",
       "12               173  0.077657\n",
       "11               180  0.080671\n",
       "17               160  0.080927\n",
       "3                215  0.089026\n",
       "4                282  0.089706\n",
       "9                366  0.101004"
      ]
     },
     "execution_count": 4,
     "metadata": {},
     "output_type": "execute_result"
    }
   ],
   "source": [
    "np.random.seed(4545)\n",
    "%time distances, neighbors = KD_tree.query(diabetes_test, k=1)\n",
    "distance_frame = pd.DataFrame({'Nearest Neighbor':neighbors.ravel(), 'Distance':distances.ravel()})\n",
    "distance_frame.sort_values('Distance')"
   ]
  },
  {
   "cell_type": "markdown",
   "metadata": {},
   "source": [
    "Next print some summary statistics for the 20 queries just performed on the KD-tree by executing the code in the cell below.  "
   ]
  },
  {
   "cell_type": "code",
   "execution_count": 5,
   "metadata": {},
   "outputs": [
    {
     "name": "stdout",
     "output_type": "stream",
     "text": [
      "Stats for the tree\n",
      "Number of trims =   177 \n",
      "number of leaves =   256 \n",
      "number of splits =    413\n"
     ]
    }
   ],
   "source": [
    "print(\"Stats for the tree\")\n",
    "print(\"Number of trims = %5d \\nnumber of leaves = %5d \\nnumber of splits = %6d\" % KD_tree.get_tree_stats())"
   ]
  },
  {
   "cell_type": "markdown",
   "metadata": {},
   "source": [
    "Finally, we can filter by similarities to find the nodes of the KD-tree that are similar to the new observations in the test dataset by applying a threshold to the distance measure. For the purpose of demonstration, we select an arbitrary distance threshold to filter on. Execute the code in the cell below to apply a similarity threshold and display the results.   "
   ]
  },
  {
   "cell_type": "code",
   "execution_count": 6,
   "metadata": {},
   "outputs": [
    {
     "name": "stdout",
     "output_type": "stream",
     "text": [
      "With divisor = 2.5 and distance threshold = 0.0404\n",
      "\n",
      "The total number of similar cases = 0\n",
      "Empty DataFrame\n",
      "Columns: [Sample, Neighbor, Distance]\n",
      "Index: []\n"
     ]
    }
   ],
   "source": [
    "divisor = 2.5\n",
    "distance_threshold = round(np.max(distance_frame.Distance)/divisor, 4)\n",
    "print('With divisor = ' + str(divisor) + ' and distance threshold = ' + str(distance_threshold))\n",
    "mask = distances < distance_threshold\n",
    "\n",
    "n_samples = len(diabetes_test)\n",
    "similarity_results = pd.DataFrame({'Sample':range(n_samples), 'Neighbor':neighbors.ravel(), 'Distance':distance_frame.Distance}).loc[mask.ravel(),:]\n",
    "similarity_results.sort_values('Distance', inplace=True)\n",
    "\n",
    "print('\\nThe total number of similar cases = ' + str(sum(mask)[0]))\n",
    "print(similarity_results)"
   ]
  },
  {
   "cell_type": "markdown",
   "metadata": {},
   "source": [
    "> **Exercise 03-1:** Examine the results of the similarity search using the KD-tree algorithm and answer the following questions:\n",
    "> 1. Given the number of splits (nodes) and number of leaves of the KD-tree from the statistics printed above, do you think this tree is shallow and wide or narrow and deep, and why?         "
   ]
  },
  {
   "cell_type": "markdown",
   "metadata": {},
   "source": [
    "> **Answer:**\n",
    "> 1. The KD-tree described here is likely more narrow and deep because the number of splits (413) indicates multiple levels of partitioning and is greater than number of leaves (256), but it still maintains a balance with a significant number of leaves."
   ]
  },
  {
   "cell_type": "markdown",
   "metadata": {},
   "source": [
    "> 2. If `[100, 1000, 10000, 100000, 1000000]` times as many samples had been used construct and query the KD-tree, what is the expected wall clock tome required for construction and query of the KD-tree? To answer this question you need to compute the compuational complexity for these operations relative to the sames used in the running example. Use the cell below to compute and display a table of the results of your calculation. Your table should have columns showing the multiplier, the expected construction time annd the expected query time.      "
   ]
  },
  {
   "cell_type": "code",
   "execution_count": 23,
   "metadata": {},
   "outputs": [
    {
     "data": {
      "text/html": [
       "<div>\n",
       "<style scoped>\n",
       "    .dataframe tbody tr th:only-of-type {\n",
       "        vertical-align: middle;\n",
       "    }\n",
       "\n",
       "    .dataframe tbody tr th {\n",
       "        vertical-align: top;\n",
       "    }\n",
       "\n",
       "    .dataframe thead th {\n",
       "        text-align: right;\n",
       "    }\n",
       "</style>\n",
       "<table border=\"1\" class=\"dataframe\">\n",
       "  <thead>\n",
       "    <tr style=\"text-align: right;\">\n",
       "      <th></th>\n",
       "      <th>Multiplier</th>\n",
       "      <th>Construction Time (sec)</th>\n",
       "      <th>Query Time (sec)</th>\n",
       "    </tr>\n",
       "  </thead>\n",
       "  <tbody>\n",
       "    <tr>\n",
       "      <th>0</th>\n",
       "      <td>1.0</td>\n",
       "      <td>2.400000e-03</td>\n",
       "      <td>0.002000</td>\n",
       "    </tr>\n",
       "    <tr>\n",
       "      <th>1</th>\n",
       "      <td>100.0</td>\n",
       "      <td>4.605170e+02</td>\n",
       "      <td>4.605170</td>\n",
       "    </tr>\n",
       "    <tr>\n",
       "      <th>2</th>\n",
       "      <td>1000.0</td>\n",
       "      <td>6.907755e+03</td>\n",
       "      <td>6.907755</td>\n",
       "    </tr>\n",
       "    <tr>\n",
       "      <th>3</th>\n",
       "      <td>10000.0</td>\n",
       "      <td>9.210340e+04</td>\n",
       "      <td>9.210340</td>\n",
       "    </tr>\n",
       "    <tr>\n",
       "      <th>4</th>\n",
       "      <td>100000.0</td>\n",
       "      <td>1.151293e+06</td>\n",
       "      <td>11.512925</td>\n",
       "    </tr>\n",
       "    <tr>\n",
       "      <th>5</th>\n",
       "      <td>1000000.0</td>\n",
       "      <td>1.381551e+07</td>\n",
       "      <td>13.815511</td>\n",
       "    </tr>\n",
       "  </tbody>\n",
       "</table>\n",
       "</div>"
      ],
      "text/plain": [
       "   Multiplier  Construction Time (sec)  Query Time (sec)\n",
       "0         1.0             2.400000e-03          0.002000\n",
       "1       100.0             4.605170e+02          4.605170\n",
       "2      1000.0             6.907755e+03          6.907755\n",
       "3     10000.0             9.210340e+04          9.210340\n",
       "4    100000.0             1.151293e+06         11.512925\n",
       "5   1000000.0             1.381551e+07         13.815511"
      ]
     },
     "execution_count": 23,
     "metadata": {},
     "output_type": "execute_result"
    }
   ],
   "source": [
    "## Put you code below \n",
    "run_times = [100, 1000, 10000, 100000, 1000000]\n",
    "n_times = len(run_times)\n",
    "initial_construction_time = 2.4e-3\n",
    "initial_query_time = 2.0e-3\n",
    "n_rows = n_times + 1 \n",
    "\n",
    "time_estimates = pd.DataFrame({'Multiplier':[np.nan]*n_rows, 'Construction Time (sec)':[np.nan]*n_rows, 'Query Time (sec)':[np.nan]*n_rows})\n",
    "time_estimates.iloc[0,:] = [1, initial_construction_time, initial_query_time]\n",
    "\n",
    "for i in range(n_times): \n",
    "    index = i + 1\n",
    "    time_estimates.iloc[index,:] = [run_times[i], run_times[i] * math.log(run_times[i]), math.log(run_times[i])]\n",
    "time_estimates    "
   ]
  },
  {
   "cell_type": "markdown",
   "metadata": {},
   "source": [
    "> 2. What does the difference in growth of the construction time and query time tell you about the scalability of $n\\ log(n)$ vs. $log(n)$ compuational complexity?  \n",
    "> 3. There is wide range of nearest nearest neighbor distances found in the similarity search. Filtering by a distance threshold has reduced the number of similar candidates. Consider a case where you need to filter 10,000,000 cases down to 100 most similar to present top a user as search results. Given the scalablity of the query do you think this query and filtering can be done in a real-time maner of less than 20 seconds and why?     "
   ]
  },
  {
   "cell_type": "markdown",
   "metadata": {},
   "source": [
    "> **Answers:**      \n",
    "\n",
    "> 2.  The significant difference in the growth rates indicates that the construction of the KD-tree (nlogn) is much more computationally intensive compared to querying the KD-tree (logn) and the difference is more apparent as the multiplier becomes larger. This difference showcases the advantage of log(n) complexity for operations that need to be performed frequently, such as querying, compared to nlog(n) complexity for operations that are typically done once, such as construction.\n",
    "> \n",
    "> 3.  Theoretically yes but ONLY IF the filtering method implemented can be done with same log(n) computational complexity and concurrently with querying, i.e. not taking up much additional resources and runtime. Looking at the table above query time for 10k, 100k, and 1000k multipliers used 9.2,11.5,13.8 seconds roughly, so 10 times more (10 million cases) is expected to keep the log(n) computational complexity trend and increase roughly 2-3 more seconds, which would be 16 seconds, or less than 20 seconds."
   ]
  },
  {
   "cell_type": "markdown",
   "metadata": {},
   "source": [
    "## Locally Sensitive Hashing\n",
    "\n",
    "\n",
    "> **Reference.** This notebook is derived from an example in [Jonathan Kernes' GitHub repository](https://github.com/Jmkernes/Locality-sensitive-hashing-tutorial).\n",
    "\n",
    "> **Note:** A more comprehsnive and more production ready versions of LSH algorithms can be foud in the [DataaSketch](https://ekzhu.com/datasketch/index.html) packge.  \n",
    "\n",
    "In these exercises you will work with mini-hashes and locally-sensitive hashes on a small test dataset. The dataset comprises 4 articles from CNN.com. The 5th item in the dataset is a test document that is a concatenation of sections of 3 of the CNN articles, first, second and fourth. This 5th article is expected to produce artificially high similarity scores. With this small dataset you can easily compare approximations from the hashing methods to the fully Jaccard similarity scores between the text files.  \n",
    "\n",
    "Key steps in this example are: \n",
    "1. Clean and split each text file into a set of K-shingles, using a shingling function.     \n",
    "2. Compute the Jaccard similarity (intersection over union) between all pairs using the full set of shingles, no approximation.   \n",
    "3. Create and apply a MinHashing class which does the following:\n",
    "    - Initialize a dictionary of key-value pairs for the shingles.\n",
    "    - Apply minhashing on a shingle set with \"universal hashing\".\n",
    "    - Create a function to compute a **signature matrix**.\n",
    "4. Evaluate the effectiveness of mini-hashing by computing Jaccard similarity scores of all document pairs.\n",
    "5. Use locally sensitive hashing (LSH) to find **candidate pairs** of high similarity documents. Specifically, use a banded signature matrix to find all pairs whose estimated similarity is above a threshold. A hash table for band and column column ids to enable fast, $O(n)$, comparisons.\n",
    "\n",
    "To begin, execute the code in the cell below to import the required packages. "
   ]
  },
  {
   "cell_type": "markdown",
   "metadata": {},
   "source": [
    "## Min-Hashing without Locality Sensitive Hashing\n",
    "\n",
    "To begin you will create, execute and evaluate a basic mini-hashing algorithm. This mini-hashing process will then become the basis for the locally sensitive hashing (LSH) algorithm you will work with later in these exercises. "
   ]
  },
  {
   "cell_type": "markdown",
   "metadata": {},
   "source": [
    "### Load the Documents \n",
    "\n",
    "The code in the cell below loads the **corpus** of 5 documents. In text processing a corpus is any collection of related documents. Execute the code to load the document files and display the first 500 characters of each text document.    \n",
    "\n",
    "> **Note:** Depending on your file system, you may need to change the `HOME` and `DIR` variables. "
   ]
  },
  {
   "cell_type": "code",
   "execution_count": 8,
   "metadata": {},
   "outputs": [
    {
     "name": "stdout",
     "output_type": "stream",
     "text": [
      "\n",
      "First 500 characters of document 0\n",
      "\n",
      "Washington (CNN)White House chief of staff Mark Meadows told Food and Drug Administration Commissioner Dr. Stephen Hahn he needed to grant an emergency use authorization for Pfizer/BioNTech's coronavirus vaccine by the end of Friday, and if not, he needs to resign, an administration official and a source familiar with the situation tell CNN.\n",
      "\n",
      "Another person familiar with matter, who also confirmed the demand that the vaccine be authorized by the end of Friday, said President Donald Trump has bee\n",
      "\n",
      "First 500 characters of document 1\n",
      "\n",
      "Investigators with the Manhattan district attorney's office have interviewed several employees at President Donald Trump's lender and insurer in recent weeks as part of a wide-ranging investigation into the Trump Organization, according to multiple people familiar with the investigation.\n",
      "\n",
      "Two employees of Deutsche Bank, which has loaned more than $300 million to the Trump Organization, were interviewed by prosecutors, according to sources familiar with the matter.\n",
      "The interviews took place after\n",
      "\n",
      "First 500 characters of document 2\n",
      "\n",
      "In the final days of his desperate, dishonest campaign to upend last month's election, President Donald Trump tossed off a particularly audacious and offensive challenge aimed at those he somehow thinks can change the outcome.\n",
      "\n",
      "\"Let's see if they have the courage to do what everybody in this country knows is right,\" he said.\n",
      "With time running out, his blatant hope was to intimidate and bait state legislatures or the Supreme Court into overturning a vote of the people, by legislative or judicial \n",
      "\n",
      "First 500 characters of document 3\n",
      "\n",
      "ew quarantine hobbies have unearthed new passions, some bringing with them a literal silver lining.\n",
      "This year, backyard archaeologists in the United Kingdom have recorded discoveries of more than 47,000 objects, the British Museum announced this week.\n",
      "Regular people found the vast majority of the historical artifacts by traversing the countryside with metal detectors, before adding or updating records through the museum's Portable Antiquities Scheme.\n",
      "The British Museum said the program also saw \n",
      "\n",
      "First 500 characters of document 4\n",
      "\n",
      "ew quarantine hobbies have unearthed new passions, some bringing with them a literal silver lining.\n",
      "This year, backyard archaeologists in the United Kingdom have recorded discoveries of more than 47,000 objects, the British Museum announced this week.\n",
      "Regular people found the vast majority of the historical artifacts by traversing the countryside with metal detectors, before adding or updating records through the museum's Portable Antiquities Scheme.\n",
      "The British Museum said the program also saw \n",
      "\n",
      "First 500 characters of document 5\n",
      "\n",
      "i\n",
      "me\n",
      "my\n",
      "myself\n",
      "we\n",
      "our\n",
      "ours\n",
      "ourselves\n",
      "you\n",
      "your\n",
      "yours\n",
      "yourself\n",
      "yourselves\n",
      "he\n",
      "him\n",
      "his\n",
      "himself\n",
      "she\n",
      "her\n",
      "hers\n",
      "herself\n",
      "it\n",
      "its\n",
      "itself\n",
      "they\n",
      "them\n",
      "their\n",
      "theirs\n",
      "themselves\n",
      "what\n",
      "which\n",
      "who\n",
      "whom\n",
      "this\n",
      "that\n",
      "these\n",
      "those\n",
      "am\n",
      "is\n",
      "are\n",
      "was\n",
      "were\n",
      "be\n",
      "been\n",
      "being\n",
      "have\n",
      "has\n",
      "had\n",
      "having\n",
      "do\n",
      "does\n",
      "did\n",
      "doing\n",
      "a\n",
      "an\n",
      "the\n",
      "and\n",
      "but\n",
      "if\n",
      "or\n",
      "because\n",
      "as\n",
      "until\n",
      "while\n",
      "of\n",
      "at\n",
      "by\n",
      "for\n",
      "with\n",
      "about\n",
      "against\n",
      "between\n",
      "into\n",
      "through\n",
      "during\n",
      "before\n",
      "after\n",
      "above\n",
      "below\n",
      "to\n",
      "from\n",
      "up\n",
      "down\n",
      "in\n",
      "out\n",
      "on\n",
      "off\n",
      "over\n",
      "under\n",
      "again\n",
      "further\n",
      "then\n",
      "once\n",
      "here\n",
      "there\n",
      "when\n",
      "where\n",
      "why\n",
      "how\n",
      "a\n"
     ]
    }
   ],
   "source": [
    "HOME = os.getcwd()\n",
    "DIR = 'Documents/sampledocs'\n",
    "TARGET = os.path.join(HOME, DIR)\n",
    "\n",
    "def print_articles(docs, num_characters=500):\n",
    "    for i in range(len(docs)):\n",
    "        print('\\nFirst 500 characters of document ' + str(i) + '\\n')\n",
    "        print(docs[i][:500])    \n",
    "\n",
    "documents = []\n",
    "for article in sorted(os.listdir(TARGET)):\n",
    "#for article in os.listdir(TARGET):\n",
    "    if article == 'stopwords':\n",
    "        continue\n",
    "    path = os.path.join(TARGET, article)\n",
    "    with open(path, 'r') as file:\n",
    "        documents.append(file.read())    \n",
    "       \n",
    "print_articles(documents)        "
   ]
  },
  {
   "cell_type": "markdown",
   "metadata": {},
   "source": [
    "The text of these documents appear to have structure common to news articles. The question you will investigate is the similarity of these articles to each other, and particularly the last article, which is comprised of elements of documents, 0, 1 and 3. "
   ]
  },
  {
   "cell_type": "markdown",
   "metadata": {},
   "source": [
    "### Document Preparation\n",
    "\n",
    "The first step in determining document similarity is to prepare the document text. Many text preprocessing steps are used in text mining. In this case, we will just do these minimum steps:\n",
    "1. Remove **Stop words** from the text. Stop words are common words very likely to occur multiple times in most any document. Since stop words occur frequently, yet have little or no semantic value, they bias the similarity between documents. Examples of common stop words are 'and' or 'the'. The code in the cell below creates a list of stop words from a file. If a stop word is encountered in the text of one of the documents, the stop word and surrounding white space is replaced by a single white space character, ' '.        \n",
    "2. Remove end of line characters, '\\n', and replace them with white space, ' '.\n",
    "3. Convert all characters to lower case.   \n",
    "\n",
    "Execute the code in the cell below to create and display the list of stop words. "
   ]
  },
  {
   "cell_type": "code",
   "execution_count": 9,
   "metadata": {},
   "outputs": [
    {
     "name": "stdout",
     "output_type": "stream",
     "text": [
      "['i', 'me', 'my', 'myself', 'we', 'our', 'ours', 'ourselves', 'you', 'your', 'yours', 'yourself', 'yourselves', 'he', 'him', 'his', 'himself', 'she', 'her', 'hers', 'herself', 'it', 'its', 'itself', 'they', 'them', 'their', 'theirs', 'themselves', 'what', 'which', 'who', 'whom', 'this', 'that', 'these', 'those', 'am', 'is', 'are', 'was', 'were', 'be', 'been', 'being', 'have', 'has', 'had', 'having', 'do', 'does', 'did', 'doing', 'a', 'an', 'the', 'and', 'but', 'if', 'or', 'because', 'as', 'until', 'while', 'of', 'at', 'by', 'for', 'with', 'about', 'against', 'between', 'into', 'through', 'during', 'before', 'after', 'above', 'below', 'to', 'from', 'up', 'down', 'in', 'out', 'on', 'off', 'over', 'under', 'again', 'further', 'then', 'once', 'here', 'there', 'when', 'where', 'why', 'how', 'all', 'any', 'both', 'each', 'few', 'more', 'most', 'other', 'some', 'such', 'no', 'nor', 'not', 'only', 'own', 'same', 'so', 'than', 'too', 'very', 's', 't', 'can', 'will', 'just', 'don', 'should', 'now']\n"
     ]
    }
   ],
   "source": [
    "stopwords = []\n",
    "with open(os.path.join(TARGET, 'stopwords.txt'), 'r') as file:\n",
    "    for line in file:\n",
    "        stopwords.append(line.strip())\n",
    "        \n",
    "print(stopwords)"
   ]
  },
  {
   "cell_type": "markdown",
   "metadata": {},
   "source": [
    "Examine the list of stop words. Notice that they are all common words that generally have low semantic value.   \n",
    "\n",
    "The code in the cell below does the following:    \n",
    "1. Applies the preprocessing steps to each of the documents.    \n",
    "2. Computes and displays some simple summary statistics about the documents.   \n",
    "3. Displays the first 500 characters of the processed documents.    \n",
    "\n",
    "Execute this code."
   ]
  },
  {
   "cell_type": "code",
   "execution_count": 10,
   "metadata": {},
   "outputs": [
    {
     "name": "stdout",
     "output_type": "stream",
     "text": [
      "Average char-length: 3043.8333333333335\n",
      "Min char-length: 5\n",
      "Max char-length: 5873\n",
      "\n",
      "\n",
      "\n",
      "First 500 characters of document 0\n",
      "\n",
      "washington (cnn)white house chief staff mark meadows told food drug administration commissioner dr. stephen hahn needed grant emergency use authorization pfizer/biontech's coronavirus vaccine end friday, not, needs resign, administration official source familiar situation tell cnn.  another person familiar matter, also confirmed demand vaccine authorized end friday, said president donald trump venting fda chief since vaccine rolled uk earlier week. two men call friday morning. white house offici\n",
      "\n",
      "First 500 characters of document 1\n",
      "\n",
      "investigators manhattan district attorney's office interviewed several employees president donald trump's lender insurer recent weeks part wide-ranging investigation trump organization, according multiple people familiar investigation.  two employees deutsche bank, loaned $300 million trump organization, interviewed prosecutors, according sources familiar matter. interviews took place november presidential election, people said, focused general questions bankers assess loans underwriting criteri\n",
      "\n",
      "First 500 characters of document 2\n",
      "\n",
      "in final days desperate, dishonest campaign upend last month's election, president donald trump tossed particularly audacious offensive challenge aimed somehow thinks change outcome.  \"let's see courage everybody country knows right,\" said. time running out, blatant hope intimidate bait state legislatures supreme court overturning vote people, legislative judicial fiat. trump's perverse definition \"courage\" \"right,\" course, amounts willingness bend truth prize continuation office american democr\n",
      "\n",
      "First 500 characters of document 3\n",
      "\n",
      "ew quarantine hobbies unearthed new passions, bringing literal silver lining. year, backyard archaeologists united kingdom recorded discoveries 47,000 objects, british museum announced week. regular people found vast majority historical artifacts traversing countryside metal detectors, adding updating records museum's portable antiquities scheme. british museum said program also saw uptick people updating digital records antiquities country full lockdown march 22 may 13. database contains record\n",
      "\n",
      "First 500 characters of document 4\n",
      "\n",
      "ew quarantine hobbies unearthed new passions, bringing literal silver lining. year, backyard archaeologists united kingdom recorded discoveries 47,000 objects, british museum announced week. regular people found vast majority historical artifacts traversing countryside metal detectors, adding updating records museum's portable antiquities scheme. british museum said program also saw uptick people updating digital records antiquities country full lockdown march 22 may 13. database contains record\n",
      "\n",
      "First 500 characters of document 5\n",
      "\n",
      "i now\n"
     ]
    }
   ],
   "source": [
    "for i, doc in enumerate(documents):\n",
    "    doc = doc.strip().replace('\\n', ' ').lower()\n",
    "    for word in stopwords:\n",
    "        doc = doc.replace(' '+word+' ', ' ')\n",
    "    documents[i] = doc\n",
    "\n",
    "print(f\"Average char-length: \\\n",
    "{np.mean(np.array([len(x) for x in documents]))}\")\n",
    "print(f\"Min char-length: {min(len(x) for x in documents)}\")\n",
    "print(f\"Max char-length: {max(len(x) for x in documents)}\")\n",
    " \n",
    "print('\\n')    \n",
    "print_articles(documents)        "
   ]
  },
  {
   "cell_type": "markdown",
   "metadata": {},
   "source": [
    "There are several observations one can make about the processed documents:   \n",
    "1. All of the documents are in a similar size range.   \n",
    "2. The preprocessing steps have been successfully carried out with stop words and end of line characters gone and the characters all lower case. "
   ]
  },
  {
   "cell_type": "markdown",
   "metadata": {},
   "source": [
    "### Shingling Documents\n",
    "\n",
    "Now you are ready to shingle the documents.  \n",
    "\n",
    "> **Exercise 3-2:** You will complete the `getShingles` function below. The function uses a [Python set](https://python-reference.readthedocs.io/en/latest/docs/sets/) to create the shingles for each document. Here, we use character shingles, including white space, number and punctuation. The missing code uses a moving window of length $k$ to find the shingles. Now write code doing the following:    \n",
    "> 1. Loop over the rage of possible overlapping windows of length K.     \n",
    "> 2. In each window add the resulting shingle to the set. You can find a short overview of the Python set add method [here](https://www.w3schools.com/python/python_sets_add.asp).  \n",
    "> 3. Execute your code and examine the results. "
   ]
  },
  {
   "cell_type": "code",
   "execution_count": 11,
   "metadata": {},
   "outputs": [
    {
     "name": "stdout",
     "output_type": "stream",
     "text": [
      "Document 1 shingles: {'g.\" w', 'd-19,', ' leav', '\" \"i ', 'lier ', 'hink ', 'e sai', 'ement', 'apper', 'ernoo', ' reco', 'on me', 'ving ', 'invol', 'missi', 'exper', 'ion) ', 'sers ', '!!\" p', 'autho', 's tak', 'g aut', 'ding ', 'n pfi', 'nce v', 'tappe', 'e vac', 'escri', 'ookin', 'te pr', '\"get ', 'dermi', 'd aut', 'ssure', 'ity p', \"dent'\", 'hahn ', 'ld un', 'n hah', 'ess a', 'lth e', 'ner d', 'rk me', 'ccine', \"t's u\", 's eva', 'nflue', \"sn't \", 'impat', 'i, he', 'tient', 'e tol', '(emer', 'ntati', 'r mea', 're st', 'ure a', 'free ', 'after', 'en ha', 'addit', 'iptio', 'ows w', 'e clo', 'pecte', 'rnoon', 'ted t', 'uncle', 'ng au', 'joe b', 'ar si', 'e add', 'sed g', 'repre', 'r act', ' turt', 'ncy u', ', not', 'grant', 'ion q', 'ect u', 'tiona', 'noon ', 'y led', 'itiou', 'ernme', 'inent', 'kely ', 'ked a', 'ty le', 'a,\" t', 't-ele', ' infl', 'e.\" \"', 's new', 'said ', 'calle', 'ty ef', 'issio', \"izer'\", 'ss au', 'all f', '\" bid', \"h's (\", 'ct jo', 'd age', 'es no', 'epres', 'ing a', ' week', 'ecomm', '.\" \"g', \"'s fr\", 'ntifi', '\"fda ', 'slaou', 'eat l', 'nce -', 'cy us', 'ude \"', 'ssibl', 'entat', 'rent,', 'ying ', 'reat ', 'rump ', 'nt an', ', tur', ' \"reg', 'idenc', 'le le', 's eff', 'grown', 'ry ri', 'afety', ') req', 'temen', 'me en', 'id pr', 'er we', 'so de', 'd saf', 'aid. ', 'a vot', 'oncef', 'ne pu', ' lead', 'e aut', 'ent-e', 'ld ma', 'regul', 'ining', 'matte', 'd loo', 'tevef', 's sta', 'lose ', ' defe', 'ead u', 'neede', 'ef sl', 'ing f', ' forc', 'rtuni', 'use o', 'descr', 'onfid', '\" hah', ' top ', ' warn', ' and,', ' quic', 'ntrue', 'ests ', 'oliti', ', fir', 'ine a', 'sione', 'lic c', 'e, so', ' now,', 'sign ', 'ise a', 'y dis', ' time', 'press', 'g whi', 'ther ', 'lop v', 'frust', 'ncy g', 'ected', 'rant ', 'er \"t', 'e rol', 's pro', 's res', 'ntinu', ' towa', 'nment', 'y con', 'nn tr', 'ing l', 'taff.', 'ted d', 'ted a', 'vacci', ' head', 'mpati', 'task ', ' uk e', 'use a', \"ment'\", 'make ', 'uncin', 'k. tw', 'vefda', ' untr', 'ld cn', 'arful', 't joe', 'in-de', 'ate s', 'hreat', 'issui', 'irus ', 'tude ', 'ump w', 'd. \"t', 'f sta', 'ul al', ' poli', 'hite ', 'along', ' doub', \"ne's \", 'zer/b', 't lat', 'yes, ', 'unity', 'es po', 'ahn n', 'iliar', 'these', 's now', 'cks, ', 'us va', 's wou', ' conf', 'rests', 'tial ', \"er's \", '(cnn)', 'ng ex', 'y peo', 'ical ', 't,\" h', 'efend', 'ts pu', 'e \"to', 'n urg', 'rt sa', 'ugh, ', 'scrib', 'l eff', ' slao', 'dent-', 'aid c', 'se ch', 'post,', 'hese ', 'ine r', ' pote', 'fired', 'ourag', 'n sai', 'rue r', 'ons c', 'dded ', 'lives', 'rt de', 's!!!\"', 'under', 'oking', 'ts ru', 'g ele', 'nt-el', \"rts' \", 'e und', 'ealth', 'iar c', 'e exp', 'iday,', 'cines', 'think', 'ce,\" ', 'ump v', 'morni', 'ine e', ', com', ' pick', 'ws ha', 'nt au', 'urn, ', ')whit', 'orize', ' not,', 'tly.\"', 'ay co', 'atien', 'ncing', 'ight,', 'irst-', 'one c', 'fda c', 'th va', 'influ', 'sts p', ' blun', ' admi', 'aged ', 'fety ', 'ted w', 'fice.', 'iar m', ' priv', ', rem', ' \"fda', 'o sci', 'ally ', ' rais', 'ns ch', 'firme', 'a chi', 'ush m', ' (eme', 'ants ', ' tran', 'l int', 'ety e', 'aoui,', 'marks', 'ntech', 't und', 'liar ', 'r. mo', 'ee po', 'expec', \"ent's\", 'ransp', 'th ex', 'rmine', 'd\" fr', 'uted ', 'ff mi', 'ws wo', 'mark ', 'remar', ' conv', ' heal', 'n off', ', new', 'ntegr', 'coron', 'safet', 'ahn @', '-rate', 'p vac', 'ely r', 'mmine', '. dr.', '/bion', 'ek. t', 'on (c', 'l sou', ' \"get', 'olled', 's, co', '!\" pr', 'on, f', 'irst ', ' two ', 'raged', 'cribe', 'ts ta', 'ienti', 'd sta', 'onald', 'rce s', 'ows h', 'strat', ', sou', 'ke ta', 'aid a', 'ctual', 'nt fr', 'rted ', 'editi', 'perso', 'd als', 's nee', 'on pi', 't rep', 'tent ', 'es!!!', 'tatem', ' agen', 'on of', ' elem', 'need ', 'ld tr', 'rolle', 'essur', 'ts ev', 'also ', 't war', 'uest,', 'possi', 'en, r', 'th re', 's upd', 'ce ef', 'at la', 'fety.', 'd mom', 'ves!!', ', dr.', 'time ', 'satio', 'g chi', '\" fri', 'n add', 'roces', 'ateme', 'ved v', \"'s do\", 'e con', ' resi', 's aut', 'ton (', 'd end', 'oward', 'est,\"', 'noted', 'aviru', ' at. ', 'minen', '. sou', 'onal ', 'n isn', 'gress', 'turn,', 'tion ', 'te co', 'nal t', ' enco', 'rsday', 'er dr', 'the l', 'e per', ' look', 'said.', 'ent d', ' gran', 'ectiv', 'l sai', 'hursd', 'g, ol', 'rged ', 'ddres', 'ence.', 'ls wo', 'emark', 'rus t', 'ovid-', 'orkin', 'threa', 'event', 'vid-1', 'ar co', ' issu', 'annou', 'ws me', 'r, al', 'urtle', 'ted m', ' effi', 'food ', 'd at.', 'ashin', 'n vac', 'ting ', 's vac', 'ate c', 'essed', 'a \"a ', 'ner a', 'trans', 'ists ', 'r. ha', 'comme', 'c, co', 'e.\" h', 'ly, n', ',\" sa', 'entia', 'eed l', 'ct un', 'ted f', 'n (cn', '\"regu', 'n eve', '. two', 'ime l', 'r pre', 'mp ve', 'an ef', 'ually', 'any v', 'g gam', 'le se', 's and', 'irmed', 'ss an', 'ortun', '-dept', 'tuati', 'ficia', 'doubt', 'ntist', 'ed de', \"t's f\", 's hah', ' thor', 'g add', 'erned', 'lled ', ' revi', 'ef st', 'iar s', 'am va', 'es st', '.\"thi', 'tion,', 'uld u', 'uld p', 'gover', 'ncern', 'dmini', 'ut un', 'ss ne', 'mend ', 'ed th', 'recom', 'omise', 'effec', 'ws to', 'ng li', 'd uk ', 'mand ', ' morn', 'eek. ', 'lso d', 'cient', ' scie', 'te sc', 'nce.\"', 'cial ', 'itude', 'hingt', 'al ef', '\"thes', 'ng ti', 'nothe', \"'s co\", 'e wor', 'sure ', 'e pro', 'porte', 'nes n', 'ded a', 'ow, d', 'scien', 'd pub', 'rning', 'y.\"th', 's, th', 'dditi', 'st, n', 'senta', ' vacc', 'ularl', 'ffice', 'lear ', 'sly p', ' repo', \"isn't\", 'ed fd', 'velop', 'ers f', 'rs fd', 'nts n', 'hn sa', 'gn pr', 't eme', 'offic', ' thur', 'on) r', 'ne ex', ' rush', ' addr', 'ith v', 'ly di', '\" \"ge', 'story', 't ann', 'nd ag', 'lunt ', '. fri', 'ed st', 't fri', ' cnn ', 's tol', 'ould ', '.\" \"i', '\"an e', 'es pr', 'tious', 'ressu', 'ssed ', 'rnmen', 'ning ', \"'t gr\", 'white', 'n pro', 'n tel', 'on va', 'teres', 'men c', \"t's t\", 'cienc', ' \"a b', 'on co', 'r \"th', 'nding', 'al so', 'd was', 'd imm', \"cnn's\", 'aking', ' cnn.', 'r. st', 'nald ', 'cted ', 'get d', ' twee', 'e cal', ' rema', 'gton ', 'iency', '-bion', '. fda', 'ence ', '. pub', 'ng fd', 'ition', 'dr. m', 'istra', 'pth r', 'poten', ' sign', 'ews m', 'ul fd', 'nfide', 'zed e', 'rgenc', 'p ven', ' jake', 's eme', 'leave', 'se pu', 'nting', 'al qu', 'ess r', 'is un', 't don', 'ounci', 'ows d', 'conce', 'cent ', ' sour', 'fiden', 'mp wa', 'eques', ' fda ', 'mes s', '\"stop', 'paren', ' (cnn', 'vate ', 'ired.', 'y, ca', 'k mea', 'now, ', 'ect j', ', old', \"nt's \", 'ef \"r', 'ake c', 'r wee', \"'s un\", ' live', 't, th', 'isers', 'rd va', 'ffort', 'rce t', 'litic', 'ty pe', 'r con', \"orts'\", 'od dr', 'uld c', 'staff', 'nted ', 'expre', 'top p', 'orted', 'ripti', 'ons e', 'inue ', 'a big', 'entif', 'lling', 'es of', ' fire', 'trati', 'd \"an', ' prog', \"'s ef\", 'eeded', ' call', 'ree p', ' situ', 'ibed ', 'rush ', 'eleme', 's fri', 'n. so', 'resen', 'steph', 'nt we', 'ged p', 'thoro', 'ly.\"t', 'ble l', 'ews l', 'er ac', 'ines ', 'faith', 'rce c', 't mak', 'se fi', 'y eff', 'looke', ',\" tr', ' requ', 'on ev', 'izer-', 'da,\" ', 'xpect', '\"the ', \"ine's\", 'ial f', 'oriza', 'uthor', 'ment.', 'ves o', 'ear p', 'e loo', 'e rep', \"'s sa\", 'rustr', 'ng.\" ', \"cine'\", 'o def', 's rus', 'aff. ', 'e bid', 'he le', 'zer-b', 'nspar', 'spare', 'ne ca', 'ocess', 'adows', ' hahn', 's cor', 'effic', ' frid', 'iew.\"', 'egula', 'ent. ', 'd. bl', 'ermin', ' \"yes', 'mp ad', 'on sa', 'g tel', 'ursda', 'ke th', 'ce --', 'laoui', 'inter', 'earli', 'proce', ' stat', 'ay. d', '\" pre', 'ogres', 'covid', 'ld, s', 'ay, s', \"' pot\", 'gency', 'would', 'clear', 'so co', 'nt do', ' late', 'e cor', 'ough,', 'lved ', 'ue wo', 't, ne', 'rking', ' safe', '. hah', 't. sc', 'phen ', 's gov', 'ign, ', 'phone', 'oon. ', 'ahn s', \"'s (e\", 'ional', \"ch's \", 'rus v', 'sk fo', ' fear', 'iar p', 'hinki', ' hous', 'cy, f', 'ows t', 'inist', ' desc', 'ld pu', ' free', 'per \"', 'ed at', 'ight ', 'n pic', 'ahn q', ' firs', 'effor', 'healt', 'e sci', ' come', 'on te', 'ory r', 'rn, c', 'ld fo', 'ivate', 'nt pr', 'aid p', 'vent ', 'due p', ' taki', '@stev', 'ce. f', 'takin', 'famil', ' said', \" isn'\", 'titud', 'mprom', '!!!\" ', 'ent t', ' make', 'rger ', 'ar ma', ' gove', 'uests', 'arger', 'ald t', 'hone ', ' impa', 'n pho', ' joe ', 'ed fr', '. \"th', 'needs', 'g. wh', 'mmiss', 'rown ', 'd dem', 'orona', 'e, it', ' @ste', 'ed is', 'mmend', 'oncer', ' earl', 'ant m', 'nue w', 'horiz', 'ng wh', 't. pe', ' star', ' dema', 'isput', \"e's s\", 'ost, ', 'g adm', ' well', 'ontec', 'egrit', \"'s th\", 'st re', 'confi', 'ful f', 'ion v', 's fru', 'fda \"', 'rivat', 'd mak', 'picks', '.\" tr', 'se of', 'lic e', ' larg', '.vacc', ', nee', 'ns ex', ' alon', 'on ph', 'sts u', 'iday ', 'rizat', ' fait', 'cnn t', 'ndue ', 'biden', 'e sto', 'tegri', ' migh', 'start', 'cy gr', 'ent m', 'al in', ' wash', 'ed lo', '.\" ha', ' game', \" fda'\", 'on. \"', ' effe', 'day a', 'ioner', '\"a bi', ' advi', ', tol', \"'s ja\", 'ing. ', 'ine.\"', 'ter, ', 'esent', 'da \"a', ' effo', 's pos', 'tephe', 't wee', \" cnn'\", 'ard v', '\"this', 'er, a', 's fea', ' invo', 'ion, ', 'ar me', 'ice. ', 'on is', 'tions', 'ng ad', 'compr', ' told', 've, t', 'turtl', 'ow tu', ',\" bi', 'unt w', 'ws li', 'head ', 'eded ', 's jak', 'ght,\"', 'ments', 'd put', 'ay re', 'ss, d', 'ic he', 'nes p', 'cine.', 'volve', 'op va', 'lemen', 'nt. p', 'ump g', ' news', 'ic, c', 'grity', 'old, ', 'uesti', 'cerne', 'ion o', 'dates', 'ged c', 'king ', 'rst-r', ' clos', 'games', 'rson ', 'id al', ' inte', 'dence', 'mp tw', 'l res', 'ts ne', ' exte', 'stion', 'se co', ' post', ' disp', 't tru', 'day, ', 'cnn. ', ' note', ', hea', 'c int', 'da co', 'n imp', ' cont', 'well ', 'riday', 'arlie', 'rized', 'use c', 'warni', 'cript', 'and, ', 'ncour', 't sav', 'se au', 'ive, ', 's mea', 'e pub', 'lso c', 'blunt', 'gn, a', 'advis', 'onver', 'blic ', 'epth ', 's rec', 'sourc', 'taff ', ' use ', 'ikely', 'ell c', ' emer', ' see ', 'd fda', 'da en', 'ay af', 'nce,\"', 'ossib', 'y. \"y', 'd thu', 'ames ', 's, on', 'nentl', 'ing t', ', cal', 'tenti', 'y rai', '. \"fd', ' adde', 'iden ', 'towar', 'ic in', 'urce ', 'd foo', 'ff. f', 'aves ', 'd und', ' old,', 'exten', 'eted.', 'ince ', 'ee un', 'd des', 'olved', ' thre', 'e. fr', '\" sai', ' savi', 'ion c', 'n cal', 'ion p', 'tell ', 'long ', 'e fir', 'n) re', 'late ', '. sci', ' peop', 'ted s', 'meado', 'patie', 'id. p', 'w tur', ' men ', ' \"an ', 'e pol', 'see u', 'to sc', 'rug a', \"ts' p\", 'y mor', 'ickly', 'ead\" ', 'mment', 'son s', 'nistr', \"r's e\", 'r per', 'y req', 'ed pu', '\"i wa', 's, de', ',\" ha', ' us p', 'ke cl', 'e,\" b', 'ompro', 'weeks', 'ne.\" ', 'ion t', 'k opp', ' many', 't dam', 'et da', 'dent ', 'fort.', 'oment', 'day m', 'tinue', 'ng co', 'ouse ', ', tho', 'ar pr', 'sts t', 'alth ', 'all c', 'n cou', 'h rev', 'n com', 'ic fa', 'ic ex', \"n't g\", 'aff m', 'uatio', \"it's \", 'ed re', 'horou', 'ports', '. \"ye', 'l que', 'cine ', 'ds re', 'll cn', 'cine,', 'could', 'ne, s', 'on, p', 'h exp', 'de \"t', \", it'\", \"nn's \", 'lic h', 'son a', 'sible', 'nk op', 'told ', 'iousl', 'f mig', ' even', 'ng el', 'l fda', 'fda v', 'e whi', 'uence', '\"yes,', 'oui, ', 'old c', 'news ', 'c fai', ' pers', 'resid', 'r-bio', 'tes p', 'ions ', 'ctive', 'n nee', 's lik', 'many ', ' deve', 'uated', 'ure s', 'rate ', 'shing', 'ce to', ' uncl', 'on po', 'fort ', 'i wan', 'll re', ', slo', ', one', 'eport', ' like', 'anted', 'zed i', 'ne au', 'd gra', 'nity ', '.  an', 'ate p', 'not, ', 'kly, ', 'p wan', 'w.\" t', 'tweet', 'id co', 'd fri', 'ks fr', 'telli', 'ug ad', 'ort.v', 'anoth', 'dr. h', 'hn qu', ' comp', ' afte', 'ized ', 'esign', 'n con', 'nt wa', 's, ad', 'spute', 'd vac', 'o con', 'ource', 'd dru', ' one ', 'puted', 'w, dr', 'oon e', 'ward ', 'nd, t', 'fecti', 'drug ', 'ly ra', 'peopl', 'red. ', 'elop ', 'ant e', 'e lea', ' big,', ' work', 'r pub', 'tunit', 'ial s', 'ne co', 'promi', 'on qu', 'evelo', 'frida', ' stor', 'y pfi', 'end f', 'uk ea', ' \"i w', 'repor', 'ask f', 's poi', 'ently', 'ui, h', 'aith ', 'ng. w', ' sinc', '19, t', 'ionte', ' thin', 'ffect', 'ing e', 'ew.\" ', 'n eff', '. ste', 'inkin', \" it's\", 'updat', 'lead\"', ' food', 'urage', 'virus', ' proc', 'ng ga', ' us g', 'ort d', ', des', 'den s', 'ent p', 'tive,', 'weete', 'ficie', 'this ', 'd, tu', 'fendi', 'resse', 'te ho', 'eadow', 'n mea', 'versa', ' anot', 'entin', 'commi', 'accin', 'romis', 'efda,', 'itica', 'y. dr', 'e cle', 'ng ch', 'er si', ' woul', 'steve', ' \"to ', 'oked ', 'ed en', 'polit', 'ustra', 'h man', 'thori', 'pport', ', tra', 'cef s', 'nal q', 'ooked', 'onfir', 'ously', 'resig', 'ed au', 'ty. \"', 'quick', ', thi', 'evalu', 'ton p', 'se ad', 'e adv', 'nt ma', 'lly f', ' staf', 'dvise', 'oted ', \"zer's\", ' drug', 'force', 'evefd', 'er-bi', 'ig, o', 'ncy, ', ' immi', ' righ', 'terno', ' coro', ' actu', 'ay la', ' comm', 'ent a', 'ss re', 'izer/', 'ce va', 'icial', 'eds r', 't,\" s', 'week.', 'two m', 'raise', \"'s ex\", \"tech'\", 'ent f', 'tful ', ' upda', 'ommit', 'and h', 'ersat', 'ad\" f', 'own i', 'washi', 'ake t', 'ning.', 'p gro', ' dr. ', ' turn', 'nounc', 'revie', 'oppor', 'ation', 'lect ', 'n, ad', 'mp gr', 'd, sl', 'ff ma', 'ne ad', 'id. \"', 'ne pe', 'tuall', 'itted', 'emand', 'scrip', ', adm', 'e, tr', 'nnoun', 'mmitt', 'ituat', 'minin', 'f sla', \"n's j\", 'ontin', 'added', 'ny va', 'looki', ' addi', 'ption', 'g fda', ', fre', 'r sig', 'ople ', 'ks, a', 'house', 'ommen', 's fda', 'erest', 'll ch', ' dona', 'day c', 'nt, t', 'slow ', 'ng te', 'dr. s', 'ght w', 'viser', 'ink o', '. per', 'fearf', 'fda e', 'suing', 'nn. s', 'low t', 'g cnn', 'portu', 'atitu', 'on pr', ', als', 'alled', 'ese f', 'ed wa', 'd pre', 'ress ', 'earfu', 'otent', 'larly', 'right', 't.vac', 'situa', 'rough', 'rsati', 'ence,', 't gra', 'jake ', '9, to', 'y use', 'untru', ', per', 'h vac', 'estio', 'led f', 'pdate', ' poin', 'ublic', 's inv', 'ing c', 'day. ', 'nt mo', 'ong w', 'xpedi', 'hief ', 'conve', 'l alo', 'ly fi', ' \"the', 'wn im', 'y rec', 'fect ', 'siden', 'rlier', ', con', 'ckly,', 'ed mo', 's unt', 'id st', 'usly ', '-- po', 'id-19', 'point', '. \"st', 'rtle.', 'y, fr', 'aluat', 'es, t', 'tter,', 'eeds ', 'ffici', 'endin', 'l fri', 'nvers', \"ech's\", 'eside', ' want', 'en ca', 'perts', ' publ', ' slow', 'l fam', 'ef si', 'den, ', 'grati', 'trump', 'thurs', \"t's d\", 'anspa', 'tory ', 'view.', 'pfize', ' step', 'exped', 'r mat', 'rmini', 'voted', 's chi', 'rst r', 'ess n', 'ood d', 's (em', 'ld co', 'ed co', 'll fr', 'prese', 'ht we', 'ing g', 'biont', 'en sa', 'kly d', \"'s em\", 'us ta', 'a enc', 'y fir', 'p adm', 'ives!', 'presi', 'int.\"', 'tical', 'ssuin', 'reque', 'eeks,', 'overn', 'top a', 'sign,', ' tapp', ' task', 'eview', ' repr', 'oubtf', 'eks, ', 'aise ', 'sday ', 'ates ', 'his u', 'nvolv', ' also', 'erts ', 'and v', 'ephen', 'n fam', 'ency,', 'al to', 'pper ', 'oner ', 'cess ', 'come ', 'sh ma', 'vernm', 'e tap', \"da's \", 'f. fd', 'noon.', 'd us ', 'l inf', 'luate', ' monc', 'ess, ', 'tted ', 'aying', 'nn)wh', 'layin', 'monce', '\" tru', 't-rat', 'ing.\"', 'ts in', 'nt em', '. whi', 'ay, n', 'art s', 'c con', 'ss, c', ' expe', 'p twe', 'ger s', ' urge', 's thi', ' whit', 'nderm', 'ine, ', 'rks f', 'ine c', 'n, co', 'ntere', 'g con', 'eople', 'ials ', 'ay, c', 'coura', \"d it'\", 'tle.\"', 'f sin', 'ed. b', 'ommis', 'nking', 'ment ', 'fda,\"', 'ed uk', 'rly r', ' undu', 'ne, i', 'ed. \"', 'lic f', 'us go', \"'s au\", 'r dr.', 'nfirm', '-19, ', 'depth', 'n)whi', 'wants', 'aid s', 'y gra', 'orce ', 'd cnn', 'n pre', '-elec', 'dows ', 'nd ha', 'me lo', ' oppo', ' unde', 'r/bio', 'nd fr', 'aid i', 'uld m', 'aving', 'ue re', 'elect', 'ubtfu', 'valua', 'ronav', 'cal i', 'big, ', 'amili', '.\" wh', 'op ad', 'worki', ' end ', 's ext', 'da vo', 'se wh', 'ly pf', 'ome e', 'rce f', ' put ', ' vote', 'on fa', 'nd va', ' roll', 'led u', 'quest', ' pres', 'arly ', 'likel', 'ded g', \"s' po\", 'r sit', 'dress', 'uickl', 's saf', 'large', 'ly re', 'iden,', '\" whi', 'ce cl', 'dispu', 'n-dep', 'ss to', 'ce.\" ', 'da ch', 'nclea', 'ted i', 'h, in', 'ion m', 'priva', 'ief \"', 's exp', ' coul', '  ano', 't dev', 'e off', 'tific', 'ump a', ' conc', 'ng cn', ' expr', ' in-d', 'first', 'y lar', 'venti', 'l top', 'ess t', 'oe bi', 'ine p', 'rful ', 'ar pu', ' ques', 'ents ', 'old f', 'e see', 't aut', 'pedit', ' dam ', ' trum', 'eaves', 'addre', 'ump t', 'ssion', 'ent w', ' tell', ' grat', 'ditio', 'ity l', 'gn pf', 'zatio', 'blic,', 'encou', 't pri', 'luenc', 'ed \"a', 'n, re', 'e chi', 'sts i', 'on pf', 'uing ', 'ety. ', 'mine ', 'day r', 'nce e', ' mark', 'ntial', 'cials', \"fda's\", 'ecent', 'gh, i', ' grow', 'n @st', 'undue', 'day l', ' mome', 'xpres', 'recen', ', sai', 'e end', 'fluen', 'ts fe', 'merge', 'e eff', 's off', 'donal', 'ratio', 'icks,', 'ngton', 'tatio', 'n pol', 'ic co', 'nn.  ', ', cou', ' need', 'hn ne', 'navir', 'rts e', 'y rig', 'entis', ' led ', 'on ad', 'rmed ', 'ident', 'le.\" ', 'ent, ', '. mon', 'at. s', 'ce fa', 'ht,\" ', 'publi', 'ne ro', 'ient ', 'd con', 'ncef ', 'ark m', 'fic i', 'milia', 'ion i', 'l chi', 't wel', 'hn ur', 'l cnn', 'iday.', 'ned r', 'ue pr', 'erson', 'tion)', 'ear m', ' chie', ', in-', 'one p', 'd. \"s', 'cing ', 'true ', 'urged', 'y, no', 'ntly.', 'wo me', 'conti', 'oint.', 'm vac', 'rity ', 'ency ', 'ftern', ' covi', 'ief s', 'er/bi', 'd. pu', 'integ', 'call ', 'btful', ' -- p', 'n tru', 'st,\" ', 'd com', 'f mar', 'other', 'her p', 'emerg', 'ahn u', 'dam v', 'ks, o', 'eeted', '. blu', '- pol', 'ose w', 'p pla', 'ot, n', 'y aft', 'momen', ' pfiz', 'hn @s', 'ial e', 'state', 'tart ', 'e thr', ' matt', 'savin', ' mead', 'id it', 'ier w', 'admin', 'progr', 'op pl', 'g liv', 'since', 'son f', 'ated ', 'minis', 'ne en', 'ed us', 'ful a', 'n, fi', 'mise ', 'deman', 's pub', 'ad us', 'put u', 'cess,', 'ible ', 'e cov', 'n pos', 'immin', ' frus', 'e -- ', 's dem', 'rt.va', 'ed va', 'arnin', 'g exp', 'fizer', 'arks ', 'y vac', 'arent', 'med d', ' clea', 'e hou', 'xpert', 'ce sa', 'ratit', 's dou', ' \"sto', 'mitte', ' phon', 'nts r', 'cnn)w', 'ws de', 'n, pe', 'lic, ', 'defen', 'end a', 'ay mo', 'stop ', 'ling ', 'ergen', 'ell r', 'atter', 'actua', 'ellin', ' bide', 'icien', 'hen h', ' rece', 'c exp', 's tas', 'rned ', 'ple s', \"a's a\", 'chief', 'want ', 'n.  a', ' fami', 'd hah', 'ribed', 'tists', 'rante', 'n qui', 'oroug', 'close', 'ckly ', 'al sa', 'ted. ', 'izati', 'y, sa', 'o men', ' eval', 'ise p', 're au', 'ite h', 'c hea', ' anno', 'n. \"f', \"t's e\", 'e pre', ' play', 'al fa', 'ornin', 'xtent', 'd rep', 'd tru', '\"to s', 'gular', 'd iss', 'playi', ' vent', 'ts up', 't mor', 'ign p', 'us po', 'ed gr', 'might', \"h's c\", ' offi', 'ific ', 'ed sa', 'bed \"', 'rogre', ' poss', 'er pe', 'k for', 'ingto', 's tow', 'ed im', 'st-ra', ', add', 'als w', 'rts f', 'k ear', 'g tim', 'onavi', 'e fam', 'devel', 'agenc', 's unc', 'f \"re', ' auth', 'a com', 'nt tr'}\n",
      "Document 2 shingles: {' leav', 'tate ', 'lier ', 'e sai', \"'s de\", 'ement', ' reco', 'ving ', ' 2014', 'd doc', 'invol', '. rep', 's aff', 'e. tr', 'autho', 'count', 'n all', 'ings.', 'mily ', 'coope', 's wai', 'e cou', 'membe', 'lve t', 'g inv', 'ding ', 'rump,', 'ears ', 'outco', 's dis', 'neral', 'estig', 'ibly ', 'banke', 'd, on', 'tes a', 'lty f', ' know', 'rt ap', 'ct at', 'ied c', 'g thr', 'suit ', \"dent'\", ' gene', 'd aff', 't one', 'l sta', 'indic', 'ilita', ', acc', ' bloc', 'hen a', 'ng tr', 'finan', 'aud l', 'ts ti', 'tors ', 'nhatt', 'inves', 'nts s', 'ntati', 'ney p', 'wait ', ' asse', 'man d', 'bpoen', 'ing i', 'addit', \"n's b\", 'ploye', 'alo b', 'pecte', ' fede', 'nk, l', 'consu', 'two w', 'ank p', 'nsure', 'y fac', 'mes d', 'on tr', 'sed g', ' sugg', 'ria. ', 'bruar', 'repre', 'na pa', 'al at', 'tiona', 'tifie', 'p, bu', 'estif', 'ecuto', 'angin', 'halt,', 'elf, ', 'ers a', ' infl', 'said ', 'led c', 'mp co', 'on la', 'ns. l', ' inve', 'ush-m', '. maz', 'er in', ', int', 'minal', 's und', 'rimes', 'epres', 'nce f', 'turns', 'urer ', 'denti', ' week', ', 2nd', 'd gen', 'y off', '. add', 'nt. d', 'ear s', 'ee in', ' mani', 'en al', 'ne em', 'ets r', '. que', 'ssibl', 'entat', 'legal', 'ion l', 'nal a', '. man', 'campa', 'ied a', 'rump ', 'ed su', 'priso', 'al cr', 'k tim', 'supre', 'ies d', ' due ', 'ction', 'near ', 'iple ', 'part ', 'temen', 'ied t', 'so de', 'affai', 'nka t', 'nquir', ' eigh', ' firm', 'ble t', 'aid. ', 'hen t', ' numb', 'airs.', 'andem', 'rties', 'rces ', 'contr', ' ruli', '2nd u', 'ed ge', 'matte', 'uit d', 'g one', 'l est', 'ing f', 'ted n', 'rs tr', 'olve ', ' taxe', \"oman'\", 'cohen', 'iews ', 'n tes', 'ear f', 'e, sa', 'views', 'g cri', 'emplo', 'tioni', 'ncial', '14 tr', ' wait', 'nterv', ' insu', 'retur', 'surer', ' time', 'ughte', 'spoke', 'ia. q', 'd sch', 'ign f', 'rs re', 'ected', 'oan. ', 's pro', 'ntinu', 'o wom', 'mpany', ' long', 'y con', 'tsche', 'bank,', 'ing h', 'onfin', 'ng so', 'ans u', '19 tr', 'ted d', 'ted a', 'ime a', 'hen p', 'subpo', 'ars u', 'rds r', 'ay, h', 'rer r', 'tence', 'wledg', 'ate s', 'xes p', 'issui', 'ed gu', 'ludin', 'irus ', 'last ', ' brok', 'pany,', 'anka ', 'led p', 'ircui', 'll te', 'egati', 'rm, e', 'nn re', 'ed wr', 'o bil', ', bus', 'iliar', 'ocuse', 'ors d', ' febr', 'us va', 's wou', 'aud s', ' aon ', 'wed m', ' conf', 's iss', 'nth, ', 'tial ', 'art a', 's def', 'roker', \"'s bu\", 'tan d', 'ssets', 'ical ', 'elati', 'attan', 'aign ', 'g hus', '. deu', 'aid c', 'utcom', 'real ', 'ank. ', '00 mi', 'ers. ', 'urt g', 'rsona', 'n sai', 'amily', 'mself', 'ing 2', 'st se', ' docu', 'ichae', 'ked s', 'ns fa', 'yees.', 'ed mi', 'under', 's com', 'inclu', 'hen s', ' made', 'eight', 'ls de', 'geste', ' pris', 'y, ac', 'aymen', 'it co', 'docum', 'nclud', 'ral q', ' last', 'egedl', 'charg', 'crimi', 'ar in', 'ent e', 'orize', 'alleg', 'aniza', 'taxes', ' mult', 'ifica', 'tball', 'viewe', 'ng hu', ' crit', 'rds c', ' outc', '2019 ', 'ny, a', 'er pr', 'n sen', 'al st', 'fice.', 'ants,', 'iar m', 'nemen', 'g pro', 'ted, ', 'firme', 'relat', 'uit c', 'rk pr', 'pecif', 'ong-t', 'ons a', 'irm, ', 'l int', 'axes ', 'lecti', ' chal', 'nging', ' loan', 'unter', 'ker d', 'edly ', 'nd us', 'liar ', 'hree ', 'wo wo', ' memb', 'expec', \"ent's\", 'rding', 'al ch', 'a maz', 'ootba', 'nue l', 'torne', 'illio', 'ills ', 'e peo', 'ulate', 'ook p', \"tion'\", 'coron', 's pan', \"'s ta\", 's tim', 'fees ', 'sired', 'ined ', 'ena s', 'ng fi', 'ons w', 'decis', 'olled', 'nsula', 'y fed', 'irst ', ' two ', 'block', 'es pa', ' circ', ', pre', 'cable', 's att', 'onald', 'eturn', 'aid a', \"t's l\", 'rted ', 'e rel', 'lion ', 'perso', 'l cha', 'mes f', 'tants', 't rep', 't bid', 'aid, ', 'lock ', 'd app', 'tatem', 'relea', 'finem', 'a pre', 'aed p', 'ld tr', 'aded ', 'rolle', 'cyrus', 'dge t', 'mer p', 'cordi', 'also ', 'pulat', 'ure, ', 'uprem', 'd, fo', 'possi', 'court', 'ing s', 'ntrol', 'id, f', 'st th', '. las', 'time ', 'n, ac', 'ny re', 'n add', 'roces', 'so re', 'ateme', 'rosec', 'st mo', ' hush', 'ee ti', ' serv', 'enera', 'ast m', 'rmer ', 'e con', 'ceive', 'speci', 'e acc', 's aut', 't ear', 'e-ran', 'one e', 'er do', 'aviru', 's man', 'ar du', 'ue as', 'onal ', 'dons ', 'ender', 'gress', 'd val', 'tion ', 'eived', 'ily c', 'e per', 'said.', 'ent d', ' gran', 's feb', 'ohen,', 'cess.', 't, pe', 'eflat', 'ttorn', 'allen', 'ls wo', 'wide-', 'lue a', 'sked ', '300 m', 'ument', 'l num', ' issu', ' jury', 'ectio', 'work ', 'mes p', 'hush-', 'chael', 'ting ', 'ate c', 'tcome', 'uilty', 'nd ju', ' seve', 'lleng', ' plac', 'ntly ', 'p, ac', 'd sev', 'denie', 'comme', 'ry fa', 'one w', 'e emp', 'de co', 'ledge', 'ng pr', 'dent,', ' cour', 'n ser', 'entia', 'eleas', ' rele', 'ance,', 'long-', 'ce, l', 'ted f', 'ndemi', 'ers p', 'yrus ', 'es fi', 'deali', \"man's\", 'ud le', 'e sta', 'y sub', 'r pre', 'mp su', 'ns wo', 'two e', 'imsel', 'insul', 'irmed', 'scuss', 's als', 'york ', 'ng sp', 'er. t', ' lost', 'any r', 'ficia', 'r. tr', 'ds ta', 'latin', 'ple p', 'ewed ', \"t's f\", 's too', 'sion ', 'rk ti', 'aon c', 'lled ', 'n emp', 'nges ', 'al el', 'anker', ' crim', ' cong', 'n, in', 'nk di', 'r. in', 'y inv', 'tion,', 'uld p', 'e aon', 'm. tr', 'ginni', 'ial n', 'mpani', 'loans', \"nk's \", ' aske', 'payme', 'l tea', 'ud sc', 'ws to', 'any, ', 'd. ma', 'ubpoe', 'ords ', 'ess l', 'ers d', 'himse', 'lso d', 'novem', 'ed, p', 'r rec', 'g cam', 'umber', 'r due', 's den', 'ce no', 'cial ', 'ruary', 'on al', 'silen', 'nt ea', 'urt f', ' 2nd ', 'e wor', \"'s co\", 'rs ma', 'pokes', '2014 ', 'on. s', ' 2019', 'ired ', 'porte', 'rict ', 'ay en', 'ember', ', inc', 'e ban', 'rt wi', 'rgani', 'ritic', 'tax r', 'ess f', 'dditi', 'n aon', 'senta', 'ump, ', 'cisio', 'ffice', 'le sa', ' repo', 'prose', ' hims', 'offic', 'te st', 'ivank', 'm, ei', ' deut', 'al es', 'rs po', 'en se', ' year', 'ion r', 'writi', 'empt ', 'team.', 'es co', 'artie', ' cnn ', 'ives ', 'es fa', ' $300', 'ould ', 'es pr', 'rpart', 'y 201', 'used ', 'ning ', \"t's t\", 'ongdo', 'loane', 's loa', 'on co', 'demic', 'edera', 'lace ', 's per', 'nald ', 'cted ', 'p sub', 'multi', 'ate t', 'wed s', 'el co', 'iness', 'ders.', 'tativ', 'iteri', ' begi', 's. pr', 'ence ', 'ition', 'r, iv', 'l ind', \"rump'\", 'd sub', 'one s', 'ost s', 'kers ', 'p nev', ', foc', 'leave', 'al qu', 'd int', 'nting', 'ess r', 'ax fr', 'busin', 'nsult', 'ne wo', 'pardo', 'e tax', '. cou', 'rs di', 's fir', 't don', 'made ', 'o dec', 'ing d', 'east ', 'cent ', 'g tru', ' sour', 'ies c', 'aling', 'ecisi', 'ny of', 'ng-ti', 'ness ', 'owled', ' bill', 'ampai', 't wid', 'ons b', 'nts, ', 'ed. p', ' buff', 'ccord', \"nt's \", 'nizat', 'eria.', 'mpt b', 'year ', 'utsch', 'play ', ' done', 'ffort', ' lawy', 'nipul', 'appea', 'wed l', 'mploy', 'd, pa', 'es kn', 'crime', 'n, pr', 'enied', 'orted', 'ging ', \"k's d\", 'ral c', 'recor', 'inue ', 'es of', ' form', 'es au', 'd pla', 'ts su', '$300 ', 'n.  t', ' aon,', '-mone', 'ast y', '-time', ' enfo', 'inal ', 'resen', 'id bu', 't inv', \"ney's\", 'nt we', 'g beg', ' wron', 'ged p', 'd inv', 'asset', 'ng be', 'ied w', 'nowle', 'ved s', 'mp. t', 'numbe', 'arges', 'n ple', 'lay f', 'bid b', 'xpect', 'ment.', 'uthor', 'ves o', 'ear p', 'ngs. ', 'infla', 'ors s', 'money', 'ss fe', 'mber ', 'e fra', 'ed pa', 'ed pr', 'compa', 'rney ', ' incl', 'oing ', \"'s fo\", 's fam', 'ctmen', 'ed do', ' mont', 'x fra', ' paid', 'ratin', 'ocess', 'orced', 'omes.', 'nance', 'ing p', 'eam. ', ' ivan', 'okesw', 'vembe', 'ent. ', 'accou', 'l emp', 'g sai', 'ral e', 'ed se', 'raud,', 'ion. ', 'inter', 'proce', 'uiry ', ' stat', 'earli', 'ic ba', 'est e', 'tatin', 'loan.', 'k aon', 'ent l', 'would', 'stifi', 'oenae', 'nt do', ' late', 'ng pe', 'e cor', 'nts d', 'che b', 'rangi', 'teria', 'any c', 'raud ', 'rs. a', 'lso r', 'ional', 'rus v', 's tru', 'ds cr', 'ccoun', 'ly me', 'ls fo', 'fice ', 'ight ', ' desi', ' firs', 'onsul', '0 mil', 'effor', 'uture', ' come', 'urt a', 'jury ', 'rs, a', 'er ye', 'ggest', 'estat', 'ank a', 'g ins', 'e sug', 'plead', 'yers ', 'defla', 'ictme', 'ilenc', \"'s la\", ' spec', 'ing o', ' maza', 'anhat', 'famil', 'emes ', ' said', 'mes. ', 'ar ma', 'sever', 'ald t', 'ns. p', ' way ', 'd sup', 'urt s', 'ump s', 'ball ', 'ng cr', 'ilty ', 'it de', ' valu', 'took ', 'oney ', 'ganiz', 'sente', 'aid t', 'ce tw', 'bmitt', 'orona', 'distr', 'rt in', ' rela', 'o emp', ' lend', 'innin', 'cline', 'n las', 'es, i', ' earl', 'g pay', 'd gui', 'rump.', 'horiz', 'ion e', 'ineme', 'aon, ', 'k sub', 'suran', 'fraud', 'urces', 'n us ', 'imina', 'ons f', '.\" al', 'ury s', 'nce c', 'uary ', ' spok', 'st re', 'confi', 'k par', 'ors, ', 'id. m', ' cyru', 're, s', 'eutsc', 'sed h', 'erati', 't inf', 'nfine', 'ast o', 'rs al', 'k. sp', 'lawye', 'on, i', ' busi', 'ty fe', 's foo', 'ice, ', 'en te', 'ent m', 'never', 'ritin', ' lega', 'al in', 'sess ', 'ounte', 'airs ', 'ump d', 'ng fe', ' indi', 'y enf', ' usa,', ' deal', ' \"def', 'years', 'orney', 'ter, ', ' faci', 'nk ao', 'esent', 'ntenc', ' effo', 's pos', 's len', 'y him', 't wee', 'micha', 'ws ex', 'lates', ' sche', 'r yea', '-rang', 'ud, i', 'an. c', ' invo', ', par', 'ion, ', 'ice. ', 's for', 'educe', 'xes.\"', 'submi', 'r pro', 'tions', ' foot', 'doing', 'a tru', 'ns un', 'ison ', 'ngs d', 'ested', 'centl', 'ars p', 'ments', 'riter', 'ohen ', 'volve', 'eme c', 'p cou', 'ges f', 's ban', \"ump's\", 't sta', 'uesti', 'aed t', 'ged c', 'falo ', 'h, 2n', 'tay, ', 'rson ', 'nflat', ' inte', ' pand', 'eral ', 'stion', 'ney, ', 'utors', 'ge tr', ' cont', 's. ad', 'arlie', 'rized', 'stiga', 'uce r', 'ple f', ' sent', 'vesti', ' halt', 'lf, c', 'ancia', 'mbers', 'inanc', 'egal ', 'cussi', 'nsura', 's rec', 'lated', 'tly s', 'sourc', 'naed ', 'nt, p', 'ts, i', 'ess. ', 'ork t', 'ue le', '\" all', 'futur', 's. la', 'ossib', 'able ', 'ng ca', 'ing t', ', coh', 'forme', 'id tr', 'ly hi', 'r. sp', 'g-tim', 'so in', ' cons', 'd ins', 'paid.', 'facil', 'urce ', \"mp's \", 'w yor', 'gdoin', 'ormer', 'aves ', 'three', 'iewed', 'igati', ' team', 'rison', 'd, in', 'usa, ', 'ce br', 'e ass', ' tax ', 'hael ', ', lon', 'osecu', 'keswo', ' thre', 'uld i', 'irs. ', 'ion c', 'ion p', 'ing b', 'broke', 'least', 'r don', 'ade c', 'late ', ' peop', 'ree t', 'ves d', 'ees d', 'id. p', 'terpa', 'r fut', 'ived ', 'r loa', 'iar i', 'ly co', 'stay,', 'home ', 'attem', 'rs pe', ' plea', 'd buf', 'bly h', 's dau', 'd lea', 'mment', 'na ma', 'ss fa', 'te ta', 'son s', 'ck su', 'r per', 'onth,', 'e int', 'deuts', 'on cr', 'er. i', 'weeks', 'usine', 'e, le', 'mazar', 'ion t', 'r pri', 'ffair', 'ws. r', 'dent ', 'tinue', 'ar pr', 'anipu', 'aon e', ' deni', 'ees. ', 'n rec', ' real', 'd nea', 'ews t', 'pplic', 'ael c', 'ce ch', 'iting', ' paym', 'erpar', 'mes k', 'ng th', 'l que', 'uranc', 'ds re', 'could', 'man a', 'on, p', 'a. qu', 'ka tr', '4 tru', 'grand', 'son a', 'ongre', 'ort b', 'eals ', 'nanci', 's lat', 'an ao', 'ionin', 'd. la', 'l att', 'omes ', 'discu', 'ces f', ' cohe', 'ed tr', 's cri', 'ss de', 'rs wa', 'nal b', 'cludi', 'bank ', 'ump o', ' deci', 's red', 'ttemp', 'ontro', 'accor', 'resid', ' pers', 't thr', 's kno', 'woman', 'ions ', 'alue ', 'oena ', 'llega', 'on de', 'on se', 'ned $', 'rges ', 'ugges', 't los', 'way e', 'mp \"d', 'erate', 'fort ', ', one', 'eport', 'ervie', 'zed i', 'rview', 'oans ', 'd coo', 'ghter', 'es. c', ' test', 'fic b', 'tigat', 'id co', 'wo em', 'ffalo', 'ative', 'ly, c', 'circu', 'plica', 'febru', ' guil', ' comp', 'us pa', 'ized ', 'n con', 'all t', \"on's \", 'ource', ' one ', ' part', 'ced. ', 'o int', 'pande', 'asked', 'art w', 'ns af', 'es.\" ', ' atto', 't dec', 'leade', 'peopl', 'y cou', 'n. co', 'mpaig', 'due c', 'al bu', 'ump c', ' vanc', 'e lea', 'yees ', ' work', 'ial s', 'manha', 'tion.', 'eged ', 'na sa', 'cific', 'ion u', 'uding', 'ee ao', 'dly m', 'nforc', 'ank s', 'al nu', 'ank d', ' appe', 'ts re', 'repor', 't emp', 'nterp', 'ently', 'uling', 'd day', ', peo', 'oker ', 'tempt', 'ce re', 'ews e', 'times', 's bus', 'rimin', 'g 201', 'virus', ' proc', ' inqu', 'lt, r', 'er lo', 'rand ', ' decl', 'lings', 'derwr', 'ry 20', 'ng de', 'ltipl', 'gener', 'firm,', 'itica', 'n cri', 'ltant', 'ision', 'mes, ', 'nce, ', 'nce b', 'ing m', ' woul', ' affa', 'bers ', 'ne so', 'rt fi', 'enaed', 'sulta', 'stric', 'thori', 'defra', 'evera', ' near', 'onfir', \"ey's \", 'ock s', 'ena p', 'ide-r', 'rving', 'erwri', 'l inq', 'd. pr', ' frau', 'nt ma', 'axes.', 'force', ' took', 'ally,', 'd mic', 'ultan', 'fied ', 'ena m', 'criti', 'd hom', 'ocume', \"an's \", ' coro', 't eff', 'cutor', ', pro', ' comm', 'ss re', 'leged', 'otbal', 'me co', 'ons i', 'icial', 'fairs', ' day.', 'halle', 'atest', 'organ', \"y's o\", 't sev', 'ebrua', ' esta', 'de-ra', 'n dis', 's dea', 'd cyr', 'ourt ', ' mill', ' neve', 'ation', 's sup', 'a, lo', 'flate', 'ny co', 'cumen', 's. in', 'x ret', 'ed ou', 'gal c', 'llion', 'month', 'ne pe', 'edge ', 'ors w', 's. ne', 'itted', 'ews d', 'nder ', 'nal i', 'eclin', 'cally', 'ed $3', 'ontin', ', lea', 'ork p', 'quiry', ' fees', ' addi', ', ins', 'eal e', 's sil', 'swoma', 'ople ', 've ta', 'ned c', 'peals', 'd jur', 'ommen', 'ets t', 'rns. ', 'legat', 'rulin', 'uffal', ' dona', ' futu', ' redu', 'lined', 'guilt', 'hemes', 'fice,', 'insur', 'ar fu', 'ed cy', 'g mul', 'suing', 'ges a', 'on pr', 'self,', ' empl', '. coh', ', als', 'd pro', 'en, p', ' wide', 'ngres', 'id ap', 'ree y', 'f, cn', 'd pre', 'ress ', 'new y', 'id. l', 'buffa', ' camp', 'knowl', 'ump n', 'n rep', 'sines', 'litat', 's law', 'p den', 'ce, a', 'cheme', ' bank', 'focus', 't cou', 't gra', 'ion d', 'ce in', 'ssess', ' retu', 'pt bi', 't. de', 'estio', 'ws tr', 'ardon', 'sulat', 'ome c', 'dding', 'istri', 'g peo', ' subm', 'ice i', \"ank's\", '.  tw', 'tors,', 'rongd', 'gedly', 'ing c', 'day. ', 'g sou', 'manip', \"n's a\", 'ue co', 'e two', 'y rec', 'd par', 'urns.', 'gs. c', 'siden', 'ump \"', 'rlier', 'e cha', \"'s of\", 'der i', 'sions', 'p. tr', 'eeks ', 'ng pa', 'd out', ' char', 'rance', 'any o', 'l inv', 'nt in', 'ion a', 'done ', 'pavin', 'wyers', 'nce r', 'ordin', 'ffici', 'sh-mo', 's sui', 'daugh', 'eside', 'gator', 'ed le', 'rcuit', 'ed ho', 'ovemb', 'paid ', 'd ass', 'ts si', 's. al', 'trump', 'tiple', 'ified', 'l leg', \"t's d\", 'red o', 'hter,', 'nders', 'mp, a', 'y man', 's.\" a', 'cilit', 'r mat', ' focu', 'rst r', ', eig', 'nvest', 'deral', 'er re', 'cords', 'l ele', 'ees p', 'ultip', ' elec', 'ed co', 'prese', 'oman ', 'a pav', 'nied ', 'rds t', 'en sa', 's sai', 'es. i', 'nk. s', 'nk pa', 's rel', 'lence', 'attor', 'ee ye', '019 t', 'presi', '\"defl', 'enfor', 'rt st', 'tical', 'ssuin', 'cnn r', 'art i', 't des', 'ecifi', ' repr', 'ed in', 'rdons', '. int', 'a sai', 'ates ', 'p org', 'nvolv', ' also', 's tax', 'ght y', 'ay fi', 'sugge', 'r ins', 'rwrit', 'decli', 'me ac', ' pros', 'al le', 'g par', 's par', 'es de', 'l bus', 'ax re', 'irs t', 'n den', 'place', 'ompan', 't mon', 'ace n', 'y, ha', 'e bro', 'ss lo', 'an de', 'loyee', ', led', 'dictm', 'd us ', '014 t', 'gs di', 'rs. c', 'd len', 'tted ', 'schem', 'nt em', 'er, i', ' expe', 'ce su', 'eginn', 'alt, ', 'mp di', 'rus p', 'test ', 'ce. t', 'troll', 'rney,', 'ns is', 'ors m', ' subp', 'y. ma', 'eople', 'he ba', 'ials ', 'lls f', 'sibly', 'en pl', 'k, lo', 'tives', 'an di', 'mp de', '. pro', '. pre', 'filin', 'ors a', 'cused', 't, ru', 'ating', 'ment ', 'sets ', 'iry f', 'imes,', 'nfirm', 'ervin', 'poena', 'ey pa', 'ns. n', 'ht ye', 'yee i', ', hal', 'n pre', \"'s da\", ' acco', 'ppeal', ' nove', 'iews.', ' unde', 's usa', 'nce t', 'bills', ' stay', 'aving', ' us s', 'ney i', 'elect', '. spo', 'ter. ', 'harge', 'd inq', 'efrau', 'ks pa', 'cal i', 'ronav', 'perat', ' manh', 'amili', 'ok pl', ' orga', 'inqui', 'pany ', '. new', ' supr', 'reme ', 'e rea', ' us c', 'ings ', 'rce f', \"t's c\", 'l cri', 'n dec', ' appl', 'hatta', 'p \"de', 'wrong', 'quest', 'cuit ', ' pres', 'ce fr', 'on us', 'ded g', 'ank, ', ' mich', 'on re', 'nk su', 'rt bl', ', loa', 'emic.', 'us ci', 'ed fi', 'parti', 'e sou', 'aned ', 'begin', 'med c', ' fina', 'iry c', 'ld pl', 'ted i', 'pt bl', ' coop', 'le fa', 'ties ', 's exp', ' coul', ' alle', 'e tru', 'trict', 'ng 20', 'enten', 'ever ', 'ture,', 'rs sa', 'ews. ', 'itati', ', rul', 'nt. c', 'paign', 'first', 'vanka', 'r sai', 'awyer', 'n fin', 'ew yo', 'secut', ' ques', 'sonal', 'ents ', 'oaned', 'ons. ', 'ators', 's, in', 'e cri', 'tter.', 'sa, l', ' trum', 'ing w', ', iva', 's van', 'eaves', 'lso i', 'y pay', 'ng on', ' daug', 'tment', 'lo bi', 'k pre', 'opera', 'ssion', 'ent w', 's, ac', 'ditio', 'ndict', 'congr', 'zatio', 'y fin', 't att', 'appli', 'sted ', 'untin', 'uing ', 'ntial', 'cials', 'ed af', 'ecent', 'esire', 'ry co', 'on.  ', 'k dis', 'e tim', 'recen', 'duce ', \"rney'\", ', sai', 'te cr', 's all', 'azars', 'nning', 'ary 2', 'e, al', ' new ', 'ay. m', 'o rec', 'st ye', 's off', 'donal', 'e com', ' fili', '  two', 'ased ', 'k pla', 'nies ', 'navir', 'rced.', 'ily m', 'servi', 'e yea', 'ubmit', ' led ', 'on ad', 'value', 'rmed ', 'ident', 'igato', 'al em', 'ent, ', 'ce fa', 'eaded', 'th, 2', ' woma', 'd con', 'ry su', 'oyees', 'yment', 'lende', 'milia', 'ed as', 'c ban', ' defr', 'erson', 's pre', 'one p', 'cing ', 'ipula', 'ent i', 'bank.', 'conti', 'ce co', 'g fir', ' leas', 'llege', 'ed da', '. spe', 'p dis', ' pavi', 'ts de', 'ice s', 'acili', '. tru', ' home', 'n tru', '9 tru', 'd com', 'ance ', 'oyee ', 'oning', 's. co', 'tervi', 'acing', 'on ex', 'yee a', 'asses', 'eswom', ' bid ', 'ng in', 'aught', 'ly su', 'ar sa', 'g spe', ' dist', 'us su', 'feder', 'ngdoi', 'ial e', 'vance', 'tax f', 'state', ' matt', 'icabl', 'ounti', 'ng mu', 'gn fi', 'lly, ', 'recei', ' coun', 'mp or', 'wed p', 'zars ', 't app', 'n exp', 'panie', ' pard', 'ated ', 'said,', 'ast t', 'id, o', 'st on', 'ng sa', ' sile', 'anies', 'preme', 'comes', 'ess d', 'on, a', 'ted v', 'reduc', 'ed va', 'eased', 'ly ma', 't blo', 'nkers', 'le pe', 'mp, b', \"bank'\", 'iling', 's. re', 's fac', 'mitte', 'gatio', 'y mem', 'addin', 'rt gr', 't fil', 'iscus', 'ld in', 'ooper', 'le ta', 'ws de', 'n, pe', 'desir', 'ling ', 'imes ', 'on em', 'd wro', 'ey, l', 'rs de', 'atter', 'y, co', 'enges', 'crite', 's ass', 'd $30', ' atte', 'licab', 'rted,', ' rece', 'aud, ', 'er. s', 'ple s', ' suit', 'eks p', 'lenge', 'rates', 'st ef', 'milli', ' fami', 'ttan ', 'ed ne', '. als', 'ait d', 'g dec', 'ussio', 'lease', 'ber p', 'g fee', 'ealin', 's pai', 'es at', 'ral l', 'izati', 'footb', 'ns ba', 'rs as', 'ey in', 't mad', 'am. t', 'n. sp', \"p's l\", 'chall', ' play', 'hen, ', 'rt at', 'r inv', 'd tru', \"'s le\", 'ver l', 'ss. a', \"'s al\", ' york', 'ecord', 'testi', 'ions.', 'h-mon', ', cnn', \"ion's\", 'mp ne', 'ars r', ' disc', 'facin', ' offi', 'e nov', 'sche ', 'ific ', 't. co', 'g way', 'y, le', 's deu', 'na pr', 'ump. ', ' poss', 'and j', 'lost ', 'ier y', 'als d', 'er pe', 't yea', 'ict a', 's ask', 'als w', 'nderw', 's cir', 'rs us', 'veral', 'l coh', 'ear d', 'eceiv', 'e fam', 'nt lo', 'onavi', 'ng wa', 'fical', 'icall', ' auth', 'd fin'}\n",
      "Document 3 shingles: {'ernor', 'e cre', 's rig', 'tate ', 'less,', 'credi', ' retr', ' law ', 'e ame', 'mail ', 'e fai', '. wit', 'y awa', 'thems', 'me ru', 'ls, f', 'artic', ' reco', 'st ca', 'onser', 'missi', 'e bai', 'sly a', 'autho', 'count', 'rs --', 'w. ju', 'e cou', 'membe', 'n upe', 'vely ', 'based', ' seen', 'outco', 'g out', '-- st', 'neral', 'matio', ' unco', 'ies l', 'ehalf', ', dis', ' beli', 'd res', 'bsurd', ' know', 'res s', 'dermi', 'y cam', 'suit ', ' gene', 'ess a', 'ss be', 'bait ', '. pat', 'on go', 'g sid', 'mly u', ' tarn', 'rats,', 'gisla', 'f, jo', 'us ma', 'e tol', 'peace', 'tors ', 'd dea', 'tive ', 'areer', 'lf. f', ' elev', 'itnes', ', wit', 'conte', ' tv -', 'emocr', 'ges v', 'acy f', 'ed.an', 'lieve', 'ecede', 'can s', 'ny sh', '. peo', 'ttle ', ' fede', 'nywhe', 'ushin', 'hours', 'e run', 's. wa', 'm dem', ' duti', 'ted t', 'ic am', 'ty co', 'spera', 'joe b', 'willi', 'mes d', ', joh', 'metim', 'den l', 'r rej', 'e tar', 'uld (', ' far ', \"'s re\", 'on. y', 'ults ', 'fiat.', 'rable', 'amy c', 'tiona', 't hop', 'k -- ', ' tria', 'ernme', ' doze', 'hope ', 'ked a', 'es, g', 'equir', 'ered ', 'e.  \"', 't-ele', ' peac', 'wrote', 'simpl', 'ur fi', 'erica', 'issio', 'er. d', ' cowa', 'ne fr', 'dge b', 'age b', '. his', 'ng re', 's may', ' dish', '-- su', 'y bra', 'et ma', 'ct jo', 'ards ', 'ious ', 's. pa', 'fused', 'utes.', 'eathe', 'can o', ', dut', 'ority', 'oyall', 'nal m', 'lingn', 'ing a', ' week', 's ben', 'filed', 'choed', 'spiri', ' \"cou', 'heme ', 'ear s', 'nces ', 'rtify', 'ey ba', 'loyal', 'legal', 'nally', 'r man', 'campa', 'ying ', 'crazy', 'rump ', ' enli', 'p leg', 'ed su', 'ent.a', ' way.', 'led j', 'lleag', \"p's p\", ' summ', 'supre', 'idenc', 'f. fe', ' reje', 'ction', 'secre', 'ook l', 'hinks', 'tarni', 'ices.', 'd cos', 'ty la', ', sym', 'ied t', ' gain', 's, re', 'meekl', 'y gen', 'rcula', ' firm', 'esper', 'aid. ', ' cred', 'round', ' dism', 'e att', 'ts, p', 'rage\"', 'andem', 'igned', 'rican', 'rties', 'ent-e', 'on ov', 'ult e', 'erous', 'adnes', '. con', '. so,', 'ces. ', 'an st', 'ues u', 'wed c', 'ld us', 'oed d', 'edit,', '-- mi', 'g one', 'w thi', '. way', ' urgi', 's sta', 'gaine', ' syst', 'g, su', 'ntimi', 'pe in', 'ing f', 'ted n', 'nyone', 't lie', 'rs tr', 'inuat', 'timid', 'icati', 'ohnso', 'ive j', ' hand', 'tarie', 'ssaul', 'sed p', 'oliti', ', fir', 'justi', 'unani', 'te, i', 'sign ', 'orked', 'ats v', 'on am', 'argum', ' time', 'y dis', 'p rep', 'n stu', \"nth's\", ' occu', 'd wit', 'suppo', 'd (so', 'ed em', 'repos', 'ep. m', 'ected', 'ocrac', 'mn ap', 'y sta', 'ntinu', 'kgrou', 'catio', 'lorab', 'weath', 'nment', 'y con', 'dacio', \"et's \", 'a cir', 'ing h', 'ar, l', 'me.  ', 'rageo', 'ts wi', 'someh', 'so, t', 'n cle', 'ime a', 'cy fi', 'ven c', 'ng ab', 'symbo', 's cha', 't chi', 'en el', 'et ch', ', rep', 'ed ca', 's vic', 'wledg', 'arful', ', eve', 'nitio', 'dismi', 'es. o', 'isked', 'ushed', 't joe', 'refus', 'hreat', 'nth-h', 'last ', 'ive c', 'ant l', '\"cour', 'tude ', '- eve', 't\" se', 'istor', 'en ac', 'g fra', 'atant', 'gone ', 'ed of', ' poli', 'getti', 'eways', ' foll', 'ors c', 'eam d', 'ly ri', 'arty,', 'yes, ', 'ecret', 'dges ', 'aths ', ', bla', 'le ar', ' outr', 'oundl', 'ief, ', 'ompli', 'g cou', 'dful ', 'ed wi', 'anch,', 'ckgro', 's wou', ' deba', ' conf', ' -- h', '. yet', 'eath ', 'te. s', 'sed f', 'tt, w', 'aps t', 'dy gi', 'e law', 'one f', 'ical ', 'ts pu', 'tv --', 'so fa', 'ful e', 'n urg', 'maril', 'rly t', 'aign ', 'e, im', 'it st', 'he to', 'stice', 'g sig', 'dent-', 'titut', 'colle', 'utcom', 'ys tr', 'nsiti', 'ef su', 'ate r', 'pend ', 'w req', 'ways ', 'onall', 'ourag', 'ican ', 'rage ', ' oath', 'ry sc', 's bra', ' mobs', 'ch, e', 'wante', 'conse', 'eroci', 'lives', 've cr', 'lawsu', 'n cre', 'ge el', 'n -- ', 'under', 's com', 'yalis', 'fane ', '. tho', 'g ele', 'ay. c', 'iana ', 'nt-el', ' made', 'ul, o', ' amic', 'us br', 'e des', 'think', 'use r', 'ply l', 'fully', 'midst', 'barre', 'inks ', 'attle', ' last', 'zens ', 'nds e', 'n ele', 'charg', 'signs', 'use s', 'als r', ' loya', 's, sy', 'de cl', 'nt ho', 'ous o', 'ight,', 'ion s', 'any s', 'witho', 'hnson', \"'s ba\", 'ey ge', 'serve', 'rian ', 'sts p', 'iani ', 'rring', 'e req', 'e par', ' outc', 'eous,', 'mousl', 'demn ', 'rly a', ' stan', 'edged', 's bla', 'age. ', 'fice.', 'ats i', 'ally ', 'egisl', ' mids', 'ly la', 'mply ', 'obs p', 'al mi', 'es, s', 'cowar', 'poste', 'rs, 1', 'ys de', ' tran', 'lecti', ' chal', 'owlin', 'r. do', 'ery p', 't und', 'nt. n', 'dy co', 'atify', 'lying', 'd man', 'aitin', ' memb', 'owing', ' yes,', 'room,', 'ng ev', 'emsel', 'rmine', ' nine', 'fying', 'torne', 'e tri', 'e jus', 'ully ', ' show', 'smiss', 'our f', 'rn re', 'sed m', 'n off', 'e peo', 'appoi', 'ulate', \"den's\", 'rn el', 'ratif', 'actio', 'ng si', 'vertu', 'urnin', 'ely r', 'rhaps', 'ointe', 'een a', 'showe', 'ted r', 'ing, ', 'ng fi', 'ined ', 'rmati', 'me ap', 'delit', 'faile', ', too', ' aime', ' hope', 'unts ', 'ery b', ' absu', 's, co', 's cra', 't. no', 'age f', ' circ', ' \"rig', 'cost ', 'may s', ', pre', ' appo', 'o see', 'k les', 'ani t', 'l lis', 'd sta', 'onald', 'eserv', 'ome. ', 'here ', 'ormou', ', aut', 'eous ', '. sui', 'dent.', 'mp \"a', 'rt pr', 'ays t', 'perso', 've ju', 'gness', ' prep', 'johns', 'hered', 't bid', 's hou', 'uth p', 'l, or', 'ice a', 'ng fr', 'lock ', 'g any', 'iat. ', 'lous ', ' thou', ' cert', 'crats', 'on of', 'ane u', 'ld tr', ' echo', 'g fid', \"'s cr\", 't wou', 't, be', 'ock -', 'ers -', 'also ', 'tand ', 'uprem', 'team ', 'lmost', 'e, gi', 'ajori', 'ingne', 'and r', 'court', 'ing s', 'al li', 'othou', 'duty ', 'aw re', 'eful,', 'time ', 'ccurr', 'ory c', ', han', 'ny re', ' chan', 'lic g', 'l ret', 'sands', 'lost.', 'st mo', 'ithin', ' set ', 'rivol', 'sture', 'enera', 'ast m', 'nonet', 'e con', 'port ', 'inted', 'tiful', 'ven l', 'se tr', 'party', 'oward', 'ackno', 'ight.', 'uncon', ' cost', 'rimar', 'tures', 'ding,', \"t's s\", 'xas, ', 's man', 'ly. i', 'onal ', 'waiti', 'eats ', 'hour ', 'olora', 'tion ', 'orter', 'ount ', 'ivolo', 'nd ma', 'd kno', 'ar ar', 'rturn', 'und -', 'ay am', 'nlist', 'viden', 's bas', 'said.', 'ent d', 'm, ev', 'ther,', 'ire c', 'rged ', 's wor', 'ttorn', 'ge bi', 'allen', 'misse', 'owed ', 'ic ge', 's urg', 'sked ', 'ument', 'threa', 'event', 'o, to', 'slati', 'jobs ', 'out s', 'udy g', 'e maj', 'scorn', 'ectio', 'ts, c', 'wn gr', 'elves', 'd fai', 'runni', 'y rep', 'ting ', 'essed', 'gumen', 'tcome', 'ple, ', 'trans', 'lleng', 'ists ', 'atrio', 'ds ce', 'imari', 'ledge', ', cry', 'ng pr', 'palli', 'mplie', ' cour', ',\" sa', 'stand', 'uired', 'e res', '-- co', 'n hou', ', imp', 'loor ', 'ndemi', 'd. ti', 'cting', 'ves -', 'oom, ', 'l get', 'judic', ' demo', '100 h', 'in ho', 'efini', 'ranch', 'ng ou', 'e sta', 'rocio', 'ed fe', 'ns wo', 'caree', ' side', 'se re', 'art p', 'n ami', 'enth-', 'razy,', '\" \"ri', 'den u', ': jus', ' lost', ', ord', 'ficia', 'any r', 'eekly', 'ity r', 'initi', 'mp --', 'ed de', 'ns ac', 'ple p', 'brief', 's too', 'e ele', 'o, go', ', gro', 'sion ', 'en la', 'sh ov', 'enuin', 'eryda', 'gal t', ' cong', 'us of', 'rve c', 'ced w', 'law o', 'ump r', 'ackgr', 'occur', 'ws ri', 've gr', 'st) e', 'es st', '00 ho', 'ed jo', 'le ho', 'enate', 'erhap', 'tion,', 'cts c', 'gover', ' else', 'nows ', ' life', 'pirin', ' bend', 'retri', 'retar', ' -- s', 'oyali', 'ed th', 'ous l', 'l tea', 'natio', 'ts co', 'ystem', 'ge ma', 'stem ', 'pt un', '. non', 'use t', ' vict', 'own e', 'end l', 'ump m', 'ces a', 'ly ec', 'cial ', 's ele', 'itude', 'e eve', 'silen', ' loui', ' fide', ' yet ', 'rt co', 'nothe', 's cer', 'profa', 'on. s', 'ett, ', 'it, t', 'ired ', 'porte', '\" cou', ' barr', 'ly jo', 'th pr', 'etrib', 'ature', 'l fia', 'ember', ' none', 'e. pe', 'h pri', 'ather', 'es di', 'rneys', 'ge. s', 'rning', 'te re', 'uff. ', 'ce tr', 'email', 'ularl', 'lt el', 'reden', 'ffice', 'troom', 'lear ', 'g lar', 'y com', ' rudy', ', rec', 'offic', 'te st', 'etari', 'ort o', ' rush', 's pol', ' patr', 'deser', 'delay', 'intme', ' stuf', 'gious', 'ly di', 'ote, ', 'story', ' base', 'suits', 'ion r', ' nati', 'enorm', 'empt ', 'es co', ' impl', 'ed st', 'artie', 'nstit', 're co', 'ear: ', 'ives ', 'serva', 'ould ', 'fensi', 'coney', 'prepo', 'hilli', 'ices ', 'ssed ', 'r, cr', 'base,', 'allin', 'racti', 'r. se', 'rnmen', 'used ', 'derly', 'ning ', 'rejec', 'onsti', 'n cow', 'ifeti', 'ff. o', 'demic', 'edera', 'n par', 'rt wo', 's per', 'argue', 'ls ac', 'nding', 'tant ', 'e, di', 'nald ', 'cted ', 'ost j', 'n res', 'ffens', ' join', 'can h', 'es. p', 'acted', 's jud', 'ence ', 'ition', 'ybody', 'e gra', 'acy d', \"rump'\", 'le pa', 'ry br', ' sign', 've su', 'e dem', 'ndful', 'wling', 'p -- ', 'patri', 'nting', 'on be', 't, wa', 'y una', 'gues ', 'major', 'bolic', 'ule l', '. cou', 'esult', 't.sec', 'ine d', 't don', 'made ', ' acts', 'intim', 'e els', 'ing d', '.secr', 'n 24 ', 'firml', 'amoun', 'rial.', 'ies c', 'lly c', 'red.a', 'f sup', ' trut', 'ks ch', ' madn', 'ness ', 'rep. ', 'owled', 'en co', 'ampai', 'ee co', 'somet', 'ired.', 'ithou', 'nt re', 'ters ', 'haps ', ' (so ', 'nts, ', 'ure w', 'ect j', 's. of', 'ed ev', 'unt r', 'ant h', 'yet m', 'ni tr', 'law. ', 'ge ev', 'ge ba', 'rt ov', ' live', 'n sim', 's, gr', 'ls ri', 'ney g', 'alist', 'r sta', 'litic', 'ondem', 'ted k', 'ke jo', 'e.he ', 'ncons', 'nson ', '. rud', 'eacef', \"onth'\", 'uld c', 'ge de', 'ywher', 'nted ', 's din', 'ish o', 'te ba', 'n, pr', '. jus', 'ging ', 'nt vo', 'tenan', ' howl', '. off', 'impli', 'us la', 'up re', 'aimed', 'mount', 'lling', 'nal d', 'bs pr', 'ng mo', 'gn am', 'ned t', 'g, re', 'ed ni', 'inal ', 'cus b', ' auda', ' duty', 'h ove', 'm deb', 'zy, a', 'unten', 'ged p', 'd cou', 'd las', 'erse ', 'ting,', ' acte', 'me ta', ' cloc', 'n pow', 'rticu', 'an ho', ' simp', 'id. t', 'age d', 'try k', 'nowle', 'ongra', 'certi', 'rize ', 'us, t', 'arges', ' requ', 'den e', 's mee', '-hour', 'st eg', 'ial f', 'iven ', 'ies b', 'uthor', 'ment.', 'ceden', 'ers t', ' awai', 'ebase', 'e rep', ' may ', 'shown', 'ty ru', 'e fra', 'ed pa', 'bs co', 'ed pr', 'hed w', 'an me', \"'s el\", 'e app', 'rney ', 'nesse', 'd nin', 'om, e', 'uit a', 'ture ', ' bait', 'power', 'in 24', 'e bid', 'wsuit', ' mont', 'very ', ' -- a', 'spect', 'nance', 'acts ', 'nspir', 'ing p', 'fail ', 'nt, b', 's, 10', ' -- m', 'n act', 'gue r', 'ent. ', 'orn c', 'e. so', 'es li', 'mselv', 'ly au', 'ermin', 'ozens', 's int', 'even ', 'imply', 'ion. ', 'how t', ' beho', 'my co', '\"let\\'', 'te pe', ' line', ' floo', 'mp le', ' stat', 'days ', 'on --', ' so, ', 'andfu', 'given', 'c ame', 'e flo', ' hono', 'clear', ', gov', 'would', 'verse', 'red d', 'ransi', 'al ju', 'idst ', 'nt do', ' late', 'ndles', 've ch', 'ies, ', 't. tr', ' unan', 'p gon', ' orde', 'y bar', 'n ove', 'raud ', 't con', 'ional', 'ble a', 'regio', 's tru', 'oriti', 'se fl', 'jecti', 'ensiv', ' fear', 'rdice', ' hous', 'untry', 'rge m', ' judg', 'ied. ', 'fice ', 'ratul', ', amo', 'veryd', '24 ho', 'th th', 'ks de', 'd pea', 'ous m', 'ppall', 'ths o', ' give', ' dese', 'ors l', 'ution', 's. sh', 'ieved', 'howli', 'undle', 'ilenc', 'anxio', 'ns co', ' bran', 'far, ', 'ing o', 's ris', 'ertur', ' said', 'titud', 'rds m', 'omeho', 'ost. ', 'deway', 'ous f', 'd wee', 's loy', 'd way', ' gove', ' four', 'en cr', 'n law', 'ryday', 'ald t', ' majo', ' 100 ', 'w. tr', 'd sup', 'ans a', 'es --', 'ng vo', 'ng la', 'ody c', ' prof', 'ay tr', 'lied ', 'l set', ' over', 'y sco', 'audac', 'ate e', ' joe ', 'h, ev', 'turn ', 'took ', 'oney ', 'd rul', 'on lo', 'r fil', 'd dem', 'd -- ', 'tandi', 'us co', 'ere e', 'efuse', 'later', 'n. ye', 'ion e', 'worke', ' star', ' dema', 'isput', 'seque', 'e leg', 'cy be', 'fraud', 'd som', 'sly r', 'ailed', 'defin', 'oup r', 'ed ar', 'w oat', 'nce c', 'tutio', 'confi', 'st. s', 'ime r', '- hon', 'rying', 'rushi', 'ans w', 'acefu', ' larg', 'on di', '- sum', ' fiat', 'ate l', '-- ho', 'repub', 'veryb', 'rief ', 'dozen', \"th's \", ' mike', 'stage', 'ed pe', 'biden', 'date ', 't ove', 'te el', 's bri', 'else,', 'th-ho', 'curri', 'lves,', 'upend', 'aw. j', 'nge a', 'ves, ', 'isian', 'ats, ', 'start', 'nd ru', 'ates,', 'far a', ' lega', 's act', 'ounte', 'oo, g', 'turni', ' amy ', 'p \"an', 'day a', 'e jud', 'rule ', 'oster', 'arily', 'tribu', 'rioti', 'ious,', 'most ', 'es tr', 'ticul', 'ndemn', 'orney', 'ectin', 'law t', 'ofane', 'ost e', 're wo', 'racy.', 'cious', 'e fid', 'y rul', \"iden'\", ' sche', 'ne ju', ' deat', 'amicu', 'old u', 'ump l', 'ion, ', 'lifet', 'unt v', 'ice. ', 'am de', '.  \"l', 'ures ', 'resul', 'histo', 'l day', 'ion \"', ' told', 'eague', 'es, r', 't.alm', 'or re', 'latur', 'rmly ', 'lly e', ' judi', 'ested', 'rage.', 'de re', 'nge o', 'lity ', 'ght,\"', 'ments', 'withi', 'among', 'eme c', 'e sup', 'al sy', 'syste', 'ump g', \"'s vi\", 'own g', 'ained', 'cy. y', \"ump's\", 't sta', 'st ch', 'ion o', 'prima', 'king ', 'y. it', 'ked c', ' repu', 'at. t', 'bend ', 'rson ', 'dence', 'offen', ' pand', '. yes', 'list\"', 'eral ', 'midat', 'g mob', 'se co', ' disp', 'n liv', 'volou', 'lts. ', \"p's r\", 'ervat', 'putes', 'lies,', 'lecto', 'tosse', ' cont', 'nuati', 'use c', 'rief,', 'igns ', 'butio', 'too, ', 'uty c', 'hs of', 'erve ', 'mands', 'espec', 'nors ', ' runn', 'rse d', 'egiou', 'uisia', 'mbers', 'yday ', 'ault ', 'd the', 'equen', 'egal ', 'ageou', 'lated', 'rous ', ',\" co', 'olden', 't) en', 'al te', 'on au', ' see ', 'me tr', 'l lin', 'able ', 'iulia', \". it'\", 'e joh', '4 hou', 'w thr', 'ana c', 'icula', 'obs c', 'iotic', ' cons', ' laws', 'iden ', 'y. tr', 'e ref', 'd ins', 'nt.al', 'almos', ' 24 h', 'mehow', 'n mem', 'tem d', 'nks c', 'nethe', ' witn', \"mp's \", 'vote.', 'ismis', 'ate b', ' care', 'son l', 'hones', 'ed ma', 'yone ', 's, le', ' team', 'ry kn', 'd aro', 'so se', 'g sup', 'rters', 'heles', 'n. wi', 's fol', ' thre', 'onor ', ' resp', '\" sai', 'iled ', 'ion c', 'nserv', 'ut, b', 'ion p', '- sta', 'te at', 'absur', 'least', 'reers', 'ade c', 'rging', 'azy, ', ' hoth', 'ase, ', 'gal s', 'es ru', 'age\" ', 'n lou', 'shone', ' peop', ' genu', 'ands ', 'c som', 'nt li', 'ted s', 'stuff', 'nor m', 'ng ho', 'n app', 'ers h', 'vativ', 'ly co', 'summa', 'attem', 'y fil', 'egreg', 't cha', ' meek', 's vow', 'meric', \"'s se\", 'cy de', 'stero', 'p tos', '- cou', 'als, ', 's, ga', 'd tv ', 'n aut', 'e int', 'nine ', 'lso s', 'rked ', 'prece', 'ntest', 'ss, w', 'backg', 'y per', 'weeks', 'e, le', 'fidel', 'arge ', 'frivo', 'verno', ' many', 'son w', 'compl', \"en's \", 'dent ', 'ges -', 's cou', 'housa', 'ng co', 'ouse ', 'ld fa', 'ns na', 'surd ', 'd dis', 'ecoun', 'emic ', 'en ur', ' list', 'es su', ' defi', 'ct bi', 'n dem', 'uatio', 'iting', \"it's \", 'anyon', 'ntena', 'ed re', ' desp', 'riske', 'nts w', 'arian', 'sault', ' less', 'ud tv', 'le la', 'ce am', 'could', 's. im', 'on, p', 'y. ye', 'ath t', 'ng, s', 'quenc', 's lat', 'wing ', 'oo, h', 'ally.', 'echoe', 'told ', 'iousl', 'p mad', 'ly. t', 'ng el', ' even', ' sena', 'ine j', 'uits ', 'ed tr', ' them', ' dire', 'ump -', 'y tra', 'uence', 'every', 'ousan', ' will', '. mik', 'mmari', 'ttemp', 's con', 'ry pe', ' pers', 'resid', 'hing ', 'us, g', 'ies s', ' din ', 'wards', 'many ', 'nanim', ' rep.', ' brie', 'ted e', 'urt w', 'rges ', 'als a', 'ign a', ' stag', 'shing', 'n how', 'trage', 'erate', 'half.', 'ney b', 'on po', 'ameri', 'g att', 'vote ', 'porti', 'med s', 'anted', 'rudy ', ' \"let', ' supp', 'hoed ', 'blata', ' egre', ' perv', 'dged ', 'g evi', 'east)', 'illin', 'ly ca', 's rep', 's gen', '. sho', 'ts tr', 'g fin', 'na ci', 'inspi', 'lican', 'ty re', ' assa', 'y aud', 'd eve', 'ory s', 'judge', 'triot', 'crede', 'ative', 'datio', 'anoth', 'circu', 'plica', ' just', ' comp', 'age, ', 'lly. ', 'four ', 'spute', ', fea', ' one ', ' part', ' grou', 'lay t', 'pande', '-- ev', ' atto', 'blica', 'ng an', 'ous c', 'peopl', 'y cou', 'mpaig', ' amer', 'erybo', 'const', ' work', 'ns am', 'een c', 'tates', 'sed a', 'tion.', 'pushe', 'ne co', 'epost', 'ut st', 'tuff.', 'appal', 'awsui', 'e def', 'ic so', '- mid', 'cknow', ' john', 's, to', 'o, ha', 'texas', 's lif', 'g hot', ' beha', 'ossed', 'ows p', 'ect b', 'body ', 'conde', ' priz', ' thin', 'on cl', 'ing e', 'tempt', 'ce re', 'ort p', 'ed di', 'i tru', 'edenc', \" it's\", 'times', 'ce.he', 'mplyi', 'urage', 'mic s', '. occ', 'ns ju', 'y, au', 'in fi', 'culat', 'alf. ', '. see', 't. su', 'ne un', 'ncy b', 'e far', 'se de', 'd car', 'reced', ' -- e', 'e sen', 'corn ', ' us e', 'ps to', 'rty, ', 'al re', 'ge ai', ' powe', ' anot', 'cular', 'gener', 'itica', 'ifull', 'es an', 'e cle', 'uppor', 'nce, ', 'ults,', 'terou', 'ing m', 'ily d', ' woul', 'bers ', 'nuine', 'polit', 'hotho', 'ral j', 'es. w', 's ami', 'thori', 'st jo', 'hange', 'pport', 'tes. ', 'group', 'onfir', 'ces d', 'ously', 'despe', 'ymbol', 'ng di', 'ns de', ', leg', 'lied.', ' offe', 'rage,', 'battl', 'g cer', 'anywh', 'ifyin', ' frau', 'us fo', \"'s sc\", 'ange ', 'legis', 't rec', 'see c', 'udaci', ' took', 'icus ', 'ar: j', 't pre', 'otic ', 'irmat', 'd bow', 'recou', 'rrett', 'liste', 'lear:', 'ok le', 'thin ', ' push', 'ointm', 'color', 'led w', ' righ', 'assau', 'rderl', 'y law', ' argu', 'n amy', 'roup ', 'me co', 'icial', 'howed', 'nate ', ' anyw', 'halle', 't,\" s', '. sup', 'ved e', 's pri', 'cts g', 'nowin', 'ly tr', 's des', 'finit', 'd.and', ' wrot', ' prec', 'e, du', 'oin. ', 'lse, ', 'ekly ', 'n dis', 'aw. t', 'gratu', 'arnis', 'ourt ', ' giul', 'ation', 's sup', 'mous ', 'dice.', 'truth', 'irmly', 'lect ', 'idewa', ' cryi', ' inti', 'y giu', 'gned ', 'o, fi', 'il se', 'month', 'edge ', 'aw ti', 'oaths', 'mp lo', 'udici', \"n's v\", 't vot', 'ate a', 'evide', 'genui', 'ortin', 'st pa', ' trac', 'emand', 'ted p', 'ote. ', 'eys g', 'al fi', 'ontin', 'thous', ', lea', 'eless', 't ano', 'itari', 'ople ', 'holde', 'ehow ', 'house', 'debas', 'gregi', 'ater.', 'rvati', 'olous', 'and m', 'knows', ' dona', 'ail s', 'it an', 'lined', 'edent', 'groun', 'enanc', 's sho', 'gns a', 'rs co', ' dela', 'te le', 'fearf', 't job', 'use f', ', ask', 'utrag', ' aski', 'ote s', 'perha', ' cone', 'rs lo', 'atitu', 'eme t', 'ne fa', ', als', 'd pro', 'rily ', 'agues', 'h thr', 'nd la', 'taria', 'ed wa', 'd pre', 'ences', 'earfu', 'ppoin', ' camp', 'larly', 'right', 'knowl', 'ideli', 'gestu', 's law', ', sup', 'ct. t', 'cheme', 'mboli', 'ence,', 'e aim', 'ion d', 'unnin', 'ribut', 'aroun', ', per', 'hemse', 'urse,', 'any a', 'ys ge', 'wed i', 'ublic', 'nd cl', 'ur st', 'ing c', 'licat', 'ertif', ', ame', ' back', 'g rep', 'avely', 'ceful', ' appa', ', wea', 'v -- ', 'mp go', 'dst p', 'y sho', 'mike ', 'd par', 'sive ', 'siden', 'ump \"', 'ge\" \"', ', con', 'nest ', 'e cha', 'eeks ', ' char', 'final', 'g vot', 'latan', 'slatu', 'usly ', 'd. gr', ' insp', 'f. oc', 'e, am', 'ge fi', 'ocrat', 'liani', 'ion a', 'point', 'arret', ' coll', 'ound ', 's, pe', 'urtro', ' with', 's sch', 'rting', 'mp ma', 'disho', 'brave', 'dness', 'on si', 'nce r', 'ffici', '. doz', 'eside', ' want', 'o far', 'ries ', 'stitu', 'ay st', 'cy. h', ' symb', 'orita', 'senat', 'sitio', 'rett,', 'c ges', 'urt c', 'wer. ', 'ociou', '.almo', 'hout ', 'cal r', 'grati', 'trump', 'creta', 'oor r', ' craz', 'tory ', 'raud.', 's pus', 'und c', 'see s', 'mp re', ' cond', 'ed bo', 'dency', 'deral', 'ice.h', 'l ele', ' elec', 'ld co', 'nsive', 'sidew', 'ow th', 'reats', 'geous', 'ed co', 'ness,', 'oneth', ' fail', 'imed ', 'ts, w', ' enor', 'es. i', 'aries', 'te fr', 'se se', 'in. w', 'an pa', 'd ema', 'lence', 'attor', 'g abs', 'ngrat', 'ollea', 'presi', 'aw oa', 'orabl', 'rt ou', 'tical', 'n sta', ' file', 'overn', ' gest', 'as, a', 'ed in', 'lecte', 'tulat', ' hist', 'ike j', 'ous, ', '. gro', 'ates ', 'fetim', 'rote,', 'aigne', 'horit', ' also', 'lativ', 'on wr', '. sil', 'olic ', 'ates.', 'e wou', 'ned s', 'islat', ' batt', 'le el', 'es de', 'ate, ', 'aciou', 'venth', 'dire ', 'cracy', 'plyin', 'din h', 't mon', 'vows ', 'd tra', 'ged r', 'vernm', '\"righ', 'votes', ' hour', 't ele', 'atula', 'utifu', 'an de', 'ouisi', 's see', 'n. si', 'handf', 'd us ', 'n amo', 's, si', 'ess, ', 'ime t', 'ong r', 'erly ', 'idate', 't. th', \"let's\", 'ment,', 'behal', 'r: ju', ' rule', 't pan', 'ts in', 'cryin', 'schem', 'ircul', ' urge', 'ities', 'ans m', 'end t', 'es vo', 'askin', ', beh', 'tage ', 'nderm', 'rs ho', 'nced ', 'ine c', 'ows r', 'yally', 'usand', 'ans n', 'firma', 'ude r', 'eople', 'ials ', 'tifyi', 'd ack', 'coura', 'respe', 'leven', 'cans ', 'ens j', ' chil', 'ng su', 'ed ac', 'filin', 'overt', 'y act', 'tes, ', 's, wi', 'te, d', 'otes.', 'age e', 'siana', ', gai', 'nfirm', 'on el', ' toss', 'rve g', 'iring', 'n gra', 'ed so', 'us el', 'ourtr', 's nat', '- app', 'ss co', ', 100', ' jobs', 'requi', '-elec', 'y rej', 'y ame', 'andin', 's wil', 'ans d', ' unde', 'nce t', 'ruth ', 'eved ', 'ulian', 'ess b', 'nds c', 'ue re', ', giv', 'elect', 's, as', 'ed. s', 'ometi', 'ion -', 'ter. ', 'harge', 'e bat', 's rul', 'perat', 'folly', 'ritar', 'mocra', 'acy. ', 'mpt u', ' supr', 'ng, r', 'reme ', 'ce, g', 'ople,', 'r arg', 'prize', '(so f', \"t's c\", 'ge ou', 'order', 'urs, ', ' vote', 'd law', ' perh', 'ed kn', 'clock', 'udges', ' scor', 'tices', ' pres', 'arly ', '  \"le', 'less ', 'st\" s', 'l amo', 'aud. ', 'on re', 'ritie', 'leagu', 'ly re', 'g pre', 'large', 'ethel', 'erver', 'rybod', 'tic a', 'dispu', 'parti', 'se, a', 'h-hou', 'lists', 'anced', ' fina', 'ait s', 'ansit', 'e unc', 's -- ', 'icans', 'ummar', 'ustic', 'on \"c', 'ties ', 'ounts', 'tract', ' coul', '. imp', 'e tru', 'e. sh', 'law r', ' evid', 't cam', 'rd la', 'imida', 'ts vo', 's, fe', 'lts f', ' texa', ' amon', 'ctors', 'paign', 'animo', ' law.', 'ourse', 'ishon', 'ws po', 'ian s', 'ty, d', 'n fin', ' out,', 'oe bi', ' resu', 'rful ', 'ents,', 'madne', 'l jud', 'selve', 'eers ', 'ge, a', 'xious', ' trum', 'an of', 'sed b', 'y kno', 'ng ce', 's any', 'ng on', 'on, r', ' fero', 'tment', 'ring ', 'imous', 'tle h', 'ump t', 'sults', 'await', 'il am', 'ong l', 'louis', 'ssion', 'seen ', 'tes t', ' grat', 'ity l', 'set c', 'ted o', ' too,', ' blat', 'congr', 'r, le', 'ld (s', 'cours', 'es, l', 'sted ', ' prim', 'mong ', 'urrin', 'untin', 'ce. r', 'ds me', 'ful g', 'ail a', ' \"anx', 'mine ', 'y job', 'redit', 'onest', 'cials', ' upen', ' emai', 'onseq', ' legi', ' risk', 't egr', 'e out', 'rofan', \"'s pe\", 'hown ', ', evi', \"p's s\", ' ackn', 'n beh', 'e col', 'ds ev', 'ry co', 'ny ac', 'e fri', 'eject', 'nning', 'n, ru', 'e, al', 'eks d', 'dicia', 'ee si', 'd joi', 'y dem', 's off', 'donal', ' brav', 'mobs ', 'outra', ' fili', 'nimou', 'uit f', 'ased ', ' ever', 'ly aw', 'n \"co', 'way. ', 'y rig', 'urn e', 'est c', 'can d', 'ident', 'ent, ', 'ht,\" ', '0 hou', 'witne', 'publi', 'd clo', 'urn r', ' gone', 'd con', 'pect.', '.and ', 'ul ge', 'teste', ' days', ' lies', 'le, l', 'etime', 'n wro', 'ector', ' amou', 'erson', 'em de', 'w tim', 'enlis', 'ul el', 'nd --', 'urged', 'ess c', 'conti', 'ce co', 'dless', 'ges l', ' weat', 'trial', 'y. hi', ' leas', 'micus', 'rity ', 'ency ', 'chang', 'democ', 'it fi', 'ief s', 'ous e', 's, we', 'elity', '. tru', 'n gov', 'ule e', 'rvers', 'sed t', 'se, d', 'ours,', 'y bel', 'ictor', 'other', 'ravel', 'p loy', 'e. ru', 'p ref', 'son g', 'p. mi', 'g dir', 'ef, j', 'ing v', 'feroc', 'marie', ' far,', 'urd l', 'ign u', 't, bl', 'feder', 'y ech', 'state', 'tart ', 'urgin', 'nish ', 'ght.s', 'wardi', 'uld f', 'ounti', 'l tex', 'ituti', 'e sig', 'd. su', 'urt o', ' coun', 's vot', 'ces r', 'obs b', 'ns sh', 'mp to', 'l mis', 'chill', 'ays d', 'ated ', 's ack', 'deman', 'rse, ', 'es ur', 'ontes', \"p's b\", 'gn up', 'dutif', 'ctory', ' sile', 't, to', 'd off', 'honor', 'ar st', 'can m', 'preme', 're el', 'bow t', ', wan', 'giuli', 's dem', 'd fer', 'rgue ', 'sking', 'ote f', ' clea', '\"anxi', 'victo', 'e hou', 'iling', 't,\" c', 'ge. p', 'ratit', 'ive s', ' colo', ' vows', 'er, c', ' -- c', 'rnors', 'hin 2', ' gett', 'ast) ', 'aud t', 'uine ', 't fil', 'ful, ', 'l sys', 'ower.', 'e\" \"r', 'lts, ', 'es la', 'normo', 'join.', '.he t', 'ns ma', 'neys ', 'come.', 'ntry ', 'tinua', 'ize c', 'imes ', 'ling ', 'ng at', 'ject ', 'rmous', 'olly.', 'isted', 's ass', ' bide', 'rate,', ' refu', ', rus', ' atte', 'belie', 'ss, r', 'knowi', ' arou', 'floor', '-- ap', 'ply j', 'y. co', 's del', 'can p', 'ope i', 'er. s', ' anyo', 'ibuti', 'where', ' suit', 'elay ', 'es br', 'lenge', 'idati', 'ist\" ', 'nal l', 'p los', 't out', 'there', ') enl', 'eleve', 'eliev', 'ect. ', 'nch, ', 's fou', '. fed', 'death', 'her, ', 'n eno', 'epubl', 'ral l', 'our s', 'tness', 'ly un', 'ts ge', 't mad', 'enge ', 'lden ', 'shed ', ' bow ', 'racy ', 'rn co', 'out, ', 'nsequ', 'behol', 'ngnes', 'ts. s', 'ettin', 'or ma', 'nd tr', 'chall', 'e arg', 'ht.se', 'ans s', 'mplic', 'kly c', 'd rep', 'd tru', 'emn a', 'al da', ', sim', 'tting', \"h's e\", ' friv', 'its t', 'ck --', 'thout', 'ote p', 'rgume', 'wn en', 'plied', \"'s bl\", 'ze co', ' some', 'jorit', 'oo, f', ' offi', 'dit, ', 'nxiou', 'ountr', 'ials,', 'perve', 'y, du', 'ud. g', 'exas,', 'ed we', 'quire', 's bac', 's eve', 'ans c', 'estur', '\" see', 'ne de', 'ion b', 'branc', '. tim', 'ults.', 'ehold', ' miss', 'ardic', 'ntmen', 'ral t', 'en li', 'rnish', 'bs ba', 'issed', 'ts fo', ' auth', 'ss as', 'thele', 'rtroo'}\n",
      "Document 4 shingles: {\"'s wi\", ' law ', 'k. re', '2 may', ' reco', 'missi', 'far b', 'w int', 'r. la', 'taine', 'it br', 'autho', 'count', ' \"dav', 'er li', 'new d', ' than', 'comin', 'ding ', 'ears ', 's dis', 'neral', 'furni', ' data', 'fitti', 'narch', 're fi', 'briti', 'es tw', 'rine ', 'shows', ' gene', 'cts t', 'om re', ' 1.5 ', 'ymour', ' comi', ' regu', 'itial', 'brill', 'rded ', ' anti', 'face ', 'kes f', '22 ma', 'brita', 'p. uk', 's sev', 'ure a', ' 63 g', 'as sh', 'ing i', 'eyn j', 'iptio', 'can s', ' cult', 'aeolo', ' bene', 'oleyn', 'ty,\" ', 'se. l', 'ions,', 'nks g', 'nsure', ' andr', 'm sai', 'cs si', ' far ', 'ns, u', ' woun', ' hobb', 'l rep', 'st ga', 'tiona', 's nor', 'ittin', 'ernme', 'kely ', ' basi', 'equir', 'ered ', 'ers a', 'ic po', 'said ', 's old', 'd gol', 'ur fi', 'in fe', 'issio', 'weedi', \"k's t\", 'ng re', 'ded c', 're hu', 'ure m', 'nt se', 'g,\" s', 'inues', ', wou', 'ards ', ', min', 'es no', 'thank', 'ority', 'tains', 'steri', 't cen', 're ac', 'llian', 'ing a', ' week', 'g pub', 'heme ', 'son o', 'ery c', ' 13. ', 'cal m', 'drews', 'nal a', 'ringi', 'reach', 'entur', 'ic tr', 's ant', 'rofes', 'ies d', 'rs ab', 'nscri', '300 y', 'g 50 ', 'al, b', 'id pr', 'disco', 'ld ba', 'corde', 'afric', 'eolog', 'ength', 'ry. i', 'andem', 'rican', 'regul', '. art', 'e fin', \"ica's\", 'y def', 'ining', 'g upd', \"viii'\", 'wn tr', 'seums', 'iii, ', 'ing f', '70s s', 'ple u', 'ear, ', 'centu', 'ins, ', 'tead ', 'us. a', 'gists', 'ls se', 'it. e', 't. ev', 'roner', 'ital ', ' myst', 'ton k', 'silve', 'ine a', ' unit', 'rket ', 'ther ', 'es so', 'd sch', 'ly bu', 'ic, r', 'rs re', 'thwes', 'ing u', 'wis, ', 'nage,', 's pro', 'ntinu', 'ws 81', ' cath', 'dieva', 'nment', 'ing l', ' head', \"in's \", 'st. a', 'heads', 'bies ', 'e. li', 'senge', 'a fou', 'y his', 'liter', 'quara', ' obta', 'ct 19', 'ost i', 'ack 1', 'ried ', 'wives', 'ludin', ' silv', ' vast', 'istor', 'wners', 'eme 2', 'clude', 's two', 'ing r', 'ensur', 'des 1', 's obj', 'rall ', 'owner', 'h 22 ', 'dug y', 'g cou', 'ntrys', 'ounce', 'd oce', 'e, ta', 'old b', 's sou', 'ical ', ' stre', 'dward', 'ry vi', 'enefi', 'rchs ', 'l sea', 'n hoa', 'ds an', 'd-19 ', 'ane s', 'niste', 'ican ', 'ichae', 'in in', 'ty hi', 'andre', 'ity,\"', 'dded ', 'ys fa', 'ed mi', 'on. i', 'lf-ce', 'era, ', 'under', 'inclu', 's com', 'c anc', ' made', ' st. ', 'd bri', '. mis', 'nclud', ' amat', 'y 13.', 'ngdom', 'eads ', 'rt di', ' liai', 'c por', 'ar in', 'arket', 'ifica', 'alued', 'all p', 'd, go', 'hinin', 'rtant', 'tal r', 'rds c', 'own 5', 'ead r', 'er pr', 'g fac', 'rship', '. and', 'loy, ', ' buri', 'poste', 'se. m', 'n, da', 'e fou', 'ortab', 'ket p', 'ing 5', 'nging', 'ultur', 'alf-c', 'rthed', 't und', 'g bri', 'benef', ' hunt', 'oy, c', 'owing', 'dom r', \"'s pa\", '970s ', 'h loc', 'anne ', 'd 63 ', 'ry 30', 'illio', 'ity h', ' show', 't spa', 'ld lo', ' fair', 'n off', ', new', 'coron', 'n. it', ' arch', 'ined ', 'gon, ', 'ing, ', 'ng 50', 'ish b', ' trea', '2019,', 'iscov', 'r cov', 's, co', ' two ', 'g mad', 'earth', ' \"it ', 'ar ba', 'ums u', 'ntain', 'm rec', 'nt pa', '3th c', 'oming', ' god ', ' dug ', '\"it b', 'st ce', 'lion ', 'den d', 'ed si', 'ir ma', 'orone', 'el le', 'relea', 't tre', ' area', ' ocea', 'on of', 'er co', 'ranti', ', bac', 'g yea', 'h afr', 'rd iv', 'obtai', ' nort', 'also ', 'ure, ', 'orica', 're mi', 'hip. ', 'ajori', ' saw ', 'ing s', 'datab', \"uk's \", 'own m', 'd all', 'enger', 'arch ', 'verer', 'nds, ', 'ers r', 'nited', 'enera', 'ast m', ' mint', 'e con', ' resi', 'port ', 'inted', 'g str', '9, re', \"ca's \", 'fican', 's \"en', 'ed 16', 'g dig', 'rews.', 'ity d', 'y med', ' milt', 'onal ', 'ceanu', 'ilver', 'sseng', \"'s po\", 'tion ', 'ars l', 'ndrew', 'e act', 'ty de', 'r mar', ' arag', ' gold', 'id go', 'verie', 'david', 'said.', ' wive', 'finds', 'an so', ' rath', 'neart', '602 o', 'kingd', 'al he', 'e dis', 'ovid-', 's coi', 'r inc', 'vid-1', 'try f', 'annou', 'st in', ' keyn', 'al se', 'chael', 'lic o', 'ting ', 's bea', \"me's \", 'eval ', 'ner a', ' seve', 'ists ', 'r. ne', 'hed m', 'rs la', 'uthea', 'de co', ' bear', 'ultim', 'kyard', ',\" sa', 'stand', 'eleas', \"tain'\", ' rele', 'rnitu', ', imp', 'ant u', 'ance,', 'ndemi', ' pric', ' brin', 'mic a', 'in ho', 'd hal', 'milto', 'es fi', 'half-', 'd 16t', 's add', 'e cop', 'illia', 'fit. ', 'eums ', 'tin i', '1,602', \"god's\", 'tecto', 'rt pa', 'arago', 'lid g', 'myste', ' lost', 'rtabl', 'boley', 'c own', 'ard i', 'initi', 'latin', 'al si', 'sion ', 'ataba', 'ragon', 'ry me', 'ced w', 'um va', 'a, wo', 'ckyar', 'ks ga', 't pay', 'gover', 'hs ed', 'r, bi', 'parth', 'r coi', 'gnifi', '9 pan', 'ng li', 'spate', 'natio', 'd uk ', 'ies u', 'trave', 'ords ', 'ist g', 'siona', 'eek. ', 'es ob', ',602 ', 'tick ', 'ockdo', 'k peo', 'nd it', 'w dis', 'cient', 'marke', 'wn 50', 'ives,', 'd arc', 'detec', 'nothe', 'i, li', 'hanks', ' 2019', 'eld 6', 'ong n', 'sure ', 'oins,', 'ded a', 'readi', ', inc', 'outh ', 'etal ', 'ather', 'es di', 'ilton', 'llow ', 'r car', 'ofess', 'pays ', 'lic b', 'aturi', 'aw in', 'ffice', 'le fo', 'eum a', ' repo', 'rd ar', 'und o', 'avers', ', rec', 'offic', ' read', 'ely b', 's. \"i', 'law i', 'jects', 's, im', 'rengt', ' foun', 'year,', 'ts di', ' year', 'ion r', ' nati', 's. on', ' caro', 'es co', \"d's m\", 'l aut', 'es fa', 'sing ', 'cal a', 'rnmen', 'ning ', 'ck 1s', 'her a', 't rom', 'on co', '98 ge', 'demic', ' trov', 'nding', 'rly f', ' shin', 'tant ', 'finde', 'ace g', 'cultu', 'timat', ' full', 'trysi', ' mile', 'al ar', 'anks ', 'tende', 'ondon', ' sign', 'area ', 'ews.\"', 'one s', 'und b', 're hi', 'inena', 'n key', ' face', 'nting', 'major', 'de me', 'oards', 'y. ne', 'n pan', 'ine d', 'made ', 'imate', 'ing d', 'r all', 'east ', 'cent ', 'coins', 'ies c', 'e tro', 'o saw', 'nenag', 'es du', 'eanus', ' 500 ', 'local', 't ins', 'ure h', 'd vas', 'y. in', 'n. an', 'te lo', 'ne se', 'cal c', '47,00', 'year ', 'elics', 'ifact', 'y, cl', 'ted k', 'asure', \"'s li\", 'g amo', 'heme.', 'inste', 'nted ', 'growi', 'ging ', '\" shi', 'ripti', 'ast, ', 'lewis', 'eatur', 'recor', '50 so', 'aison', 'ritis', 'ded p', 'on ke', '. maj', 'low n', \"m's p\", 'olid ', 'ng mo', ' prog', 'north', 'th ce', 'ntiqu', 'rtifa', \"od's \", 't see', 'viii,', 'bbies', 't. an', 'ders ', 'man f', 'tiqui', ' lite', 'ral p', 'iture', 'ting,', ' brit', ' dete', ' take', ' 50 s', 'pdati', 'ew qu', 'ines ', 'e sil', \"'s tr\", 'ug ye', \"t's m\", 'tine ', ' requ', 's por', 'turin', 'uthor', 'alloy', 'ntury', 'red w', 'passi', 'ard h', ' may ', 'r, ba', 'porta', ' 47,0', ' incl', 'gold ', 'cquir', 'ied b', ' inst', 'ture ', 'ral s', 'very ', ' item', '6th c', \"rica'\", 'acts ', 'ing p', 'dinen', ' spat', 'egula', 'o hoa', 'r lin', 'lued.', '19, r', 'c tre', 'ng,\" ', 'tials', 'even ', 'ger, ', ', fou', 'ld 63', 'lics ', 'ds pr', 'covid', 'is, h', 'ded s', 'clear', 'nitia', 'atin ', 'treng', ' late', 'back ', 'nitur', 'ncien', '1st c', \"'s ap\", ', tak', 'g cat', 'ional', 'ble a', 'l cor', 'ics s', 'sure,', 'list ', 'rd, h', 'untry', \"n's p\", 'e. br', 'inist', 'rthwe', 'ficer', 'asing', 'd old', '0 mil', 'g. ye', 'amate', \"ain's\", \"ii's \", 'rs, a', 'aid p', 't pas', 'base ', 'nt sp', 'teral', ' said', 'rds m', 's mys', 'minte', 'th af', 'd wee', 'mour.', ' gove', ' cent', ' majo', 'sever', 'rice ', 'rs ol', 'd 50 ', 'rchae', 'carol', 'ic ow', 'ne ar', 'ng la', ' prof', 'ne ho', 'd bur', ' over', ' valu', 'ee sc', 'uried', 'hows ', '.5 mi', 'monar', 's dug', 'ing,\"', '5 mil', 'tandi', 'eal, ', 'tely ', 'nger,', 'es, i', ', bea', 'm val', 'later', ' find', 'ister', 'defin', 'uk cu', 'unite', 'ble r', 'abase', 'ly ac', 'own t', 'ors, ', ' reac', 'n tha', 'en di', 'ows 8', 'hed n', ' anne', 'l mus', 'town ', 'ate l', 'sts u', 'theri', '. yea', ' trav', 'ires ', ' 1970', 'e hun', 'ming ', 'it. l', 'iquit', 'm, sa', 'ves, ', 'st, l', 'oin f', 't 199', 'n rea', 'ea fo', 'les n', 'rolin', ' redi', 'ws.\" ', '1970s', 'ven p', 'oster', 'w pas', 'rathe', ' jane', '7,000', 'k cul', 'acqui', 'years', 'down ', 'ing. ', ', une', 'micha', ' sche', 'w qua', ' old ', 'ng. y', 'ry. m', ', ann', 'und i', 's abl', 'e. mi', 'histo', 'ures ', 'takes', 'derst', 'herin', 'r pro', 'uring', 'h mus', 'overy', 'oins ', 'eadin', 'g gar', 'ison ', 'e sch', 'archa', 'or co', 'e sey', 'ry fu', 'among', 'ic ra', ' news', 'leyn ', 'c ben', ' 50 m', ' lewi', 'ained', 'ch 22', 'fessi', 'rds a', 'g lat', 'ion o', 'ast l', 'oin h', 'nus. ', 'keyne', 'dates', ' medi', 'basin', 's, he', ' inte', ' pand', 'eral ', 'se co', ' post', 'west ', 'redis', ', hea', 'gram ', 'sures', ' cont', 'ns be', 'itish', 'seum ', 'cript', 'ajor ', '. ano', 'ple f', 'ng, i', 'p st.', ' anci', 'erity', 'blic ', 's rec', 'h fin', 'coppe', 'oins.', 'ury m', 'd pos', 'ce 19', 'ikely', ' see ', 'able ', 'enage', 'd era', 'ingdo', 'ng ca', 'nefit', '0s so', 'aring', ' 22 m', '6 req', ' adde', 'ease.', 'ular ', 'e bol', 'eme. ', 'd new', 'ieval', 'ral h', 'ck pe', 'rs ob', '50 mi', 'ects ', 's une', 'ind p', 'stori', 'rogra', 'd, he', 'find ', 'erer.', 'ince ', 's edw', 'ns re', 's fai', 'ediev', 'r bac', 'hael ', 'ge, n', 'opper', '\" sai', 'ion c', 'er, b', 'treas', 'e min', 'orthw', 'ing b', 'me gr', 'inds,', 'al lo', 'ade c', '13. d', 'e upd', ' mess', ' peop', 'g lit', 'tems ', 'line ', 'ersin', 'den t', \"i's w\", 'south', 'ind b', 'rthei', 'id ne', ' copp', '. nea', 'me 20', 'ds mu', 'gram,', 'erall', ' apar', 'lso s', 'l rec', 'nearl', 'e, mi', 'als s', 'cers ', 'ed sc', 'one t', 'ear i', 's cou', 'useum', 'tal d', 'ng co', 'tinue', 'eries', 'r are', 'sh ba', 'es un', 'tury ', 'd dis', 'nt un', ' unea', 'ists.', 'emic ', 'ry. n', 'essio', 'nstea', ',000 ', ' list', 'g rec', ' defi', 'ster ', 'le an', 'don. ', \"it's \", 'ard a', 'er ca', 'price', \"eme's\", 'ng up', 'inten', 'heid ', 's pas', 'ltima', 'ied 1', 's lat', 'e, ne', 't maj', 'wing ', 'll lo', ' owne', 's 81,', 'es ov', '-cent', 'on, d', ' even', ' \"ens', 'cludi', 'ading', ', los', 'arden', 's red', 'objec', 'old c', 'news ', 'ately', 'resid', ' fitt', 'nersh', 'ic an', 'wn ma', ' 16th', 'hunti', 'ies s', 'ish m', 'al co', 'emic,', 's 47,', \"heme'\", 'y 500', 's 1.5', 'items', 'porti', 'aw up', 'earin', 'eport', ' like', 'arthe', 'reasu', ' edwa', 'urnit', 'ct tr', ' soli', 'id er', ' allo', ' arti', 's rep', 'tifac', 'ts tr', \"eum's\", 'al pu', 'nce 1', 'easur', 'ric t', 'th st', 'ynes,', 'kdown', 'g, it', 'signi', 'ng st', 't. lo', 'anoth', 'ains ', 'w rep', 'age, ', 'ngth ', 'th lo', 'e his', ' lini', 'n con', 's, ad', ' 13th', 're, t', 'ew pa', 'full ', ' one ', 'g new', \" god'\", 'pande', 'pas s', 'ward ', 'matel', 'tury.', 'am, s', 'rea f', 'ads p', 'peopl', 'g \"da', 'd mil', 'relic', 'theid', 'st lo', 'ver c', 'enry ', 'd 197', 'anus.', 'conta', 'garde', 'outhe', '96 re', 'inder', 'nded ', '\"davi', '. \"it', ' sout', 's, to', 'uding', 'ase. ', 'cts, ', 'gital', 'eum v', 'nd bu', 'ts re', '. law', 'l loc', 'repor', 'ing \"', ' sinc', 't dis', 'museu', 'on ob', 'lar p', 'ort p', 'ed di', 'wo ho', \" it's\", 'updat', 'uded ', 'ns, m', 'rysid', 'toric', 'ng ga', 'ort d', 'mport', 'ent p', 'two h', 'ent s', ', god', 'stery', ' feat', ' seym', 'eymou', 'er al', 'aroli', 'al re', 'eid e', 'erine', 'past,', ' anot', 'd pan', 'er. l', 'gener', 'ntend', 'datin', 'c rat', 'an fu', 's 13t', '. reg', 'nce, ', 'vast ', '1996 ', 'act 1', 'bisho', 'ii, l', 'lture', 'ing m', 'saw u', 'ay 13', '. inc', 'eding', 'ed. g', 'thori', 'eedin', 'n ins', 'evera', ' near', 'profe', 'seal,', 'frica', 'ng di', '00 ye', 'gth s', ' acqu', 'ndon.', 'rity,', 'fact,', '. gov', 'miles', '. one', 'ly fe', 'ended', 'archs', ', mic', 'ng \"d', 'roves', 'chs e', 'ly 50', ' coro', 'ies 4', 'ays f', 'nes, ', 'oard,', 'ins. ', 'efit.', '996 r', 'les s', 'cts a', 'assio', 'edwar', 'y bur', 'week.', 'm als', 'tes f', ' upda', 'id uk', 'y coi', 'e met', 'ure f', '19 pa', 'ds 1.', 'y fea', 'n dis', ' king', 'w nat', 'ning.', '1.5 m', 't, fo', '-19 p', 'm ann', 'nd ol', 'nounc', ' mill', 'od oc', 'ation', 'uire ', 'ogist', 'r peo', 'tery ', 'gdom ', 'air m', 'al mu', \"um's \", 'raver', 'llion', ' marc', 'ortin', ' port', 'scrip', ' 1st ', 'hobbi', 'mic p', 'new p', 'ng ma', 'oline', 'nnoun', 'id, g', ' reli', 'wn th', 'added', 'ocal ', 'ontin', ' addi', 'e ant', 'ption', 'n sol', 'ars o', 'nues ', '. lis', 'learl', ' henr', 'ople ', ' muse', 'hoard', 'nd br', 'cover', ', lik', 'icers', 'val s', 'ts, b', 'rilli', ' bril', 's gar', 'es, c', 's sho', 'roman', 'e din', 'medie', 'ues \"', 'ned 5', 'd pro', 's.\" s', 'ship.', 'ts ad', 'ce di', 'um an', 'ng fa', 'fair ', 'ontai', ' past', ', res', 'henry', 'cheme', 'f-cen', 'res f', 'ologi', 'ins o', 'orded', 'pate ', 's one', 'd iv ', 'k 1st', 'dding', 'ublic', 'edisc', 'tors,', 'ing c', 'ct, f', 'new r', ' back', 'shini', 'versi', 'mateu', 'siden', 'rch 2', '. dat', ', con', \"e's l\", 'sions', 'eynes', ' pays', 's far', ' loca', ' 81,6', 'ne si', 'iant ', 'id-19', 'g mon', 'l det', '. eve', 'y vii', 'ound ', 'iv he', 'es, t', 's sch', 'rical', 'rting', 'ar pe', 's mus', 'solid', 'ick p', ' ulti', 'e fit', 'eside', 'ries ', ' publ', 'ater ', 'ancie', 'w upt', 'ng br', 'e gro', 'ws re', 'vered', 'linin', 'ip. u', 'nders', 'er am', ' lock', 'see s', 's apa', 'cords', ' insc', 'll pu', ' mona', 'ects,', 'l, be', 'ns, b', 'ld co', 'ed co', 'rstan', 'apart', 'ing g', 'oman ', 'artif', ' init', '02 ob', ' lond', ', cle', 'red s', 'ocean', 'n jan', 'uires', 'ted 1', 's rel', 'ed 19', 'n rel', 's tra', 'march', 'antiq', 'early', 'overn', 'quiti', ' hist', ' afri', 'ews r', 'ates ', 'horit', ' also', 'ne bo', 'backy', \"'s my\", 'c, re', 'side ', 'thed ', 'pper ', 'oner ', 'ad re', 'found', 'facts', 'vernm', 'luded', 'n tre', 'ek. r', '998 g', 'jor c', 'table', 'd coi', 'y ful', ' bole', 'iles ', 'e loc', 'schem', 'en. a', 'y 300', 'ities', '00 ob', ' it. ', 'res o', 'nced ', 'n fur', 'y. ma', 'ndon,', 'ect t', 'eople', 'st ma', 'ials ', 'beari', 'tain ', 'ds co', 'dents', 'er ar', 'et pr', ' half', 'jane ', 'ating', ' weed', 'ment ', 'oric ', 'ire h', 'fines', ' town', 'g ini', 'ain r', 'metal', ' gard', 'requi', 'stead', 'uth a', 'andin', 'trove', 'n mar', ' unde', 'held ', 'vid, ', 'ard, ', 'ant s', 'um sa', 'akes ', 'ce go', 'aid n', 'ns on', ' 300 ', 'yn ja', 'op st', 'ludes', 'ng pu', '\"ensu', 'burie', 'etect', 'chaeo', ' era,', ', dat', 'rds 1', 'ns. o', '. new', ' digi', 'me. b', 'e rea', ' pas ', ' hoar', 'each ', 'es sc', 'eur f', 'am al', 'ntine', 'ackya', 'nd va', 'n 50 ', 'ed po', 'arly ', 'likel', 'e 201', 'le up', ' meta', ' mich', 'on re', ', hel', 'coin ', 'nt ro', 'ury. ', 'in re', 'antin', 'res d', 'heast', 'l pub', 'lic r', 'ne di', 'ishop', '0 sou', 'ins r', 'ull l', 'lockd', 't, lo', 'en tr', '63 go', 'ties ', 'ide m', 'iaiso', ' viii', 'h str', 'ew di', ' amon', 's mes', 'ctors', 'unear', '500 y', 'avid,', 'scove', ' 1998', 'ter c', 'ents ', 'ase c', 'ershi', 's, in', '. loc', 'stren', 'ery 3', 'al au', 'ra, w', 'ew re', 'ortan', 'v hen', 'le re', '.\" sh', 'ms co', 'ed ki', 'uptic', 'ring ', 'onarc', 'ssion', 'cts d', 'ar, b', 'ued. ', 'l lew', 'rden ', ' uk c', 'essen', ' coin', 'al de', 'd kin', ' upti', 'yside', 'ts. \"', 't pri', 'mong ', 'untin', 'ne tr', ' mark', 'hop s', 'itain', 'yster', 'rd ha', 'ecent', ' grow', 's wiv', ' mini', 'ms ul', 'igita', 'ael l', 'gth l', 'd sin', 's sig', 'ry co', 't lon', ' lati', 's dig', 'recen', ', sai', ' iv h', 'est l', ' new ', 's, un', 'nd pa', 'ine h', '8 gen', ' able', 'ded d', ' impo', 'ram a', 's tre', 'ies t', 'icanc', 'ed 50', 'value', 'ident', 'liant', ', bis', 's. ar', 'n, an', 'btain', 'd loc', 'ogram', 'publi', 'rsing', 'so sa', 'theas', 'ient ', 's obt', 'ptick', 'ersta', 'ector', ' dine', 'don, ', 's, mi', 'conti', 'ent r', 'rity ', ' covi', ', ite', '2 obj', 'mic, ', '0 yea', 'sh mu', 'ce, m', 'ng am', 'aid u', 'lloy,', 'bring', 'other', 'her p', 'uaran', \" uk's\", 'ng in', 'ed al', 'eum s', 'ely a', \"'s me\", 'en pa', 'ur. n', 'l arc', 'ach f', '81,60', ' coun', 'ewis,', 'progr', 'teur ', 'ds, i', '3. da', 'since', 'e ara', 'minis', 'e 199', 't bri', 'd. go', 'rly 5', 'ram, ', 'per a', 'tabas', 'cathe', 'overi', 'on, a', 'ed br', 'overe', 's ove', 'ic be', 'ons, ', 'ckdow', ' clea', 'l sil', 'old l', 'ritai', 'ice d', 'es \"e', 'addin', 'nts r', 'ems c', 'nry v', 'terit', 'inscr', ' furn', 'act, ', 'd bas', 'ignif', 'ntry ', 'ins b', 'ject ', 't gar', 'messe', 'e hob', 'ts un', 'oves,', 'es 13', 'l art', ' held', '3 gol', 'eme g', 'yard ', ' rece', '1998 ', 'our. ', 'den. ', 'obbie', \"a's a\", 'londo', 'nific', ' bish', 'unced', 'nal l', 'milli', 'wound', \"seum'\", 'd rec', 'shop ', 'ed ne', 'nne b', 'efine', 'lease', ' obje', 'sts. ', 'r ama', 'tish ', 'hwest', 's ult', 's uni', 'ateur', 'ch fi', 'cance', '019, ', 'y,\" s', 'd it.', ' anno', ' act ', '0 obj', 'udes ', ' roma', \"iii's\", 's fin', ' pass', \". uk'\", 'lton ', '. bri', 'rer. ', 'itera', 'e god', ' date', 's, br', 'ver l', 'bject', 'gular', 'tting', ' 1996', 'uitie', 'seymo', 'ers o', ', tow', 'ecord', '13th ', 'haeol', 'ingin', ' disc', 'y acq', 'jorit', 'l hen', 'lver ', 'liais', ' offi', '16th ', 'ountr', ', bri', '000 o', ' seal', 'nes o', 'ed we', 'lost ', 'quire', 's lia', 'agon,', 'und v', 'es 47', ', add', ' quar', 'allow', 'god o', 'rowin', 'h cen', 'overa', 'may 1', ' miss', 'n obj', 'rden.', 'ng ne', 'featu', 'ited ', 'logis', 'veral', 'digit', 'impor', 'h bac', 'r fin', ' auth', \". it'\", 'ow na', 'n fea', 'arant'}\n",
      "Document 5 shingles: {'d-19,', '\" \"i ', 'lier ', 'e sai', \"'s wi\", ' law ', \"'s de\", 'k. re', 'ement', 'apper', 'ernoo', '2 may', ' reco', 'd doc', ' 2014', 'ving ', 'invol', 'missi', 'far b', 'w int', 'exper', '. rep', 's aff', 'r. la', 'ion) ', 'sers ', 'it br', 'autho', 'count', ' \"dav', 'n all', 'er li', 's tak', 'g aut', ' than', 'coope', 'comin', 'lve t', 'ding ', 'g inv', 'rump,', 'ears ', 'nce v', 's dis', 'furni', 'neral', ' data', 'fitti', 'narch', 're fi', 'e vac', 'tappe', 'briti', 'estig', 'escri', 'rine ', 'd, on', 'ookin', 'tes a', 'shows', 'lty f', 'te pr', 'dermi', 'd aut', 'ssure', 'ct at', 'g thr', \"dent'\", 'hahn ', 'ld un', ' gene', 'ess a', 'd aff', 't one', 'lth e', 'cts t', 'om re', 'ccine', ' 1.5 ', \"t's u\", 'ymour', 's eva', 'ilita', ' comi', ' regu', 'nflue', 'itial', ', acc', 'hen a', 'i, he', 'ng tr', 'brill', 'finan', 'aud l', 'ts ti', 'rded ', 'e tol', ' anti', 'tors ', 'nhatt', 'inves', 'face ', 'kes f', '(emer', 'nts s', '22 ma', 'brita', 'ntati', 'ney p', 'r mea', 's sev', ' asse', 'man d', 'ure a', ' 63 g', 'free ', 'after', 'as sh', 'bpoen', 'ing i', 'eyn j', 'addit', 'ploye', 'iptio', ' cult', 'ows w', 'e clo', 'alo b', 'aeolo', 'pecte', ' bene', 'oleyn', ' fede', 'nk, l', 'consu', 'ty,\" ', 'se. l', 'rnoon', 'ions,', 'two w', 'ted t', 'uncle', 'nks g', 'ng au', 'joe b', 'ank p', 'nsure', 'mes d', ' andr', 'on tr', 'e add', 'm sai', 'sed g', ' sugg', 'cs si', ' far ', 'repre', ' hobb', 'l rep', 'ncy u', ', not', 'grant', 'ion q', 'st ga', 'tiona', 'ect u', 'noon ', 'ittin', 'itiou', 'y led', 'ernme', 'inent', 'kely ', ' basi', 'ked a', 'ecuto', 'ered ', 'ty le', 't-ele', 'angin', ' infl', 'ers a', 'e.\" \"', 'ic po', 's new', 'said ', 'ty ef', 'led c', 'ur fi', 'in fe', 'issio', 'weedi', 'n. tw', 'on la', 'ss au', 'all f', 'ng re', '\" bid', 'ded c', 're hu', ' inve', 'ush-m', 'ure m', 'nt se', 'g,\" s', 'inues', \"h's (\", 'ct jo', \"'s le\", 'd age', 'er in', ', int', 'rimes', 'thank', 'ority', 'tains', 'steri', 't cen', 'epres', 'llian', 'urer ', 'nce f', 'ing a', ' week', 'g pub', 'ecomm', 'ntifi', '\"fda ', 'slaou', 'eat l', 'nce -', 'heme ', '. add', 'son o', 'nt. d', 'ee in', 'ear s', 'en al', ' 13. ', 'cal m', 'cy us', 'ude \"', 'drews', '. que', 'ne em', 'entat', 'nal a', 'ion l', 'campa', 'ied a', 'ringi', 'reat ', 'reach', 'rump ', 'entur', 'ed su', 'nt an', 'ic tr', 's ant', ', tur', 'priso', ' \"reg', 'k tim', 'al cr', 'nt.\" ', 'idenc', 's.\" m', 'rofes', 'ies d', 'rs ab', ' due ', 'near ', 's eff', 'nscri', 'afety', 'g 50 ', ') req', 'part ', 'iple ', 'temen', 'al, b', 'me en', 'id pr', 'er we', 'so de', 'affai', 'disco', 'nka t', 'nquir', '014 t', 'ld ba', 'corde', 'eolog', 'ength', 'aid. ', 'ry. i', 'd saf', 'a vot', 'airs.', 'oncef', 'ne pu', ' lead', 'andem', 'e aut', 'ent-e', 'ld ma', 'rces ', 'regul', 'contr', '. art', 'e fin', 'y def', 'ining', 'matte', 'g upd', 'g one', 'd loo', 'lose ', \"viii'\", 'wn tr', 'seums', 'ead u', 'iii, ', 'ef sl', 'ing f', 'ple u', 'ted n', 'ear, ', 'centu', ' forc', 'rs tr', 'tead ', 'olve ', 'us. a', 'use o', 'gists', 'descr', 'onfid', '\" hah', 'ls se', 'cohen', \"oman'\", 'it. e', 'iews ', 't. ev', ' top ', 'a com', ' and,', 'ear f', 'ntrue', 'e, sa', 'ital ', 'ests ', 'oliti', 'views', 'silve', ', fir', 'ine a', 'emplo', 'tioni', ' unit', 'lic c', 'e, so', '14 tr', 'rket ', 'nterv', ' insu', 'surer', 'ise a', 'y dis', ' time', 'ughte', 'press', 'g whi', 'ther ', 'spoke', 'lop v', 'es so', 'd sch', 'ncy g', 'ly bu', 'ic, r', 'ign f', 'ected', 'ing u', 'rant ', 'wis, ', 'er \"t', 'nage,', 'oan. ', 'e rol', 's pro', 'ntinu', 'ws 81', ' towa', 'mpany', 'o wom', ' cath', 'dieva', 'nment', 'y con', 'ing l', 'tsche', 'bank,', 'ing h', 'onfin', 'taff.', 'ng so', 'ted d', 'ted a', 'vacci', ' head', \"in's \", 'st. a', 'heads', 'task ', 'bies ', ' uk e', 'use a', 'hen p', 'e. li', \"ment'\", 'senge', 'make ', 'subpo', 'y his', 'uncin', 'liter', 'rds r', 'quara', 'k. tw', ' obta', 'rer r', 'tence', ' untr', 'ld cn', 'arful', 'ost i', 'ack 1', 't joe', 'ate s', 'hreat', 'issui', 'ed gu', 'ried ', 'wives', 'ludin', 'irus ', 'last ', ' silv', ' brok', 'tude ', 'd. \"t', ' vast', 'istor', 'wners', 'pany,', 'eme 2', 'clude', 'f sta', 'anka ', 'ul al', 'led p', 'ing r', ' poli', 'll te', 'ensur', 'hite ', 'des 1', 's obj', 'along', 'egati', \"ne's \", 'rall ', 't lat', 'owner', 'o bil', 'h 22 ', 'dug y', 'iliar', 'g cou', 'these', 'cks, ', 'ntrys', 'us va', 'ounce', 'd oce', 's wou', ' aon ', ' conf', 'aud s', 'e, ta', 'rests', 'old b', 'tial ', 'art a', 's def', 'ng ex', 'roker', 'tan d', 's sou', 'ssets', 'ical ', 't,\" h', 'ts pu', ' stre', 'e \"to', 'n urg', 'dward', 'ry vi', 'attan', 'elati', 'aign ', 'l eff', 'g hus', ' slao', 'enefi', 'dent-', '. deu', 'rchs ', 'aid c', 'post,', 'l sea', 'hese ', 'ine r', ' pote', 'n hoa', '00 mi', 'ds an', 'd-19 ', 'ers. ', 'ane s', 'niste', 'ourag', 'n sai', 'rue r', 'ing 2', ' docu', 'ichae', 'in in', 'ty hi', 'andre', 'ons c', 'yees.', 'ity,\"', 'dded ', 'ys fa', 'rt de', 'under', 'oking', 'inclu', 's com', 'g ele', 'hen s', 'c anc', 'nt-el', ' made', \"rts' \", ' st. ', 'ealth', 'e exp', 'iday,', 'geste', 'ce,\" ', 'ump v', ' pris', 'y, ac', 'aymen', 'docum', 'd bri', '. mis', 'nclud', 'morni', 'ine e', ' amat', ' last', 'y 13.', ', com', 'ngdom', 'eads ', ' liai', ' pick', 'charg', 'urn, ', 'c por', 'ar in', 'ent e', 'arket', 'orize', 'alleg', 'aniza', 'tly.\"', ' mult', 'ay co', 'ncing', 'ifica', 'alued', 'tball', 'all p', 'd, go', 'irst-', 'viewe', 'rtant', 'one c', 'fda c', 'ng hu', 'th va', 'tal r', 'influ', 'sts p', 'ead r', '\" pub', ' fili', 'ny, a', 'er pr', 'ip. l', ' admi', 'n sen', 'aged ', 'fety ', 'g fac', 'ted w', 'ants,', 'iar m', 'rship', ' priv', ' \"fda', ', rem', 'o sci', 'nemen', 'g pro', ' rais', 'ns ch', 'firme', '. and', 'a chi', 'relat', 'loy, ', 'rk pr', 'pecif', ' (eme', ' buri', 'poste', 'ons a', 'se. m', 'n, da', 'e fou', 'ortab', 'l int', 'ety e', 'aoui,', '.\" ma', 'ing 5', 'nging', 'ket p', 'marks', 'ultur', ' loan', 'ker d', 'ntech', 'rthed', 't und', 'g bri', 'benef', 'liar ', 'r. mo', ' hunt', 'wo wo', 'oy, c', 'ee po', 'p. lo', 'hree ', 'owing', 'dom r', 'expec', \"ent's\", \"'s pa\", 'rding', 'th ex', 'h loc', 'anne ', 'rmine', 'd\" fr', 'd 63 ', 'ootba', 'uted ', 'torne', 'illio', 'ity h', 'ws wo', ' show', 'remar', 't spa', ' conv', ' heal', ' fair', 'ills ', 'n off', 'e peo', ', new', 'ntegr', 'coron', 'safet', 's pan', '-rate', 'p vac', 'ely r', 'mmine', '. dr.', ' arch', 's tim', 'fees ', 'gon, ', 'ing, ', 'ek. t', 'ng 50', 'ena s', 'ined ', 'olled', ' trea', '2019,', 'iscov', 'r cov', 's, co', 'on, f', 'y fed', 'irst ', ' two ', 'g mad', 'raged', 'es pa', 'earth', ' \"it ', 'ts ta', 'ar ba', 'ienti', 'ums u', 'ntain', 'm rec', 'nt pa', 'onald', 'd sta', 'rce s', '3th c', 'oming', ' god ', 'strat', ', sou', 'ke ta', ' dug ', '\"it b', 'nt fr', 'rted ', 'st ce', 'e rel', 'editi', 'lion ', 'perso', 'mes f', 'tants', 'den d', 'ed si', 't rep', 'on pi', 's nee', 'ir ma', 'tent ', 't bid', 'aid, ', 'el le', 'relea', 't tre', 'tatem', 'finem', ' ocea', ' agen', 'on of', ' elem', 'need ', 'ld tr', 'aed p', 'er co', 'aded ', 'ranti', 'rolle', 'essur', ', bac', 'g yea', 'ts ev', 'cyrus', 'rd iv', 'obtai', 'cordi', 'also ', 'ure, ', 'orica', 'uest,', 'en, r', 're mi', 'hip. ', 'ajori', 'court', 's upd', ' saw ', 'ing s', 'ce ef', 'at la', 'datab', 'd all', 'own m', 'd mom', 'fety.', 'ntrol', 'enger', 'arch ', 'verer', 'time ', 'satio', 'n, ac', 'nds, ', 'ny re', '\" fri', 'n add', 'roces', 'ateme', 'so re', 'rosec', 'ved v', ' hush', 'nited', ' serv', 'enera', 'ast m', 'port ', 'e con', ' resi', 'ceive', 'speci', 'g str', '9, re', 's aut', 'fican', 'd end', 'oward', 's \"en', 't ear', 'e-ran', 'ed 16', 'est,\"', 'g dig', 'rews.', 'ity d', 'one e', 'noted', 'aviru', 'er do', ' at. ', 'minen', '. sou', 's man', 'y med', 'ar du', 'ue as', 'onal ', 'ceanu', 'ilver', 'gress', 'ender', 'turn,', 'd val', 'sseng', \"'s po\", 'tion ', 'te co', 'nal t', ' enco', 'ars l', 'ndrew', 'eived', 'rsday', 'the l', 'ty de', 'e per', 'r mar', ' arag', ' gold', ' look', 'verie', 'david', 'said.', 'ent d', ' wive', ' gran', 'l sai', 'finds', 'hursd', 'rged ', 'ddres', ' rath', 't, pe', 'cess.', 'neart', 'ence.', 'ttorn', '602 o', 'kingd', 'al he', 'e dis', 'ls wo', 'wide-', 'lue a', 'emark', '300 m', 'rus t', 'ovid-', 'ument', 'orkin', 'threa', 'event', 'r inc', 'vid-1', 'try f', ' issu', 'annou', 'ws me', 'r, al', 'd.  a', 'ted m', ' effi', 'work ', 'st in', 'd at.', 'al se', 'hush-', 'ashin', 'n vac', 'chael', 'lic o', 'ting ', 's bea', 'ate c', \"me's \", 'essed', 'eval ', 'uilty', ' seve', 'ists ', 'ntly ', 'r. ne', 'p, ac', 'd sev', 'denie', 'comme', 'one w', 'rs la', 'c, co', 'uthea', 'e emp', 'de co', 'ng pr', 'e.\" h', ' bear', 'ultim', 'kyard', 'dent,', ',\" sa', 'ly, n', 'stand', ' cour', 'entia', 'n ser', 'eleas', \"tain'\", ' rele', 'rnitu', ', imp', 'ant u', 'eed l', 'ance,', 'ct un', 'ce, l', 'ndemi', ' pric', '\"regu', ' brin', 'mic a', 'in ho', 'n eve', 'yrus ', 'es fi', '. two', 'deali', \"man's\", 'ud le', 'd 16t', 'ime l', 's add', 'y sub', 'e cop', 'illia', 'fit. ', 'mp su', 'eums ', 'mp ve', 'tin i', 'two e', '1,602', \"god's\", 'tecto', 'ty. p', 's and', 'irmed', 'rt pa', 'arago', 's als', 'york ', 'ng sp', 'ss an', ' lost', 'any r', 'ficia', 'rtabl', 'boley', 'c own', 'ard i', 'initi', 'ed de', 'latin', 'ntist', 'ewed ', 'ple p', 'al si', 'sion ', 'g add', 'rk ti', 'aon c', 'ataba', 'ragon', 'lled ', 'ry me', 'erned', 'n emp', 'ef st', ' crim', 'ced w', 'n, in', 'um va', 'ckyar', 'nk di', 'ks ga', 't pay', '.\"thi', 'tion,', 'uld u', 'uld p', 'gover', 'r, bi', 'hs ed', 'ncern', 'e aon', 'r coi', 'gnifi', 'dmini', 'ut un', 'ss ne', 'ginni', 'm. tr', 'mend ', \"nk's \", 'ed th', '9 pan', 'recom', 'omise', 'payme', 'effec', 'l tea', 'ud sc', 'ng li', 'any, ', 'ubpoe', 'spate', 'natio', 'd uk ', 'ies u', 'trave', 'ords ', 'ist g', 'siona', 'mand ', ' morn', 'eek. ', 'lso d', 'es ob', ',602 ', 'r rec', 'tick ', 'g cam', 'ockdo', 'k peo', 'cient', 'marke', ' scie', 'te sc', 'r due', 'ives,', 'nce.\"', 'cial ', 'itude', 'silen', 'hingt', 'al ef', '\"thes', 'd arc', 'ng ti', 'urt f', 'detec', 'nothe', 'e wor', 'i, li', 'rs ma', \"'s co\", 'hanks', 'pokes', '2014 ', 'on. s', ' 2019', 'eld 6', 'sure ', 'e pro', 'porte', 'ded a', 'rict ', 'readi', ', inc', 'scien', 'e ban', 'etal ', 'ather', 'rt wi', 'es di', 'llow ', 'd pub', 'r car', 'rning', 'rgani', 'y.\"th', 'ofess', 'pays ', 'lic b', 'st, n', 'dditi', 'aturi', 'senta', ' vacc', 'n aon', 'ump, ', 'aw in', 'ularl', 'ffice', 'lear ', 'le fo', 'le sa', 'sly p', 'eum a', ' repo', 'prose', 'rd ar', 'und o', 'avers', 'ers f', 'rs fd', ', rec', 'velop', 'hn sa', 'nts n', ' thur', 'offic', 't eme', ' read', 'on) r', 'ne ex', 'ely b', ' addr', 'ith v', 's. \"i', 'ivank', 'law i', 'jects', 's, im', ' deut', 'rengt', 'ly di', ' foun', 'year,', 'ts di', 't ann', 'en se', ' year', 'ion r', ' nati', 'nd ag', 'empt ', 'team.', ' caro', 'es co', \"d's m\", 'ed st', 't fri', 'l aut', 'ives ', 'es fa', ' $300', 'ould ', 'sing ', '.\" \"i', 'es pr', 'tious', 'ressu', 'ssed ', 'cal a', 'rnmen', 'ning ', 'ck 1s', 'her a', 'white', 'n pro', 'on va', 'cienc', 'teres', 'men c', 't rom', 'loane', 'on co', '98 ge', 'demic', 'edera', 'r \"th', 'nding', 'rly f', 'd was', 'd imm', 'tant ', \"cnn's\", 'aking', 'finde', ' cnn.', 'ace g', 'nald ', 'cted ', 'cultu', 'timat', 'e cal', ' rema', ' full', 'p sub', 'multi', 'trysi', 'wed s', 'gton ', 'iency', ' mile', 't.\" i', 'al ar', 'ders.', '-bion', 'tativ', 'r. qu', '. fda', 'ence ', ' begi', 'ng fd', 'anks ', 'ition', 'tende', 'istra', 'dr. m', 'r, iv', 'ondon', 'poten', \"rump'\", ' sign', 'ews m', 'd sub', 'nfide', 'ews.\"', 'one s', 're hi', 'zed e', 'rgenc', 'inena', 'p ven', ' jake', 'p nev', ' face', 'se pu', 'nting', 'al qu', 'd int', 'ax fr', 'major', 'nsult', 'ne wo', 'de me', 'y. ne', 'n pan', 'e tax', '. cou', 's fir', 'ine d', 't don', 'made ', 'is un', 'ounci', 'ows d', 'imate', 'o dec', 'ing d', 'r all', 'east ', 'cent ', ' sour', 'conce', 'g tru', 'coins', 'ies c', 'fiden', 'aling', 'o saw', 'eques', ' fda ', 'nenag', 'vate ', ' bill', 'es du', 'ampai', 'eanus', 't wid', ' 500 ', 'local', 't ins', 'nts, ', ' buff', 'ccord', 'ure h', 'd vas', 'ect j', \"nt's \", 'y. in', 'n. an', 'te lo', 'ef \"r', 'ake c', 'r wee', \"'s un\", 'ne se', 'nizat', 'mpt b', '47,00', 'year ', 'isers', 'utsch', 'rd va', 'ffort', ' done', 'rce t', 'elics', 'ifact', 'y, cl', 'litic', 'ted k', 'wed l', 'asure', \"'s li\", \"orts'\", 'mploy', 'heme.', 'uld c', 'staff', 'inste', 'crime', 'growi', 'expre', 'enied', 'orted', 'ging ', \"k's d\", 'ripti', 'ast, ', 'lewis', 'eatur', 'ral c', 'ons e', 'recor', 'inue ', 'aison', 'entif', 'ritis', 'ded p', 'trati', 'low n', \"m's p\", 'ng mo', ' prog', 'es au', 'th ce', \"'s ef\", 'ntiqu', 'rtifa', ' call', 'ree p', \"od's \", 't see', '$300 ', ' aon,', 'viii,', 'eleme', '-mone', 'ast y', 's fri', 'bbies', 't. an', 'n. so', 'resen', 'ders ', 'id bu', 't inv', 'man f', \"ney's\", 'nt we', 'g beg', 'tiqui', ' lite', 'ral p', 'ged p', 'd inv', 'iture', 'ting,', ' brit', ' dete', 'ly.\"t', ' take', 'ews l', 'asset', 'pdati', 'ew qu', 'ines ', 'faith', 'e sil', 'rce c', 'ng be', 'ved s', 'mp. t', 'ug ye', 't mak', 'se fi', 'tine ', 'y eff', 'looke', 'arges', ' requ', 'on ev', 's por', 'izer-', 'n ple', 'bid b', 'xpect', '\"the ', \"ine's\", 'turin', 'oriza', 'uthor', 'alloy', 'ment.', 'ear p', 'e loo', 'ntury', 'red w', 'infla', 'passi', 'e rep', \"'s sa\", ' may ', 'money', 'r, ba', 'porta', 'ng.\" ', ' 47,0', 'e fra', 'ed pa', 'ed pr', \"cine'\", 'compa', ' incl', 'gold ', 'cquir', 'aff. ', ' inst', 'ture ', 's fam', 'e bid', 'ed do', 'he le', 'zer-b', 'x fra', 'ne ca', ' paid', 'ratin', 'ral s', 'ocess', ' item', 'adows', ' hahn', '6th c', 'nance', 'acts ', 'effic', 'ing p', 'dinen', ' frid', ' spat', 'eam. ', ' ivan', 'egula', 'okesw', 'ent. ', 'r lin', 'lued.', '19, r', 'c tre', 'ermin', 'l emp', 'ng,\" ', 'tials', 'even ', 'ger, ', 'mp ad', 'ral e', 'ed se', 'raud,', ', fou', 'ion. ', 'ld 63', 'ursda', 'ke th', 'lics ', 'ds pr', 'laoui', 'ce --', 'inter', 'earli', 'proce', ' stat', 'uiry ', 'ay. d', 'ogres', 'covid', 'ic ba', 'ay, s', 'is, h', \"' pot\", 'loan.', 'tatin', 'ded s', 'gency', 'clear', 'would', 'k aon', 'nitia', 'atin ', 'so co', 'treng', 'oenae', ' late', 'nt do', 'e cor', 'back ', 'ng pe', 'nitur', 'lved ', 'ue wo', 'ncien', 'nts d', '1st c', 'che b', 't, ne', 'rking', ' safe', 't. sc', 'rangi', 's gov', ', tak', 'phone', 'oon. ', 'ahn s', 'any c', 'g cat', 'raud ', \"'s (e\", 'rs. a', 'lso r', 'ional', 'ble a', \"ch's \", 'rus v', 's tru', 'sk fo', 'ics s', ' fear', 'sure,', 'list ', ' hous', 'rd, h', 'untry', 'cy, f', \"n's p\", ' desc', 'e. br', 'inist', 'ld pu', ' free', 'ficer', 'ls fo', 'per \"', 'ed at', 'fice ', 'n pic', 'asing', 'ahn q', 'd old', ' firs', '0 mil', 'effor', 'g. ye', 'amate', 'healt', 'e sci', \"ain's\", \"ii's \", ' come', 'uture', 'rs, a', 'er ye', 'ggest', 'ank a', 'rn, c', 'e sug', 'plead', 'ivate', 'nt pr', 'ilenc', 'aid p', 't pas', 'vent ', 'due p', 'base ', ' spec', 'ing o', ' taki', 'nt sp', 'takin', 'teral', 'anhat', 'famil', 'emes ', ' said', 'titud', 'rds m', 'mprom', 'ent t', ' make', 'd wee', 'mour.', 'ar ma', ' gove', 'uests', ' cent', ' majo', 'sever', 'ald t', 'hone ', 'rice ', 'ump s', 'rchae', 'carol', 'ball ', 'ic ow', 'ne ar', 'ng la', ' prof', 'ilty ', 'ne ho', 'n pho', ' over', ' valu', 'ee sc', 'uried', 'hows ', ' joe ', '. \"th', 'oney ', '.5 mi', 'ganiz', 'sente', 'g. wh', 'monar', 's dug', 'ce tw', 'bmitt', 'ing,\"', 'd dem', 'orona', '5 mil', 'distr', 'e, it', 'rt in', 'o emp', ' rela', 'tandi', 'eal, ', 'ed is', ' lend', 'innin', 'tely ', 'cline', 'n las', 'mmend', 'nger,', 'oncer', 'es, i', ', bea', ' earl', 'ant m', 'g pay', 'm val', 'nue w', 'later', 'd gui', 'rump.', 'horiz', 'ng wh', 't. pe', 'ineme', 'aon, ', ' dema', 'isput', 'k sub', ' find', 'suran', \"e's s\", 'fraud', 'urces', 'ost, ', 'ontec', 'ister', 'defin', 'egrit', 'uk cu', 'nce c', ' spok', 'unite', 'st re', 'ble r', 'abase', 'confi', 'ly ac', 'ion v', 'k par', 'own t', 'rivat', 'ors, ', 'd mak', 'picks', 'se of', 'lic e', ' reac', 'n tha', 'en di', ' cyru', 'ows 8', 'hed n', '.vacc', 're, s', ' anne', 'l mus', 'ate l', 'eutsc', 'ns ex', ' alon', 'sed h', 'on ph', 'sts u', 'theri', 'iday ', '. yea', 'rizat', 'erati', ' trav', ' fait', 't inf', 'nfine', 'e hun', 'ming ', 'ast o', 'ndue ', 'biden', 'rs al', 'iquit', 'tegri', 'on, i', 'm, sa', 'ves, ', 'st, l', 'ty fe', 'oin f', 's foo', 'ice, ', 'cy gr', 'ent m', 'never', 'n rea', 'al in', 'rolin', ' redi', ' wash', '.\" ha', 'ed lo', 'ws.\" ', 'airs ', 'ump d', 'ng fe', 'ven p', 'on. \"', ' effe', 'day a', 'oster', 'w pas', 'rathe', ' jane', ' deal', '7,000', ' advi', 'k cul', 'acqui', 'years', ', tol', 'down ', \"'s ja\", 'ing. ', 'orney', 'ine.\"', 'ter, ', ' faci', 'nk ao', 'esent', 'ntenc', ' effo', 's len', 't wee', 'micha', 'ws ex', ' sche', 'w qua', ' old ', \" cnn'\", 'r yea', '-rang', 'ng. y', 'ard v', '\"this', 'ud, i', 'an. c', 'er, a', 's fea', ' invo', 'ion, ', 'ar me', ', ann', 's abl', 'e. mi', 'histo', 'ures ', 'takes', 'derst', 'submi', 'herin', 'r pro', 'tions', 'ng ad', 'uring', 'h mus', 'compr', ' foot', ' told', 'oins ', 'a tru', 'eadin', ',\" bi', 'g gar', 'ison ', 'e sch', 'ngs d', 'ws li', 'head ', 'archa', 'ested', 's jak', 'centl', 'ments', 'or co', 'd put', 'e sey', 'ay re', 'ry fu', 'ic he', 'cine.', 'ohen ', 'volve', 'ic ra', 'op va', 'lemen', 'nt. p', ' news', 'ges f', 'ic, c', 'grity', 'leyn ', 'c ben', ' 50 m', ' lewi', 'ch 22', 'fessi', \"ump's\", 'rds a', 'g lat', 'uesti', 'ion o', 'cerne', 'ast l', 'oin h', 'nus. ', 'dates', 'ged c', ' medi', 'king ', 'rst-r', 'aed t', 'falo ', 'basin', ' clos', 'rson ', 'nflat', 's, he', ' inte', 'dence', ' pand', 'ts ne', ' exte', 'eral ', 'stion', 'se co', ' post', ' disp', 't tru', 'day, ', 'cnn. ', 'redis', ' note', 'utors', ', hea', 'c int', 'da co', 'gram ', 'sures', ' cont', 'riday', 'arlie', 'ns be', 's. ad', 'rized', 'use c', 'itish', 'seum ', 'cript', 'stiga', 'ajor ', 'and, ', '. ano', 'ncour', 'ple f', 'se au', 'ng, i', 's mea', ' sent', 'vesti', 'e pub', 'lso c', 'p st.', ' anci', 'erity', 'advis', 'inanc', 'onver', 'blic ', 's rec', 'nsura', 'lated', 'tly s', 'sourc', 'naed ', 'h fin', 'coppe', 'd pos', 'ury m', ' use ', 'nt, p', 'ce 19', 'ikely', ' emer', 'ts, i', 'ess. ', ' see ', 'ork t', 'da en', 'ay af', 'nce,\"', 'futur', 'able ', 'enage', 'er. q', 'ingdo', 'ng ca', 'd thu', 'nentl', 'ing t', 'nefit', ', coh', 'tenti', 'aring', ' 22 m', 'y rai', ' adde', '. \"fd', 'iden ', 'so in', 'r. sp', ' cons', 'ease.', 'ular ', 'towar', 'e bol', 'eme. ', 'facil', 'd new', 'ieval', 'ic in', 'urce ', 'ff. f', \"mp's \", 'ral h', 'w yor', 'ck pe', 'rs ob', 'three', '50 mi', 'ects ', 's une', 'iewed', 'd und', 'ind p', 'exten', 'igati', ' team', 'stori', 'rogra', 'd, he', 'find ', 'erer.', 'rison', 'ince ', 's edw', 'ns re', 's fai', 'd, in', 'ediev', 'ce br', 'e ass', 'r bac', 'hael ', 'd des', 'ge, n', ' tax ', 'opper', 'olved', ' thre', 'osecu', 'keswo', '\" sai', 'uld i', 'irs. ', 'ion c', 'er, b', 'treas', 'n cal', 'e min', 'ion p', 'ing b', 'broke', 'me gr', 'least', 'inds,', 'long ', 'r don', 'al lo', 'ade c', 'e fir', '13. d', 'n) re', 'late ', 'e upd', ' mess', '. sci', ' peop', 'ves d', 'ted s', 'meado', 'ees d', 'g lit', 'id. p', 'tems ', 'line ', 'ersin', 'den t', 'r fut', ' men ', \"i's w\", 'e pol', 'ived ', 'to sc', 'r loa', 'iar i', 'south', \"ts' p\", 'home ', 'ind b', 'y mor', 'attem', ' plea', 'ickly', 'ead\" ', 'd buf', 's dau', 'd lea', 'mment', 'id ne', ' copp', '. nea', 'son s', 'me 20', 'nistr', 'ds mu', 'gram,', 'r per', 'erall', 'y req', 'ed pu', '\"i wa', ',\" ha', 'e int', 'deuts', 'lso s', ' us p', 'ke cl', 'e,\" b', 'ompro', 'weeks', 'l rec', 'ne.\" ', 'e, le', 'nearl', 'e, mi', 'als s', 'cers ', 'ed sc', 'ion t', 'ffair', 'r pri', 'g.\" p', 'ws. r', 'dent ', 'fort.', 'ear i', 'oment', 'day m', 's cou', 'useum', 'tal d', 'ng co', 'tinue', 'ouse ', 'eries', 'sts t', 'es un', 'ar pr', 'tury ', 'all c', 'alth ', 'n cou', 'd dis', 'nt un', 'aon e', ' unea', 'ists.', 'emic ', 'ry. n', 'ees. ', 'ic fa', 'n rec', ' deni', 'essio', 'ic ex', 'nstea', ',000 ', 'd nea', ' list', 'ce ch', 'g rec', ' defi', 'ster ', 'le an', \"it's \", 'ed re', 'ard a', 'er ca', 'price', \"eme's\", ' paym', 'ng up', 'ports', 'inten', 'ng th', 'l que', 'uranc', 'cine ', 'ds re', 'cine,', 'could', 'ne, s', 'man a', 'h exp', 'de \"t', \", it'\", 'ka tr', '4 tru', \"nn's \", 'lic h', 'son a', 's pas', 'ltima', 'ied 1', 's lat', 'e, ne', 'an ao', 't maj', 'wing ', 'ionin', 'll lo', ' owne', 's 81,', 'es ov', 'told ', 'on, d', 'iousl', ' even', 'ng el', 'ces f', ' cohe', 'ed tr', ' \"ens', 'fda v', 'e whi', 'cludi', 'uence', 'ading', 'ump o', 'bank ', ', los', 'arden', 's red', 'ttemp', 'oui, ', 'objec', '.\" pu', 'old c', 'news ', 'ontro', 'ately', 'c fai', ' pers', 'resid', ' fitt', 'nersh', 'r-bio', 'accor', 'ic an', 'tes p', 'wn ma', 'woman', ' 16th', 'ions ', 'hunti', 'alue ', 'ies s', 'ish m', 's lik', 'oena ', 'llega', 'emic,', ' deve', 'on se', 's 47,', \"heme'\", 'uated', 'ned $', 'rges ', 'ugges', 'y 500', 'rate ', 's 1.5', 'shing', 'ce to', ' uncl', 'erate', 'items', 'on po', 'fort ', 'porti', 'id.  ', 'aw up', 'i wan', 'earin', ', one', 'eport', ' like', 'arthe', 'reasu', ' edwa', 'urnit', 'ct tr', 'ne au', 'zed i', 'd gra', 'ervie', 'rview', '.  an', ' allo', ' arti', 'd coo', 'ghter', 'ate p', 'es. c', 'tifac', 'ts tr', \"eum's\", 'kly, ', 'al pu', 'nce 1', 'fic b', 'easur', 'ric t', 'th st', 'kdown', 'g, it', 'tigat', 'id co', 'wo em', 'signi', 'ffalo', 'd fri', 'ks fr', 'ng st', 'ative', 'ort.v', 'anoth', 'ains ', 'hn qu', 'y. pr', 'ly, c', ' guil', 'w rep', ' comp', 'age, ', 'ngth ', 'th lo', 'us pa', ' afte', 'e his', 'ized ', ' lini', 'n con', 's, ad', ' 13th', 're, t', 'spute', 'd vac', 'all t', 'ew pa', 'full ', 'o con', 'ource', ' one ', 'puted', ' part', \" god'\", '\" inv', 'pande', 'pas s', 'oon e', 'ward ', 'art w', 'o int', 'ns af', 'matel', 'nd, t', 'tury.', ' atto', 'am, s', 'leade', 'ly ra', 'ads p', 'peopl', 'y cou', 'n. co', 'mpaig', 'due c', 'elop ', 'ant e', ' vanc', 'e lea', 'yees ', 'g \"da', ' work', 'relic', 'r pub', 'st lo', 'ver c', 'enry ', 'ial s', 'manha', 'tion.', 'ne co', 'anus.', 'promi', 'eged ', 'conta', 'garde', 'outhe', 'on qu', 'na sa', 'nded ', 'inder', '\"davi', 'evelo', '. \"it', ' sout', 'frida', 'cific', 'uding', 'ee ao', 'ase. ', 'cts, ', 'ank s', 'y pfi', 'gital', 'ank d', 'eum v', 'end f', 'ts re', 'uk ea', '. law', 'l loc', ' \"i w', 'repor', 'ing \"', 'ask f', 't emp', 's poi', 'ently', 'ui, h', 'aith ', 'ng. w', ' sinc', '19, t', 'museu', 'ionte', ', peo', 'ffect', 'ing e', 'oker ', 'on ob', 'tempt', 'lar p', 'ort p', 'ce re', 'ews e', 'ed di', \" it's\", 'times', 'updat', 'lead\"', 'uded ', 'urage', 'virus', 'rysid', 'toric', 'g 201', 'ng ga', ' proc', ' us g', 'ort d', 'den s', ' inqu', 'mport', 'ent p', 'ent s', 'er lo', ', god', ' decl', 'ficie', 'this ', ' feat', 'lings', 'd, tu', ' seym', 'resse', 'te ho', 'eymou', 'er al', 'aroli', 'eadow', 'al re', 'versa', 'erine', 'past,', ' anot', 'd pan', 'entin', 'ltipl', 'er. l', 'commi', 'gener', 'accin', 'romis', 'ntend', 'datin', 'itica', 'c rat', 'an fu', 's 13t', 'ltant', 'y. dr', 'e cle', 'mes, ', '. reg', 'nce, ', 'vast ', 'nce b', 'bisho', 'ii, l', 'lture', 'ing m', ' woul', 'saw u', ' affa', ' \"to ', 'oked ', 'ne so', 'ay 13', 'ed en', 'polit', '. inc', 'eding', 'enaed', 'rt fi', 'stric', 'ed. g', 'sulta', 'thori', 'eedin', 'n ins', 'cef s', 'defra', 'nal q', 'evera', ' near', 'onfir', 'ously', 'ooked', 'ed au', 'profe', 'seal,', 'quick', \"ey's \", 'ng di', '00 ye', 'evalu', 'ton p', 'ide-r', 'rving', 'se ad', 'd. pr', 'gth s', ' acqu', 'e adv', 'nt ma', ' frau', 'rity,', 'fact,', ' staf', 'dvise', '. gov', 'oted ', 'miles', 'force', 'ly fe', 'ally,', 'er-bi', 'ultan', 'ended', 'archs', ', mic', 'ng \"d', 'ncy, ', 'd hom', ' immi', 'ocume', 'chs e', 'ly 50', \"an's \", 'terno', ' coro', 'cutor', 'ies 4', 'ays f', 'oard,', ' comm', 'ent a', 'leged', 'otbal', 'efit.', 'ce va', 'icial', 'fairs', 'me co', 'les s', 'cts a', 'assio', 'edwar', 'y bur', 'week.', 'm als', 'tes f', 'two m', 'raise', \"'s ex\", \"tech'\", 'ent f', ' upda', 'organ', 'id uk', 'ommit', 'and h', \"y's o\", 'e met', 'ersat', 'ad\" f', 'de-ra', 'ure f', '19 pa', 'ds 1.', 'y fea', 'washi', 'n dis', ' king', 'w nat', 'ake t', 'ning.', '1.5 m', 't, fo', '-19 p', ' dr. ', ' turn', 'm ann', 's dea', 'nd ol', 'nounc', 'd cyr', 'ourt ', ' mill', 'od oc', ' neve', 'ation', 'lect ', 'uire ', 'flate', 'ny co', 'cumen', 'ogist', 'r peo', 'gdom ', 'air m', 'al mu', \"um's \", 'ne ad', 'raver', 'id. \"', 'onsul', 'llion', 'ne pe', 's. ne', ' marc', 'ortin', 'itted', 'ews d', ' port', 'emand', 'scrip', ' 1st ', 'nder ', 'hobbi', 'nal i', 'mic p', 'new p', 'eclin', 'ng ma', 'cally', 'oline', 'nnoun', 'id, g', 'mmitt', 'ed $3', 'minin', 'f sla', ' reli', \"n's j\", 'wn th', 'added', 'ocal ', 'ontin', 'looki', 'ork p', 'quiry', ' addi', 'e ant', 'ption', ', ins', 'nues ', ' fees', '. lis', 'g fda', ', fre', 'learl', 's sil', ' henr', 'ople ', ' muse', 'swoma', 've ta', 'hoard', 'ks, a', 'nd br', 'cover', 'ned c', 'house', ', lik', 'icers', 'ommen', 'ets t', 's fda', 'erest', 'legat', 'll ch', ' dona', 'val s', 'day c', 'r inv', 'uffal', ' futu', 'ts, b', 'rilli', 'lined', 'guilt', ' bril', 's gar', 'viser', 'hemes', 's sho', 'roman', 'e din', 'fice,', '. per', 'insur', 'fearf', 'medie', 'ar fu', 'fda e', 'ues \"', 'ed cy', 'g mul', 'suing', 'nn. s', 'atitu', 'on pr', '. coh', ' empl', ', als', 'd pro', 'ship.', 'ts ad', ' wide', 'ese f', 'ed wa', 'ce di', 'um an', 'ng fa', 'ree y', 'd pre', 'ress ', 'new y', 'fair ', 'earfu', 'ontai', ' past', 'buffa', 'otent', ' camp', 'larly', ', res', 'ump n', 'litat', 't.vac', 'p den', 'henry', 'ce, a', 'cheme', ' bank', 'rsati', 'ence,', 'ologi', 'ins o', 'jake ', 'ce in', 'orded', '9, to', 'pt bi', 'y use', 'untru', 't. de', 'pate ', 'h vac', 'estio', 's one', 'd iv ', 'k 1st', 'pdate', 'ome c', 'dding', 'istri', 'g peo', ' subm', ' poin', 'ublic', 'ice i', \"ank's\", 'edisc', 's inv', 'tors,', 'ing c', 'day. ', 'nt mo', 'g sou', \"n's a\", 'ct, f', 'new r', ' back', 'ong w', 'versi', 'ue co', 'xpedi', 'mateu', 'hief ', 'conve', 'l alo', ' \"the', 'e two', 'y rec', 'd par', 'fect ', 'siden', 'rch 2', '. dat', 'rlier', \"e's l\", ', con', 'e cha', \"'s of\", 'der i', 'sions', 'p. tr', 'eeks ', ' pays', 'ckly,', 'ng pa', ' char', 'ed mo', 's unt', 'id st', 'usly ', 's far', '-- po', ' loca', ' 81,6', 'rance', 'nt in', 'ne si', 'iant ', 'id-19', 'g mon', 'l det', '. eve', 'y vii', 'point', 'y, fr', 'done ', 'ound ', 'iv he', 'aluat', 's sch', 'rical', 'tter,', 'rting', 'ar pe', 's mus', 'nce r', 'ordin', 'ffici', 'sh-mo', 'ick p', ' ulti', 'daugh', 'e fit', 'l fri', 'nvers', \"ech's\", 'eside', ' want', 'gator', 'ed le', 'ries ', 'en ca', 'paid ', 'ed ho', 'perts', ' publ', 'ater ', 'ancie', 'w upt', 'ng br', 'ef si', 'ts si', 'e gro', 'ws re', 'vered', 'den, ', 's. al', 'grati', 'trump', 'linin', 'thurs', 'tiple', \"t's d\", 'hter,', 'nders', 'mp, a', 'pfize', 'exped', 'er am', 'cilit', 'r mat', ' lock', 'see s', 'rmini', 'voted', 's chi', 'rst r', 'ess n', 'nvest', 'deral', 'er re', 'cords', ' insc', 'll pu', 'ees p', ' mona', 'ects,', 'l, be', 's (em', 'ultip', 'ns, b', 'ld co', 'ed co', 'rstan', 'll fr', 'prese', 'ing g', 'oman ', 'artif', ' init', 'biont', 'nied ', '02 ob', 'en sa', ' lond', 'kly d', ', cle', 'red s', 'us ta', 'ocean', 'n jan', 'a enc', 'p adm', 'nk pa', 's rel', 'lence', 'attor', 'ee ye', 'n rel', 'presi', 's tra', 'march', 'antiq', 'int.\"', 'tical', 'ssuin', 'reque', 'early', 'overn', 'top a', ' tapp', ' task', 'quiti', 'art i', ' repr', ' hist', 'ecifi', 'ed in', 'aise ', 'ews r', 'sday ', 'ates ', 'his u', 'a sai', 'p org', 'nvolv', 'horit', ' also', 'sugge', 'r ins', 'erts ', 'and v', 'ne bo', 'backy', 'n fam', 'decli', ' pros', 'ency,', 'c, re', 'al to', 'side ', 'thed ', 'pper ', 's par', 'es de', 'ad re', 'cess ', 'irs t', 'come ', 'found', 'ompan', 'facts', 'vernm', 'e tap', 'luded', 'n tre', 'e bro', 'f. fd', 'ek. r', 'noon.', 'an de', 'loyee', ', led', '998 g', 'jor c', 'd us ', 'table', ' monc', 'luate', 'l inf', 'd coi', 'gs di', 'ess, ', 'tted ', 'd len', 'rs. c', 'y ful', ' bole', 'monce', 't-rat', 'ing.\"', 'iles ', 'e loc', 'schem', 'en. a', 'ts in', '. whi', 'nt em', 'c con', 'ss, c', ' expe', 'er, i', ' urge', 'ities', '00 ob', 'ce su', 'eginn', ' whit', 'nderm', 'ine, ', 'res o', 'rus p', 'nced ', 'rks f', 'ine c', 'troll', 'n, co', 'ntere', 'n fur', 'ndon,', 'ors m', ' subp', 'ect t', 'g con', 'eople', 'st ma', 'ials ', 'he ba', 'beari', 'tain ', 'lls f', 'dents', 'et pr', 'coura', 'en pl', 'k, lo', 'tives', \"d it'\", 'an di', 'f sin', 'mp de', '. pro', '. pre', 'filin', 'ors a', 'jane ', 'ating', ' weed', 'ment ', 'oric ', 'ed uk', 'rly r', 'ire h', 'sets ', ' undu', 'fines', 'ne, i', 'lic f', 'us go', 'g ini', 'imes,', 'nfirm', '-19, ', 'ain r', 'poena', 'ey pa', 'ervin', 'aid s', 'ns. n', 'yee i', 'metal', ' gard', 'y gra', 'orce ', 'd cnn', '-elec', 'n pre', 'dows ', \"'s da\", 'stead', 'nd ha', ' acco', 'me lo', 'andin', 'iews.', 'n mar', ' unde', 'held ', 'nce t', 'vid, ', 'ard, ', 'bills', 'ant s', 'um sa', 'akes ', 'ce go', 'aid n', 'ns on', 'nd fr', 'yn ja', 'aid i', 'uld m', 'ue re', 'elect', '. spo', 'ter. ', 'harge', 'op st', 'ludes', 'd inq', 'valua', 'efrau', 'ks pa', 'ng pu', '\"ensu', 'cal i', 'ronav', 'perat', ' manh', 'burie', 'amili', 'etect', 'chaeo', ', dat', 'op ad', 'worki', 'rds 1', ' orga', 'pany ', 'inqui', '. new', ' end ', ' digi', 'me. b', 'e rea', 's ext', ' pas ', 'da vo', 'se wh', 'ly pf', 'ome e', 'ings ', 'rce f', \"t's c\", ' hoar', 'l cri', 'each ', ' put ', 'es sc', ' vote', 'eur f', 'am al', 'n dec', 'hatta', 'on fa', 'ntine', 'ackya', 'nd va', 'ed po', ' roll', 'led u', 'quest', 'arly ', ' pres', 'likel', 'e 201', 'ce fr', 'ded g', 'le up', \"s' po\", 'ank, ', ' meta', ' mich', 'on re', ', hel', 'dress', 'uickl', 's saf', 'ly re', 'nk su', 'iden,', 'coin ', 'nt ro', ', loa', 'ury. ', 'in re', 'emic.', 'antin', 'res d', 'ce cl', 'dispu', 'heast', 'e sou', 'l pub', 'aned ', 'ss to', 'begin', 'med c', 'lic r', 'ce.\" ', 'da ch', ' fina', 'nclea', 'ne di', 'ishop', 'iry c', 'ins r', 'ted i', 'ull l', 'lockd', 't, lo', 'en tr', '63 go', 'priva', 'ief \"', ' coop', 'le fa', 'ties ', 'ide m', 'iaiso', ' coul', 's exp', ' alle', ' viii', 'trict', 'h str', 'ng 20', '  ano', 'enten', 't dev', 'ever ', 'ture,', 'e off', 'tific', 'ews. ', 'ump a', 'itati', ' conc', 's mes', 'ctors', ' expr', 'unear', 'paign', '500 y', 'first', 'avid,', 'vanka', 'r sai', 'venti', 'n fin', 'scove', 'ess t', 'oe bi', 'ine p', 'l top', 'secut', ' 1998', 'ew yo', 'ter c', 'rful ', 'ar pu', 'ents ', ' ques', 'ase c', 'oaned', 'ershi', 'ons. ', 'ators', 's, in', '. loc', 'stren', 'tter.', 'al au', 'pedit', ' trum', 'ew re', ', iva', 'ortan', 'v hen', 'le re', 's van', 'addre', 'lso i', 'y pay', 'ms co', 'ng on', ' daug', 'ed ki', 'uptic', 'ring ', 'k pre', 'lo bi', 'onarc', 'opera', 'ssion', 'cts d', 'ar, b', 'ued. ', 'l lew', 'ent w', 's, ac', 'rden ', ' grat', ' uk c', 'essen', 'ditio', 'ity l', ' coin', 'al de', 'nt tr', 'zatio', 'd kin', 'blic,', ' upti', 'yside', 'ts. \"', 'encou', 't pri', 'luenc', 't att', 'n, re', 'sted ', 'sts i', 'untin', 'uing ', 'ety. ', 'mine ', 'day r', 'nce e', ' mark', 'ntial', 'cials', 'hop s', 'ed af', 'itain', 'ecent', ' grow', 's wiv', ' mini', 'ms ul', 'undue', 'igita', 'ael l', 'gth l', 'd sin', 's sig', 'ry co', ' mome', 'xpres', 't lon', 'k dis', ' lati', 's dig', 'recen', ', sai', \"rney'\", 's all', ' iv h', 'e end', 'nning', 'fluen', 'e, al', 'ts fe', ' new ', 'o rec', 'merge', 'st ye', 'e eff', 's off', 'nd pa', 'donal', 'ratio', 'ine h', 'icks,', 'e com', '8 gen', ' able', 'ded d', ' impo', 'ngton', 'ram a', 'n pol', 'ic co', 'tatio', ', cou', ' need', 'ased ', 'navir', 'rts e', 'icanc', 'servi', 'entis', 'e yea', 'ubmit', ' led ', 'value', 'on ad', 'rmed ', 'ident', 'igato', 'liant', 'al em', ', bis', 's. ar', 'ent, ', '. mon', 'n, an', 'at. s', 'btain', 'ce fa', 'ogram', 'eaded', 'publi', 'rsing', 'ne ro', 'so sa', ' woma', 'theas', 'ient ', 'd con', 'ncef ', 'oyees', 'yment', 'lende', 's obt', 'ptick', 'fic i', 'ersta', 'milia', 'ector', 'l chi', 'hn ur', 'c ban', 'iday.', 'ned r', 'ue pr', 'erson', 'tion)', 'ear m', ' defr', ' chie', 's pre', 'one p', ' dine', 'cing ', 'ent i', 'true ', 'urged', 'don, ', 'y, no', 'ntly.', 'wo me', 'conti', 'oint.', ' leas', 'ent r', 'rity ', '. spe', ' covi', 'ency ', 'ftern', ', ite', '2 obj', 'ief s', 'llege', 'mic, ', 'integ', 'call ', 'ice s', 'ts de', '0 yea', 'acili', '. tru', ' home', ' -- p', 'sh mu', 'n tru', 'st,\" ', 'd com', 'ance ', 'ce, m', 'oyee ', 'oning', 's. co', 'tervi', 'aid u', 'lloy,', 'bring', 'yee a', 'other', 'her p', 'emerg', 'ahn u', 'eswom', ' bid ', 'uaran', 'ng in', 'ed al', '- pol', 'aught', 'ose w', 'ar sa', 'ly su', 'y aft', 'eum s', ' dist', 'g spe', 'ely a', ' pfiz', 'momen', 'feder', \"'s me\", 'ial e', 'en pa', 'vance', 'state', 'tax f', 'e thr', ' matt', 'ur. n', 'l arc', 'ach f', 'ng mu', 'lly, ', '81,60', 'id it', ' mead', ' coun', 'recei', 'gn fi', 'ewis,', 'mp or', 'wed p', 'ier w', 'progr', 'teur ', 'admin', 'ds, i', '3. da', 'since', 'son f', 'ated ', 'e ara', 'minis', 'e 199', 'ed us', 't bri', 'said,', 'd. go', 'n, fi', 'rly 5', 'ram, ', 'deman', 'ful a', 'mise ', 'ad us', 's pub', 'id, o', 'put u', 'st on', ' sile', 'per a', 'tabas', 'cess,', 'cathe', 'overi', 'e cov', 'n pos', 'on, a', 'immin', 'ted v', 'e -- ', 's dem', 'rt.va', 'overe', 'ed va', 'g exp', 'fizer', 'eased', 's ove', 'ic be', 'le pe', 'ons, ', 'arks ', 'ckdow', ' clea', 'med d', \"bank'\", 'e hou', 'xpert', 'iling', 'ce sa', 's. re', 'ratit', 'l sil', 's fac', 'ritai', 'mitte', 'gatio', 'ice d', 'es \"e', 'addin', ' phon', 't fil', 'nts r', 'ems c', 'ooper', 'nry v', 'terit', 'ws de', 'ld in', 'inscr', ' furn', 'act, ', 'lic, ', 'd bas', 'ignif', 'end a', 'ay mo', 'ntry ', 'ins b', 'ling ', 'imes ', 'ject ', 'ergen', 'on em', 't gar', 'messe', 'e hob', '.\" in', 'ts un', 'atter', 'y, co', 'es 13', 'l art', ' bide', 'd $30', ' atte', ' held', '3 gol', 'icien', 'eme g', 'yard ', ' rece', 'c exp', '1998 ', 'our. ', 's tas', 'rned ', 'den. ', 'er. s', 'obbie', 'ple s', 'aud, ', 'londo', 'nific', 'eks p', ' bish', 'chief', 'want ', 'rates', 'unced', 'nal l', 'milli', ' fami', 'd hah', \"seum'\", 'd rec', 'tists', 'shop ', 'n qui', 'ttan ', 'ed ne', 'nne b', '. als', 'efine', 'lease', ' obje', 'close', 'ckly ', 'g fee', 'al sa', 'ealin', 's pai', 'sts. ', 'footb', 'izati', 'r ama', 'y, sa', 'tish ', 'o men', ' eval', 's ult', 'ise p', 're au', 's uni', 'ateur', 'ch fi', 'cance', 'ite h', 't mad', '019, ', 'am. t', 'y,\" s', 'c hea', ' anno', 'n. sp', 'n. \"f', '0 obj', \"t's e\", 'udes ', \"p's l\", ' roma', 'e pre', \"iii's\", 's fin', ' pass', 'ornin', 'rt at', '. bri', 'xtent', 'rer. ', 'itera', 'e god', ' date', 's, br', 'd tru', 'ver l', 'bject', 'd rep', '\"to s', 'gular', 'tting', 'd iss', 'ss. a', 'uitie', 'seymo', 'ers o', \"'s al\", ' york', 'ecord', ' vent', 'ts up', '13th ', 'ions.', 'h-mon', 'haeol', 'ingin', 't mor', 'mp ne', ' disc', 'us po', 'y acq', 'ed gr', 'jorit', 'l hen', 'on. t', 'lver ', 'liais', ' offi', 'sche ', 'nt ea', '16th ', 'ific ', 'ountr', ', bri', '000 o', 'ed sa', ' seal', 'nes o', 's deu', 'ed we', 'ump. ', 'rogre', 'lost ', 'ier y', 'er pe', 't yea', 'quire', 's lia', 'agon,', 'k for', 'und v', 'ict a', 'ingto', 'es 47', 's tow', 'ed im', 'st-ra', ', add', ' quar', 'allow', 'god o', 'als w', 'rowin', 'h cen', 'rts f', 'overa', 'may 1', ' miss', 'n obj', 'k ear', 'rden.', 'featu', 'ited ', 'g tim', 'logis', 'veral', 'digit', 'ear d', 'onavi', 'e fam', 'eceiv', 'impor', 'fical', 'devel', 'icall', 'agenc', 's unc', 'f \"re', 'r fin', ' auth', 'ow na', ' quic', '\" maj', 'n fea', 'arant'}\n",
      "Document 6 shingles: {'i now'}\n"
     ]
    }
   ],
   "source": [
    "# create K-shingles by sliding window approach\n",
    "def getShingles(str1, K=5):\n",
    "    d1 = set()\n",
    "    for i in range(len(str1) - K + 1):\n",
    "        # Extract the shingle of length K and add to set\n",
    "        shingle = str1[i:i + K]\n",
    "        d1.add(shingle)\n",
    "    return d1\n",
    "\n",
    "doc_shingles = [getShingles(s, 5) for s in documents]\n",
    "\n",
    "# Output the results for examination\n",
    "for i, shingles in enumerate(doc_shingles):\n",
    "    print(f\"Document {i+1} shingles: {shingles}\")"
   ]
  },
  {
   "cell_type": "markdown",
   "metadata": {},
   "source": [
    "> Notice that the number of resulting shingles is less than the number of windows. Why would this condition arise from using a Python set and what does it mean in terms of occurrence of the shingles in a document from the univerisal set?        \n",
    "> **End of exercise.**     "
   ]
  },
  {
   "cell_type": "markdown",
   "metadata": {},
   "source": [
    "> **Answer:** \n",
    ">\n",
    ">  A set in Python only stores unique elements. This means that if a particular shingle (substring) appears multiple times in the document, it will only be stored once in the set. In terms of the universal set of shingles, the condition indicates that some shingles occur more than once within the document.\n",
    "\n",
    "> This is valuable information for tasks such as document similarity, where common shingles might indicate similarities between documents.\n",
    ">\n",
    "> I also noticed that the shingles changed with every run if I restarted kernel. May be due to random hashing?\n",
    "\n"
   ]
  },
  {
   "cell_type": "markdown",
   "metadata": {},
   "source": [
    "### Compute the Jaccard similarity      \n",
    "\n",
    "> **Exercise 3-3:** The code in the cell below uses the sets of shingles to compute the Jaccard similarity between the five documents. Two lists are created, one for the pair labels and one for the Jaccard similarity. \n",
    "> You will complete the `jaccardSim` function. The function should return the length of the **intersection** of the data set divided by the length of the **union** of the set. Use the built in Python methods [intersection](https://www.w3schools.com/python/ref_set_intersection.asp) and [union](https://python-reference.readthedocs.io/en/latest/docs/sets/union.html) compute the intersection and the union of the shingle sets.       "
   ]
  },
  {
   "cell_type": "code",
   "execution_count": 12,
   "metadata": {},
   "outputs": [
    {
     "name": "stdout",
     "output_type": "stream",
     "text": [
      "**True similarity scores**\n",
      "Pair\tScore\n",
      "--------------\n",
      "(0, 1)\t0.093\n",
      "(0, 2)\t0.069\n",
      "(0, 3)\t0.050\n",
      "(0, 4)\t0.336\n",
      "(0, 5)\t0.000\n",
      "(1, 2)\t0.081\n",
      "(1, 3)\t0.052\n",
      "(1, 4)\t0.295\n",
      "(1, 5)\t0.000\n",
      "(2, 3)\t0.052\n",
      "(2, 4)\t0.083\n",
      "(2, 5)\t0.000\n",
      "(3, 4)\t0.400\n",
      "(3, 5)\t0.000\n",
      "(4, 5)\t0.000\n"
     ]
    }
   ],
   "source": [
    "def jaccardSim(d1,d2):\n",
    "    intersection = d1.intersection(d2)\n",
    "    union = d1.union(d2)\n",
    "    return len(intersection) / len(union)\n",
    "\n",
    "pair_labels = []\n",
    "pair_sims = []\n",
    "for x1, x2 in itertools.combinations(zip(range(len(doc_shingles)),doc_shingles), 2):\n",
    "    pair_labels.append((x1[0],x2[0]))\n",
    "    pair_sims.append(jaccardSim(x1[1],x2[1]))\n",
    "    \n",
    "print(f\"**True similarity scores**\")\n",
    "print(\"Pair\\tScore\")\n",
    "print(\"-\"*14)\n",
    "for pair, score in zip(pair_labels, pair_sims):\n",
    "    print(f\"{pair}\\t{score:.3f}\")"
   ]
  },
  {
   "cell_type": "markdown",
   "metadata": {},
   "source": [
    "> Which 3 of these similarity pairs have the largest Jaccard similarity scores and given the nature of these documents, is this result expected?     \n",
    "> **End of exercise.**"
   ]
  },
  {
   "cell_type": "markdown",
   "metadata": {},
   "source": [
    "> **Answer:**  \n",
    "> (0,4) (1,4) and (3,4) have the largest Jaccard similarity scores.\n",
    "> Yes this results is expected as document 4 seems to be  a blend of the prior documents and thus is expected to produce artificially high scores."
   ]
  },
  {
   "cell_type": "markdown",
   "metadata": {},
   "source": [
    "### Prepare a Shingle Dictionary with Universal Set   \n",
    "\n",
    "To prepare for mini-hashing of these documents a shingle dictionary using the universal set of shingles must be created. The code in the cell below does the following:  \n",
    "1. Uses the Python `set.union` method to create a Python with the universal set of shingles.   \n",
    "2. Instantiate a Python dictionary using the universal set as the key values.    \n",
    "3. Print the number of unique shingles found.     \n",
    "Execute this code.   "
   ]
  },
  {
   "cell_type": "code",
   "execution_count": 13,
   "metadata": {},
   "outputs": [
    {
     "name": "stdout",
     "output_type": "stream",
     "text": [
      "Number of unique shingles = 7537\n"
     ]
    }
   ],
   "source": [
    "## Find the univeral set as the union of all shingles and \n",
    "## then create a dictionary using the universal set as keys. \n",
    "universal_set = set.union(*doc_shingles)\n",
    "shingle_dict = dict(zip(list(universal_set),range(len(universal_set))))\n",
    "print(f\"Number of unique shingles = {len(shingle_dict)}\")"
   ]
  },
  {
   "cell_type": "markdown",
   "metadata": {},
   "source": [
    "As is typical for even small documents, the number of unique shingles is quite large.       \n",
    "\n",
    "Next, execute the code in the cell below to display the first 40 of these shingles."
   ]
  },
  {
   "cell_type": "code",
   "execution_count": 14,
   "metadata": {},
   "outputs": [
    {
     "data": {
      "text/plain": [
       "['ernor',\n",
       " 'less,',\n",
       " 'hink ',\n",
       " 'e fai',\n",
       " 'k. re',\n",
       " 'y awa',\n",
       " 'thems',\n",
       " 'sly a',\n",
       " 'sers ',\n",
       " 'it br',\n",
       " 'count',\n",
       " ' \"dav',\n",
       " 'er li',\n",
       " 'ings.',\n",
       " ' than',\n",
       " 'coope',\n",
       " 's wai',\n",
       " 'e cou',\n",
       " 'ding ',\n",
       " 'n upe',\n",
       " 'n pfi',\n",
       " ' seen',\n",
       " 'e vac',\n",
       " 'banke',\n",
       " 'd res',\n",
       " 'd, on',\n",
       " 'lty f',\n",
       " 'ld un',\n",
       " 'ess a',\n",
       " 't one',\n",
       " 'lth e',\n",
       " 'ner d',\n",
       " 'ccine',\n",
       " 'om re',\n",
       " 'ymour',\n",
       " ', acc',\n",
       " ' tarn',\n",
       " 'rats,',\n",
       " 'f, jo',\n",
       " 'ts ti']"
      ]
     },
     "execution_count": 14,
     "metadata": {},
     "output_type": "execute_result"
    }
   ],
   "source": [
    "list(shingle_dict.keys())[:40]"
   ]
  },
  {
   "cell_type": "markdown",
   "metadata": {},
   "source": [
    "It is no surprise that each shingle contains 5 characters. Notice that these characters can include white space and punctuation.   "
   ]
  },
  {
   "cell_type": "markdown",
   "metadata": {},
   "source": [
    "### 3. Define the HashManager class\n",
    "\n",
    "The MashManager class is used to instantiate and manage the capable of creating a signature matrix. To maintain reasonable performance and minimize memory use on the sparse characteristic matrix, this class **only works with Python sets**, not arrays. Unfortunately, using sets leads to some more difficult to understand code.    \n",
    "\n",
    "Looking at how the provided test cases are executed will help you understand how the methods of this class are used. The methods are:   \n",
    "1. `_initParams`, initializes the signature matrix as random numbers in the range $[0,size\\ of\\ universal\\ set-1]$, using [numpy.random.randint](https://numpy.org/doc/stable/reference/random/generated/numpy.random.randint.html). \n",
    "2. `_permuteRow`, computes a hash of the row indicies used to find permutations of the characteristic matrix.    \n",
    "3. `__call__` does the heavy lifting:  \n",
    "  - Create a new signature matrix if required.  \n",
    "  - Initialize the signature matrix with infinity values, [numpy.inf](https://numpy.org/devdocs/reference/constants.html). \n",
    "  - Loop over all documents and for each shingle in each document updated the signature matrix if the new values of the mini-hash are less that the old values.    \n",
    "\n",
    "Execute the code in the cell below to initialize the HashManager class and run some test cases.  "
   ]
  },
  {
   "cell_type": "code",
   "execution_count": 15,
   "metadata": {},
   "outputs": [
    {
     "name": "stdout",
     "output_type": "stream",
     "text": [
      "Initialization test: passed\n",
      "Set parameters to right size: passed\n",
      "Permuting a row integer returns array: passed\n",
      "Compute minhashed signature matrix: passed\n"
     ]
    }
   ],
   "source": [
    "# Create a hash function\n",
    "# define as a callable class, so that we only\n",
    "# intialize random functions once\n",
    "class HashManager():\n",
    "    def __init__(self, shingle_dict):\n",
    "        self.shingle_dict = shingle_dict\n",
    "        self.N = len(shingle_dict)\n",
    "        self.params = None\n",
    "        \n",
    "    def _initParams(self, n_sig):\n",
    "        self.params = np.random.randint(self.N, size=[n_sig,2])\n",
    "    \n",
    "    def _permuteRow(self, row):\n",
    "        return (self.params@np.array([1,row]))%self.N\n",
    "    \n",
    "    def __call__(self, docs, n_sig, init=True):\n",
    "        # Initialize if we change signature matrix length\n",
    "        # or if we request to re-initialize\n",
    "        if self.params is None or len(self.params) != n_sig or init:\n",
    "            self._initParams(n_sig)\n",
    "            \n",
    "        #initialize signature matrix\n",
    "        sig = np.full((n_sig, len(docs)), np.inf)\n",
    "        \n",
    "        # each doc in docs is assumed to be an iterable object\n",
    "        for j, doc in enumerate(docs):\n",
    "            for shingle in doc:\n",
    "                orig_row = shingle_dict[shingle]\n",
    "                curr_col = self._permuteRow(orig_row)\n",
    "                sig[:,j] = np.minimum(sig[:,j],curr_col)\n",
    "        return sig.astype(int)\n",
    "    \n",
    "# run some tests:\n",
    "try:\n",
    "    print(\"Initialization test: \", end=\"\")\n",
    "    hm = HashManager(shingle_dict)\n",
    "    print(\"passed\")\n",
    "\n",
    "    print(\"Set parameters to right size: \", end=\"\")\n",
    "    hm._initParams(n_sig=4)\n",
    "    assert(hm.params.shape == (4,2))\n",
    "    print(\"passed\")\n",
    "\n",
    "    print(\"Permuting a row integer returns array: \", end=\"\")\n",
    "    curr_col = hm._permuteRow(3)\n",
    "    assert(curr_col.shape == (4,))\n",
    "    print(\"passed\")\n",
    "\n",
    "    print(\"Compute minhashed signature matrix: \", end=\"\")\n",
    "    hm(doc_shingles, 4)\n",
    "    print(\"passed\")\n",
    "except Exception as e:\n",
    "    print(\"failure\")\n",
    "    print(e.args)"
   ]
  },
  {
   "cell_type": "markdown",
   "metadata": {},
   "source": [
    "With the `HashManager` class defined, execute the code in the cell below to create an instance."
   ]
  },
  {
   "cell_type": "code",
   "execution_count": 16,
   "metadata": {},
   "outputs": [],
   "source": [
    "np.random.seed(4856)\n",
    "hm = HashManager(shingle_dict)"
   ]
  },
  {
   "cell_type": "markdown",
   "metadata": {},
   "source": [
    "###  Mini-Hashing Performance\n",
    "\n",
    "Now you will compute and compare similarity scores between the simple mini-hash approximation and the full Jaccard similarity using the shingled documents. \n",
    "\n",
    "The following functions are provided:   \n",
    "1. `trueSimScores` function computes the Jaccard similarities of each possible combination of the shingled documents.   \n",
    "2. `sigSimScores` function computes the Jarracd similarities between each possible combination of mini-hashes of a document.  \n",
    "3. `candidatePairs` function finds combinations of mini-hashes that have a similarity greater than the threshold.  \n",
    "4. `printScoreComparison` function prints the comparison between the mini-hash similarity and the full Jaccard similarity. Similarities computed by Jaccard similarity on the full set of shingles are assumed to be the ground truth.  \n",
    "5. `accMatrix`function prints some summary statistics comparing the similarity methods.    \n",
    "\n",
    "Execute this code and examine the results.   "
   ]
  },
  {
   "cell_type": "code",
   "execution_count": 17,
   "metadata": {},
   "outputs": [
    {
     "name": "stdout",
     "output_type": "stream",
     "text": [
      "Comparison of similarity scores between mini-hash approximation and full Jaccard similarity\n",
      "Pair\t\tApprox\t\tTrue\t\t%Error\n",
      "(0, 1)\t\t0.100\t\t0.093\t\t7.32\n",
      "(0, 2)\t\t0.300\t\t0.069\t\t335.77\n",
      "(0, 3)\t\t0.100\t\t0.050\t\t99.47\n",
      "(0, 4)\t\t0.600\t\t0.336\t\t78.38\n",
      "(0, 5)\t\t0.000\t\t0.000\t\t0.00\n",
      "(1, 2)\t\t0.200\t\t0.081\t\t147.12\n",
      "(1, 3)\t\t0.100\t\t0.052\t\t93.60\n",
      "(1, 4)\t\t0.200\t\t0.295\t\t32.12\n",
      "(1, 5)\t\t0.000\t\t0.000\t\t0.00\n",
      "(2, 3)\t\t0.200\t\t0.052\t\t285.34\n",
      "(2, 4)\t\t0.200\t\t0.083\t\t141.12\n",
      "(2, 5)\t\t0.000\t\t0.000\t\t0.00\n",
      "(3, 4)\t\t0.300\t\t0.400\t\t25.06\n",
      "(3, 5)\t\t0.000\t\t0.000\t\t0.00\n",
      "(4, 5)\t\t0.000\t\t0.000\t\t0.00\n",
      "Variance = 1.0589962922723215\n",
      "\n",
      "\n",
      "Comparison of similarity measure methods at threshold = 0.25\n",
      "Pairs by full Jaccard similarity: {(0, 4), (3, 4), (1, 4)}\n",
      "Candidate pairs from mini-hashing: {(0, 2), (0, 4), (3, 4)}\n",
      "\n",
      "\n",
      "False negatives: 1\n",
      "Potential false positives: 1\n"
     ]
    }
   ],
   "source": [
    "def trueSimScores(doc_shingles):\n",
    "    pair_labels = []\n",
    "    pair_sims = []\n",
    "    idxs = range(len(doc_shingles))\n",
    "    for x1, x2 in itertools.combinations(zip(idxs,doc_shingles), 2):\n",
    "        pair_labels.append((x1[0], x2[0]))\n",
    "        pair_sims.append(jaccardSim(x1[1], x2[1]))\n",
    "    return dict(zip(pair_labels, pair_sims))\n",
    "    \n",
    "def sigSimScores(sig_mat):\n",
    "    cols = sig_mat.T\n",
    "    idxs = range(sig_mat.shape[1])\n",
    "    \n",
    "    pair_labels = []\n",
    "    pair_sims = []\n",
    "    for (i,col1), (j,col2) in itertools.combinations(zip(idxs, cols),2):\n",
    "        pair_labels.append((i,j))\n",
    "        pair_sims.append(np.mean(col1==col2))  \n",
    "    return dict(zip(pair_labels, pair_sims))\n",
    "\n",
    "def printScoreComparison(true_dict, approx_dict):\n",
    "    print(f\"Comparison of similarity scores between mini-hash approximation and full Jaccard similarity\")\n",
    "    print(\"Pair\\t\\tApprox\\t\\tTrue\\t\\t%Error\")\n",
    "    errors =[]\n",
    "    for pair, true_value in true_dict.items():\n",
    "        approx_value = approx_dict[pair]\n",
    "        \n",
    "        # err = abs(true_value-approx_value)/true_value\n",
    "        \n",
    "        # I have been consistently getting Nan for variance (running on a Mac)\n",
    "        # Seems issue is with dividing by true_value when it is 0\n",
    "        # So I have modified the above line with the below if-else statement\n",
    "        if true_value == 0:\n",
    "            err = float('nan') if approx_value != 0 else 0\n",
    "        else:\n",
    "            err = abs(true_value - approx_value) / true_value\n",
    "            \n",
    "        errors.append(err)\n",
    "        print(f\"{pair}\\t\\t{approx_value:.3f}\\t\\t{true_value:.3f}\\t\\t{100*err:.2f}\")\n",
    "    print(f\"Variance = {np.var(errors)}\")    \n",
    "\n",
    "def candidatePairs(score_dict, threshold):\n",
    "    return set(pair for pair, scr in score_dict.items() if scr>=threshold)\n",
    "\n",
    "def accMatrix(true_dict, approx_dict, threshold):\n",
    "    true_pairs = candidatePairs(true_dict, threshold)\n",
    "    approx_pairs = candidatePairs(approx_dict, threshold)\n",
    "   \n",
    "    false_negatives = len(true_pairs.difference(approx_pairs))\n",
    "    false_positives = len(approx_pairs.difference(true_pairs))\n",
    "    \n",
    "    print('\\n')\n",
    "    print(f\"False negatives: {false_negatives}\")\n",
    "    print(f\"Potential false positives: {false_positives}\")\n",
    "\n",
    "np.random.seed(9844)\n",
    "sig_mat = hm(doc_shingles, 10)\n",
    "true_score_dict = trueSimScores(doc_shingles)\n",
    "approx_score_dict = sigSimScores(sig_mat)\n",
    "printScoreComparison(true_score_dict, approx_score_dict)\n",
    "\n",
    "threshold = 0.25\n",
    "print('\\n\\nComparison of similarity measure methods at threshold = ' + str(threshold))\n",
    "print(\"Pairs by full Jaccard similarity:\",candidatePairs(true_score_dict, threshold))\n",
    "print(\"Candidate pairs from mini-hashing:\",candidatePairs(approx_score_dict, threshold))\n",
    "accMatrix(true_score_dict, approx_score_dict, threshold)\n"
   ]
  },
  {
   "cell_type": "markdown",
   "metadata": {},
   "source": [
    "> **Exercise 3-4** Provide short answers to the following questions:    \n",
    "> 1. Tables of performance statistics are printed above. The first table compares the pair-wise similarity measures. The second table compares the similar pairs found by both methods. What do these summaries tell you about the variance of the mini-hash approximation and why is this result expected.\n",
    "> 2. Based on the results displayued, explain the false negatives and false positives counts given the pairs found by the full Jaccard similarity and mini-hashing.      \n",
    "> **End of exercise.**"
   ]
  },
  {
   "cell_type": "markdown",
   "metadata": {},
   "source": [
    "> **Answers:**    \n",
    "> 1. We observe from the first table that the percentage error can vary widely, indicating some inconsistency between the mini-hash approximation and the true Jaccard similarity. For example, pair (0, 2) has a high error percentage of 335.77%, while pair (0, 1) has a low error percentage of 7.32%.\n",
    "> \n",
    "> The variance of the mini-hash approximation is ~1.06. This high variance indicates that the similarity scores computed by the mini-hash method can deviate significantly from the true Jaccard similarity scores. In this example, only 10 signatures were used, which may not be sufficient to produce a highly accurate approximation of the Jaccard similarity. I think more signatures used may lead to a lower variance and more accurate approximations.\n",
    "\n",
    "> The second table The mini-hash approximation identified the pairs that are similar according to Jaccard similarity and mini-hashing.\n",
    "\n",
    "\n",
    "> 2. The pair (1,4) is a false negative because it was identified by the full Jaccard similarity but not identified from mini-hashing. The pair (0,2) is a potential false positive because it was identified by mini-hashing but not by full Jaccard similarity. These two pairs are why the results printed 1 false negative and 1 potential false positive."
   ]
  },
  {
   "cell_type": "markdown",
   "metadata": {},
   "source": [
    "## Locality Sensitive Hashing\n",
    "\n",
    "### Banding Signature Matrix\n",
    "\n",
    "You have just seen that the basic mini-hashing algorithm has high variance. Algorithms which band the signature matrix can significantly reduce this variance, by averaging out independent errors. Mini-hash estimates of similarity are computed for each of $b$ bands of the signature matrix. If the signature matrix has $n$ rows, we divide it into $b$ bands each of width $r$, such that $n = b*r$.\n",
    "\n",
    "Let $p$ be the true similarity score (match percent) between a pair. The probability of matching every hash in a band is:\n",
    "\n",
    "$$\\text{prob. all hashes match } = p^r$$\n",
    "\n",
    "The probability of one of $r$ hashes mismatch is:  \n",
    "\n",
    "$$\\text{prob. one hash mismatch } = 1 - p^r$$\n",
    "\n",
    "Now, the probability that at least 1 of the 𝑟 mini-hashes disagree in the 𝑏 bands:\n",
    "\n",
    "$$\\text{prob. no bands match } = (1-p^r)^b$$\n",
    "\n",
    "Therefore, the probability that the $b$ bands do match, is:\n",
    "\n",
    "$$P(\\geq 1\\text{ match}) = 1-(1-p^r)^b$$\n",
    "\n",
    "For a decision threshold of $1/2$, the decision criteria used is that two variables are a candidate pair if $p \\geq 1/2$. For a fixed value of $n$, the number of mini-hashes, one can tune the mini-hash by choosing $r$ and $b$ to approximately a step function around the true value of $p$. The goal is to find all true candidate pairs while minimizing false positive detections. This requirement dictates that some analysis is required to optimize for specific problems.  \n",
    "\n",
    "The code in the cell below computes and displays the decision curves for a fixed $n$ for various values of ${r,b}$.  "
   ]
  },
  {
   "cell_type": "code",
   "execution_count": 18,
   "metadata": {},
   "outputs": [
    {
     "data": {
      "image/png": "[encoded data removed]",
      "text/plain": [
       "<Figure size 640x480 with 1 Axes>"
      ]
     },
     "metadata": {},
     "output_type": "display_data"
    }
   ],
   "source": [
    "import matplotlib.pyplot as plt\n",
    "n = 200\n",
    "ops = [(2,100),(4,50),(10,20),(20,10),(50,4),(100,2)]\n",
    "yval = lambda p,r,b: 1-(1-p**r)**b\n",
    "pts = np.linspace(0,1,100)\n",
    "for op in ops:\n",
    "    plt.plot(pts, yval(pts,op[0],op[1]), label=op)\n",
    "plt.hlines(0.5,0,1, linestyles ='dashed', colors ='k')\n",
    "plt.vlines(0.5,0,1, linestyles ='-.', colors ='k')\n",
    "plt.legend()\n",
    "plt.xlabel('p')\n",
    "plt.ylabel('Probability')\n",
    "plt.title(\"legend: (r,b). p_true=0.5 (vertical line)\")\n",
    "plt.show()"
   ]
  },
  {
   "cell_type": "markdown",
   "metadata": {},
   "source": [
    "> **Exercise 3-5:** Examine the curves in the plot and provide short . \n",
    "> 1. How does the position of the curve change with values of r and b for a fixed n and how does this change the optimal decision threshold?\n",
    "> 2. How will the rate of true positives and false positives change with r and b? Hint, note how the steepness of the curve changes with r and b.    \n",
    "> **End of exercise.**"
   ]
  },
  {
   "cell_type": "markdown",
   "metadata": {},
   "source": [
    "> **Answers:**    \n",
    "> 1. Increasing r (the number of rows per band) while decreasing b (the number of bands) shifts the curve to the right, vice versa decreasing r and increasing b shifts the curve to the left. This means the probability of a match increases sharply for higher similarity scores. This occurs because larger r values mean that more rows need to match within a band for the documents to be considered similar, which is stricter.\n",
    ">\n",
    "> Around p=0.5 should be optimal in decision threshold, if one creates a step function-like behavior where the decision boundary is sharp around the similarity score of 0.5, balancing finding true positives and potential false positives. This really also depends on the goal the user wants to achieve.\n",
    "\n",
    "> 2. The rate of true positives increases when r is small and b is large, as the curve is positioned to catch more true pairs even with lower similarity scores p. This is seen in the steep, left-shifted curves (e.g.blue and orange curves). Yet, the rate of false positives also increases with small r and large b, as more pairs with lower similarity scores p are likely to be incorrectly considered matches. The trade-off here is between capturing all true positives and avoiding false positives."
   ]
  },
  {
   "cell_type": "markdown",
   "metadata": {},
   "source": [
    "### Finding optimal parameters\n",
    "\n",
    "Consider the variables for the decision problem of determining which pairs of variables are similar:  \n",
    "- $p$, the **crossover point** or **decision point**, values above p are considered similar.   \n",
    "- $b$, the number of bands of the signature matrix.  \n",
    "- $r$, the number of mini-hashes in each band.  \n",
    "- $n$, the number of samples, with $n=br$.\n",
    "\n",
    "For a fixed $n, p$ it is possible to solve for the optimal values r,b. Conversely of a fixed $n,r,b$ we can determine the crossover point $p$ for the decision, $p=f(b,r)$. Let's start with $p=1/2$.\n",
    "$$1/2 = 1-(1-p^r)^b$$\n",
    "$$ 1-p^r = 2^{-1/b}$$\n",
    "$$p = (1-2^{-1/b})^{1/r} = (1-e^{-(1/b)\\ln2})^{1/r} \\approx (1/b)^{1/r}*\\text{const}$$\n",
    "\n",
    "If we fix $r$ and $p$, we can find the required number of bands to be about\n",
    "$b \\approx 1/p^r$\n",
    "\n",
    "You have already scene how changing $r$ and $b$ for a fixed $n$ shifts the decision curve. The code in the cell below plots the decision function curve for several optimal values of $r,b$ with increasing $n$. The values of $r$ are considered optimal since the crossing point, $p=0.5, for each combination. Execute the code and examine the results.      "
   ]
  },
  {
   "cell_type": "code",
   "execution_count": 19,
   "metadata": {},
   "outputs": [
    {
     "data": {
      "image/png": "[encoded data removed]",
      "text/plain": [
       "<Figure size 640x480 with 1 Axes>"
      ]
     },
     "metadata": {},
     "output_type": "display_data"
    }
   ],
   "source": [
    "x = np.linspace(0,1,100) \n",
    "for b,r,col in [(5,3,'r'),(40,6,'b'),(150,8,'g'),(700,10,'b')]:\n",
    "    y = 1-(1-x**r)**b\n",
    "    plt.plot(x,y,c=col,label=f\"b={b},r={r}, n={b*r}\")\n",
    "plt.hlines(0.5,0,1, linestyles ='dashed', colors ='k')\n",
    "plt.vlines(0.5,0,1, linestyles ='-.', colors ='k')\n",
    "plt.legend()\n",
    "plt.xlabel('p')\n",
    "plt.ylabel('Probability')\n",
    "\n",
    "plt.legend()\n",
    "plt.show()"
   ]
  },
  {
   "cell_type": "markdown",
   "metadata": {},
   "source": [
    "> **Exercise 3-6:** Keeping in mind that a steeper curve is a better decision function, for optimal $r,b$, what do these curves tell you about the value of increasing $n$.    \n",
    "> **End of exercise.** "
   ]
  },
  {
   "cell_type": "markdown",
   "metadata": {},
   "source": [
    "> **Answer:** \n",
    "> As n increases, the curves generally become steeper. This is because a higher number of mini-hashes allows for more precise estimation of similarity, reducing variance and improving the reliability of the similarity scores. However, increasing n improves the precision of the LSH algorithm but at the cost of increased compute."
   ]
  },
  {
   "cell_type": "markdown",
   "metadata": {},
   "source": [
    "### LSH with Banded Mini-Hash \n",
    "\n",
    "Let's try a simple example of banded mini-hashing. Specifically, the OR-AND method is applied to a banded signature matrix.       \n",
    "The code in the cell below implements the algorithm is a straight-forward way. While not optimal in terms of computational complexity, the code is intended to make the algorithm clear. The functions provided are:    \n",
    "1. `bandedCandidatePair`, is a function which first computes a logical array of matches between two columns, then divides that array into $b$ bands and determines if any of these bands are all true values, or all matches. The signature matrix is divided into bands using [numpy.array_split](https://numpy.org/doc/stable/reference/generated/numpy.array_split.html). \n",
    "2. `bandedCandidatePairs`, calls the bandedCandidatePair function for each combination of columns, and if that function returns a logical true (a match of at least one band) the keys for the pair are added to the pairs list.\n",
    "\n",
    "Execute the code and examine the results.  "
   ]
  },
  {
   "cell_type": "code",
   "execution_count": 20,
   "metadata": {},
   "outputs": [
    {
     "name": "stdout",
     "output_type": "stream",
     "text": [
      "\n",
      "Pairs found by Jaccard similarity of all shingles: {(0, 4), (3, 4), (1, 4)}\n",
      "Pairs found with LSH: set()\n",
      "Simple MinHash pairs: {(0, 2), (0, 4), (3, 4)}\n"
     ]
    }
   ],
   "source": [
    "def bandedCandidatePair(col1, col2, b, r):\n",
    "    \"\"\"Returns a boolean if the two columns are a candidate pair\n",
    "    inputs must obey n=len(col1)=len(col2)=b*r\"\"\"\n",
    "    n = len(col1)\n",
    "    assert(n==b*r)\n",
    "    assert(n==len(col2))\n",
    "    truth_array = (col1==col2)\n",
    "    return any(all(band) for band in np.array_split(truth_array,b))\n",
    "\n",
    "def bandedCandidatePairs(sig_mat, b, r):\n",
    "    d = sig_mat.shape[1]\n",
    "    idxs = range(d)\n",
    "    cols = [sig_mat[:,i] for i in range(d)]\n",
    "    pairs = set()\n",
    "    for (i,col1), (j,col2) in itertools.combinations(zip(idxs,cols),2):\n",
    "        if bandedCandidatePair(col1,col2,b,r):\n",
    "            pairs.add((i,j))\n",
    "    return pairs\n",
    "\n",
    "# set p = 0.3 arbitrarily\n",
    "p = 0.25\n",
    "n = 120\n",
    "b = 20\n",
    "r = 6\n",
    "\n",
    "# see how many candidate pairs we got right!\n",
    "np.random.seed(57988)\n",
    "sig_mat = hm(doc_shingles, n)\n",
    "true_score_dict = trueSimScores(doc_shingles)\n",
    "\n",
    "print(\"\\nPairs found by Jaccard similarity of all shingles:\",candidatePairs(true_score_dict, p))\n",
    "print(\"Pairs found with LSH:\",bandedCandidatePairs(sig_mat, b, r))\n",
    "print(\"Simple MinHash pairs:\",candidatePairs(approx_score_dict, p))"
   ]
  },
  {
   "cell_type": "markdown",
   "metadata": {},
   "source": [
    "> **Exercise 03-7:** Provide short answers to the following questions:    \n",
    "> 1. Examine the code in the `return` statement of the `bandedCandidatePair` function. Explain why this code implements the OR-AND construction algorithm.  \n",
    "> 2. Compare the candidate pairs found by the three methods. Given the composition of document 4 which errors are made in terms of false positive and false negative by each of the methods, and what does this result tell you about their respective accuracies? "
   ]
  },
  {
   "cell_type": "markdown",
   "metadata": {},
   "source": [
    "> **Answers:** \n",
    "> 1. This is seen in any(all(band) for ...)\n",
    ">\n",
    ">    OR Condition (any): The function returns True if at least one band matches completely.\n",
    ">\n",
    ">    AND Condition (all): A band is considered a match if all the values in that band are equal between the two columns. \n",
    ">\n",
    "> \n",
    "> 2. Jaccard similarity: no false negatives and found all pairs, represents ground truth.\n",
    ">\n",
    ">    LSH: missing all pairs, so 3 false negatives\n",
    ">\n",
    ">    Simple MinHash: 1 false positives (0,2), 1 false negative (1,4) not found.\n",
    ">\n",
    ">    This tells me that LSH is overly conservative and does not find the correct pairs but also did not generate any false positives, while simple MinHash is only somewhat accurate with both false positive and negatives. Jaccard similarity is obviously the most accurate of the three."
   ]
  },
  {
   "cell_type": "markdown",
   "metadata": {},
   "source": [
    "### Efficient LSH algorithm  \n",
    "\n",
    "The banded OR-AND mini-hashing has produced better results than simple mini-hashing. However, the algorithm used required matching $\\frac{n(n-1)}{2}$ or $\\mathcal{O}(n^2)$ matching operations. Clever use of a hash table allows us to create an equivalent algorithm with  $\\mathcal{O}(n)$ time complexity.   \n",
    "\n",
    "The code in the cell below uses a hash table constructed with a [collections.defaultdict](https://docs.python.org/3/library/collections.html#collections.defaultdict) to match candidate pairs. Execute the code and examine the results.   "
   ]
  },
  {
   "cell_type": "code",
   "execution_count": 21,
   "metadata": {},
   "outputs": [
    {
     "name": "stdout",
     "output_type": "stream",
     "text": [
      "True pairs:\t {(0, 4), (3, 4), (1, 4)}\n",
      "LSH pairs:\t set()\n",
      "Fast LSH pairs:\t set()\n",
      "MinHash pairs:\t {(0, 4), (3, 4), (1, 4)}\n"
     ]
    }
   ],
   "source": [
    "def fastCandidatePairs(sig_mat, b, r):\n",
    "    n, d = sig_mat.shape\n",
    "    assert(n==b*r)\n",
    "    hashbuckets = collections.defaultdict(set)\n",
    "    bands = np.array_split(sig_mat, b, axis=0)\n",
    "    for i,band in enumerate(bands):\n",
    "        for j in range(d):\n",
    "            # The last value must be made a string, to prevent accidental\n",
    "            # key collisions of r+1 integers when we really only want\n",
    "            # keys of r integers plus a band index\n",
    "            band_id = tuple(list(band[:,j])+[str(i)])\n",
    "            hashbuckets[band_id].add(j)\n",
    "    candidate_pairs = set()\n",
    "    for bucket in hashbuckets.values():\n",
    "        if len(bucket) > 1:\n",
    "            for pair in itertools.combinations(bucket, 2):\n",
    "                candidate_pairs.add(pair)\n",
    "    return candidate_pairs\n",
    "\n",
    "\n",
    "#p = 0.30\n",
    "p = 0.25\n",
    "n = 120\n",
    "b = 20\n",
    "r = 6\n",
    "\n",
    "# see how many candidate pairs we got right!\n",
    "np.random.seed(1267)\n",
    "sig_mat = hm(doc_shingles, n)\n",
    "true_score_dict = trueSimScores(doc_shingles)\n",
    "approx_score_dict = sigSimScores(sig_mat)\n",
    "print('True pairs:\\t', candidatePairs(true_score_dict, p))\n",
    "print(\"LSH pairs:\\t\", bandedCandidatePairs(sig_mat, b, r))\n",
    "print(\"Fast LSH pairs:\\t\", fastCandidatePairs(sig_mat, b, r))\n",
    "print(\"MinHash pairs:\\t\", candidatePairs(approx_score_dict, p))"
   ]
  },
  {
   "cell_type": "markdown",
   "metadata": {},
   "source": [
    "> **Exercise 03-8:** Examine the `fastCandidatePairs` function. Explain why this algorithm is equivalent to the OR-AND construction examined for Exercise 03-6, but yet can run in $O(n)$ time.    \n",
    "> **End of Exercise.**"
   ]
  },
  {
   "cell_type": "markdown",
   "metadata": {},
   "source": [
    "> **Answer:**  The fastCandidatePairs function achieves the same as OR-AND by hashing documents into buckets based on bands. If all elements in a band match, documents hash to the same bucket. If multiple documents hash to the same bucket, they are considered candidate pairs. Thus, fastCandidatePairs implements the same logic: documents are compared band-by-band (AND within bands) and only need to match in one band to be considered a candidate pair (OR across bands).\n",
    ">\n",
    "> Improved efficiency is due to the use of hash tables, inserting each document's band into a hash table is an O(1) operation, making the entire hashing process \n",
    "O(n) for all documents.   "
   ]
  },
  {
   "cell_type": "markdown",
   "metadata": {},
   "source": [
    "> **Exercise 03-9:** The LSH and fast LSH algorithms both make the same error in this case. Is there an efficient way to improve on this result? Yes. We can take advantage of the fact that most similar pairs hash to the same bucket, we can do the following:    \n",
    "> 1. Find the full Jacard similarities of only the pairs in the bucket. The limited number of pairs candidates makes this calculation efficient.    \n",
    "> 2. Filter the full Jarard similarities by a threshold.       \n",
    "> Examine and execute the code in the cell below.   "
   ]
  },
  {
   "cell_type": "code",
   "execution_count": 24,
   "metadata": {},
   "outputs": [
    {
     "name": "stdout",
     "output_type": "stream",
     "text": [
      "The similaritiy of the pairs in the bucket = []\n",
      "**True similarity scores**\n",
      "Pair\tScore\n",
      "--------------\n"
     ]
    }
   ],
   "source": [
    "pair_labels = []\n",
    "pair_sims = []\n",
    "for x1, x2 in bandedCandidatePairs(sig_mat, b, r):\n",
    "    pair_labels.append((x1,x2))\n",
    "    pair_sims.append(jaccardSim(doc_shingles[x1],doc_shingles[x2]))\n",
    "    \n",
    "print('The similaritiy of the pairs in the bucket = ' + str(np.round(pair_sims, 3)))\n",
    "threshold = 0.25\n",
    "print(f\"**True similarity scores**\")\n",
    "print(\"Pair\\tScore\")\n",
    "print(\"-\"*14)\n",
    "for pair, score in zip(pair_labels, pair_sims):\n",
    "    if score > threshold: print(f\"{pair}\\t{score:.3f}\")"
   ]
  },
  {
   "cell_type": "markdown",
   "metadata": {},
   "source": [
    "> This simple algorithm has filtered out false positive errors. Explain why this approach is compuationally efficeint compare to testing pairwise similarities.  "
   ]
  },
  {
   "cell_type": "markdown",
   "metadata": {},
   "source": [
    "> **Answer:**     For some reason my LSH algorithms did not yield any pairs, and I understand this code is intended to filter out false positives, so I the answer is in theory and not directly confirmed by the output.\n",
    ">\n",
    "> The bandedCandidatePairs function quickly identifies pairs of documents that are likely to be similar by hashing their signature matrices into buckets. Only pairs that fall into the same bucket are considered candidate pairs.  Instead of comparing every possible pair, which would be computationally expensive (O(n^2)), LSH narrows it down to a much smaller subset of likely candidates with approx. (O(n)). Then, only the pairs identified by the LSH step are further evaluated using the full Jaccard similarity and filtered by threshold, which should be linear in complexity with respect to number of candidate pairs. Overall the algorithm filters out false positives while also increasing computational efficiency."
   ]
  },
  {
   "cell_type": "markdown",
   "metadata": {},
   "source": [
    "#### Copywrite 2022, 2023, 2024 Stephen F Elston. All rights reserved.  "
   ]
  },
  {
   "cell_type": "code",
   "execution_count": null,
   "metadata": {},
   "outputs": [],
   "source": []
  }
 ],
 "metadata": {
  "kernelspec": {
   "display_name": "Python 3 (ipykernel)",
   "language": "python",
   "name": "python3"
  },
  "language_info": {
   "codemirror_mode": {
    "name": "ipython",
    "version": 3
   },
   "file_extension": ".py",
   "mimetype": "text/x-python",
   "name": "python",
   "nbconvert_exporter": "python",
   "pygments_lexer": "ipython3",
   "version": "3.10.13"
  }
 },
 "nbformat": 4,
 "nbformat_minor": 4
}
